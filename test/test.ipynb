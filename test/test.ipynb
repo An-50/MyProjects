{
 "cells": [
  {
   "cell_type": "markdown",
   "metadata": {
    "toc": true
   },
   "source": [
    "<h1>Содержание<span class=\"tocSkip\"></span></h1>\n",
    "<div class=\"toc\"><ul class=\"toc-item\"><li><span><a href=\"#Загрузка-данных\" data-toc-modified-id=\"Загрузка-данных-1\"><span class=\"toc-item-num\">1&nbsp;&nbsp;</span>Загрузка данных</a></span><ul class=\"toc-item\"><li><span><a href=\"#Импорт-библиотек\" data-toc-modified-id=\"Импорт-библиотек-1.1\"><span class=\"toc-item-num\">1.1&nbsp;&nbsp;</span>Импорт библиотек</a></span></li><li><span><a href=\"#Загружаем-данные\" data-toc-modified-id=\"Загружаем-данные-1.2\"><span class=\"toc-item-num\">1.2&nbsp;&nbsp;</span>Загружаем данные</a></span></li><li><span><a href=\"#Удаляем-пустые-колонки\" data-toc-modified-id=\"Удаляем-пустые-колонки-1.3\"><span class=\"toc-item-num\">1.3&nbsp;&nbsp;</span>Удаляем пустые колонки</a></span></li><li><span><a href=\"#Проверка-корректности-типов-данных-и-их-замена\" data-toc-modified-id=\"Проверка-корректности-типов-данных-и-их-замена-1.4\"><span class=\"toc-item-num\">1.4&nbsp;&nbsp;</span>Проверка корректности типов данных и их замена</a></span></li></ul></li></ul></div>"
   ]
  },
  {
   "cell_type": "markdown",
   "metadata": {},
   "source": [
    "# Тест"
   ]
  },
  {
   "cell_type": "markdown",
   "metadata": {},
   "source": [
    "## Загрузка данных"
   ]
  },
  {
   "cell_type": "markdown",
   "metadata": {},
   "source": [
    "### Импорт библиотек"
   ]
  },
  {
   "cell_type": "code",
   "execution_count": 1,
   "metadata": {
    "scrolled": false
   },
   "outputs": [],
   "source": [
    "import os\n",
    "import pandas as pd\n",
    "import math\n",
    "import seaborn as sns\n",
    "import matplotlib.pyplot as plt\n",
    "import numpy as np\n",
    "import datetime\n",
    "import plotly\n",
    "\n",
    "from plotly import graph_objects as go\n",
    "from pandas.plotting import register_matplotlib_converters\n",
    "register_matplotlib_converters()\n",
    "\n",
    "import warnings\n",
    "warnings.filterwarnings('ignore')\n",
    "\n",
    "pd.set_option('display.max_columns', 65) #устанавливаем максимальное число отображаемых колонок\n",
    "pd.set_option('display.max_rows', 70)\n",
    "pd.set_option('max_colwidth', 1)\n",
    "# pd.set_option('display.float_format', lambda x: '%.2f' % x)\n",
    "\n",
    "def load_csv_choose_path(file):\n",
    "    if os.path.exists(file):\n",
    "        db = pd.read_csv(file, sep = ';')\n",
    "    elif os.path.exists('/datasets/'+file):\n",
    "        db = pd.read_csv('/datasets/'+file, sep = ',')\n",
    "    else:\n",
    "        raise FileNotFoundError(file)\n",
    "    return db"
   ]
  },
  {
   "cell_type": "code",
   "execution_count": 2,
   "metadata": {},
   "outputs": [
    {
     "name": "stdout",
     "output_type": "stream",
     "text": [
      "1.3.5\n"
     ]
    }
   ],
   "source": [
    "print (pd.__version__) #проверка версии Pandas"
   ]
  },
  {
   "cell_type": "markdown",
   "metadata": {},
   "source": [
    "### Загружаем данные"
   ]
  },
  {
   "cell_type": "code",
   "execution_count": 3,
   "metadata": {},
   "outputs": [],
   "source": [
    "data = load_csv_choose_path('dataset.csv')"
   ]
  },
  {
   "cell_type": "code",
   "execution_count": 4,
   "metadata": {
    "scrolled": false
   },
   "outputs": [
    {
     "name": "stdout",
     "output_type": "stream",
     "text": [
      "<class 'pandas.core.frame.DataFrame'>\n",
      "RangeIndex: 60950 entries, 0 to 60949\n",
      "Data columns (total 61 columns):\n",
      " #   Column                                                           Non-Null Count  Dtype  \n",
      "---  ------                                                           --------------  -----  \n",
      " 0   Название курса                                                   60950 non-null  object \n",
      " 1   Идентификатор курса                                              60950 non-null  object \n",
      " 2   Дата последнего обновления структуры курса                       60950 non-null  object \n",
      " 3   Группа курса                                                     0 non-null      float64\n",
      " 4   Менеджеры курса                                                  0 non-null      float64\n",
      " 5   Номер темы                                                       0 non-null      float64\n",
      " 6   ID обучающегося в курсе                                          60950 non-null  int64  \n",
      " 7   Идентификатор обучающегося                                       60950 non-null  object \n",
      " 8   ФИО                                                              60950 non-null  object \n",
      " 9   В какой сущности потерялся                                       25875 non-null  object \n",
      " 10  Дата завершения курса                                            36915 non-null  object \n",
      " 11  Прогресс по курсу                                                60950 non-null  object \n",
      " 12  Дата получения прогресса >= 80% по курсу                         53820 non-null  object \n",
      " 13  Результат по курсу                                               60950 non-null  object \n",
      " 14  Дата начала изучения курса                                       54740 non-null  object \n",
      " 15  Статус по курсу                                                  60950 non-null  object \n",
      " 16  Средняя оценка, выставленная за курс                             60950 non-null  object \n",
      " 17  Последняя выставленная оценка курсу                              60950 non-null  object \n",
      " 18  Дата последней выставленной оценки                               0 non-null      float64\n",
      " 19  Комментарий                                                      0 non-null      float64\n",
      " 20  Дата комментария                                                 0 non-null      float64\n",
      " 21  Количество входов в курс                                         60950 non-null  int64  \n",
      " 22  Количество неактивных дней в курсе                               60950 non-null  int64  \n",
      " 23  Последний вход в курс                                            54740 non-null  object \n",
      " 24  Время изучения курса                                             60950 non-null  object \n",
      " 25  Время повторения курса                                           60950 non-null  object \n",
      " 26  Общее время в курсе                                              60950 non-null  object \n",
      " 27  Количество сессий всего                                          60950 non-null  int64  \n",
      " 28  Количество сессий изучения курса                                 60950 non-null  int64  \n",
      " 29  Количество сессий повторения курса                               60950 non-null  int64  \n",
      " 30  Среднее время сессии изучения курса                              60950 non-null  object \n",
      " 31  Среднее время сессии повторения курса                            60950 non-null  object \n",
      " 32  Идентификатор по сущности                                        60950 non-null  object \n",
      " 33  Уровень сущности                                                 60950 non-null  int64  \n",
      " 34  Название сущности                                                60950 non-null  object \n",
      " 35  Полное название сущности (с названиями всех родителей)           60950 non-null  object \n",
      " 36  Порядок сущности                                                 60950 non-null  int64  \n",
      " 37  Тип контента сущности                                            60950 non-null  object \n",
      " 38  ID родительской сущности                                         56710 non-null  float64\n",
      " 39  Название родительской сущности                                   56710 non-null  object \n",
      " 40  Идентификатор по родительской сущности                           56710 non-null  object \n",
      " 41  Количество прохождений сущности на 100% после прохождения курса  60950 non-null  int64  \n",
      " 42  Количество перепрохождений сущности на 100%                      60950 non-null  int64  \n",
      " 43  Дата последнего passed в сущности                                40883 non-null  object \n",
      " 44  Прогресс по сущности                                             60950 non-null  object \n",
      " 45  Дата завершения сущности                                         40700 non-null  object \n",
      " 46  Отказы по сущности                                               60950 non-null  int64  \n",
      " 47  Результат по сущности                                            60950 non-null  object \n",
      " 48  Дата начала изучения сущности                                    42825 non-null  object \n",
      " 49  Статус по сущности                                               60950 non-null  object \n",
      " 50  Время изучения сущности                                          60950 non-null  object \n",
      " 51  Время повторения сущности                                        60950 non-null  object \n",
      " 52  Всё время проведенное в сущности                                 60950 non-null  object \n",
      " 53  Попытки повторения по сущности                                   60950 non-null  int64  \n",
      " 54  Попытки изучения по сущности                                     60950 non-null  int64  \n",
      " 55  Все попытки по сущности                                          60950 non-null  int64  \n",
      " 56  Дата назначения курса                                            41400 non-null  object \n",
      " 57  Плановый срок изучения курса                                     0 non-null      float64\n",
      " 58  Джоб-код назначения                                              0 non-null      float64\n",
      " 59  Статус назначения                                                0 non-null      float64\n",
      " 60  Дата составления отчета                                          60950 non-null  object \n",
      "dtypes: float64(10), int64(14), object(37)\n",
      "memory usage: 28.4+ MB\n"
     ]
    },
    {
     "data": {
      "text/plain": [
       "None"
      ]
     },
     "metadata": {},
     "output_type": "display_data"
    }
   ],
   "source": [
    "display(data.info())"
   ]
  },
  {
   "cell_type": "code",
   "execution_count": 5,
   "metadata": {
    "scrolled": false
   },
   "outputs": [
    {
     "data": {
      "text/plain": [
       "Название курса                                                     0.000000  \n",
       "Идентификатор курса                                                0.000000  \n",
       "Дата последнего обновления структуры курса                         0.000000  \n",
       "Группа курса                                                       100.000000\n",
       "Менеджеры курса                                                    100.000000\n",
       "Номер темы                                                         100.000000\n",
       "ID обучающегося в курсе                                            0.000000  \n",
       "Идентификатор обучающегося                                         0.000000  \n",
       "ФИО                                                                0.000000  \n",
       "В какой сущности потерялся                                         57.547170 \n",
       "Дата завершения курса                                              39.433962 \n",
       "Прогресс по курсу                                                  0.000000  \n",
       "Дата получения прогресса >= 80% по курсу                           11.698113 \n",
       "Результат по курсу                                                 0.000000  \n",
       "Дата начала изучения курса                                         10.188679 \n",
       "Статус по курсу                                                    0.000000  \n",
       "Средняя оценка, выставленная за курс                               0.000000  \n",
       "Последняя выставленная оценка курсу                                0.000000  \n",
       "Дата последней выставленной оценки                                 100.000000\n",
       "Комментарий                                                        100.000000\n",
       "Дата комментария                                                   100.000000\n",
       "Количество входов в курс                                           0.000000  \n",
       "Количество неактивных дней в курсе                                 0.000000  \n",
       "Последний вход в курс                                              10.188679 \n",
       "Время изучения курса                                               0.000000  \n",
       "Время повторения курса                                             0.000000  \n",
       "Общее время в курсе                                                0.000000  \n",
       "Количество сессий всего                                            0.000000  \n",
       "Количество сессий изучения курса                                   0.000000  \n",
       "Количество сессий повторения курса                                 0.000000  \n",
       "Среднее время сессии изучения курса                                0.000000  \n",
       "Среднее время сессии повторения курса                              0.000000  \n",
       "Идентификатор по сущности                                          0.000000  \n",
       "Уровень сущности                                                   0.000000  \n",
       "Название сущности                                                  0.000000  \n",
       "Полное название сущности (с названиями всех родителей)             0.000000  \n",
       "Порядок сущности                                                   0.000000  \n",
       "Тип контента сущности                                              0.000000  \n",
       "ID родительской сущности                                           6.956522  \n",
       "Название родительской сущности                                     6.956522  \n",
       "Идентификатор по родительской сущности                             6.956522  \n",
       "Количество прохождений сущности на 100% после прохождения курса    0.000000  \n",
       "Количество перепрохождений сущности на 100%                        0.000000  \n",
       "Дата последнего passed в сущности                                  32.923708 \n",
       "Прогресс по сущности                                               0.000000  \n",
       "Дата завершения сущности                                           33.223954 \n",
       "Отказы по сущности                                                 0.000000  \n",
       "Результат по сущности                                              0.000000  \n",
       "Дата начала изучения сущности                                      29.737490 \n",
       "Статус по сущности                                                 0.000000  \n",
       "Время изучения сущности                                            0.000000  \n",
       "Время повторения сущности                                          0.000000  \n",
       "Всё время проведенное в сущности                                   0.000000  \n",
       "Попытки повторения по сущности                                     0.000000  \n",
       "Попытки изучения по сущности                                       0.000000  \n",
       "Все попытки по сущности                                            0.000000  \n",
       "Дата назначения курса                                              32.075472 \n",
       "Плановый срок изучения курса                                       100.000000\n",
       "Джоб-код назначения                                                100.000000\n",
       "Статус назначения                                                  100.000000\n",
       "Дата составления отчета                                            0.000000  \n",
       "dtype: float64"
      ]
     },
     "execution_count": 5,
     "metadata": {},
     "output_type": "execute_result"
    }
   ],
   "source": [
    "# смотрим пропущеный значения в %\n",
    "data.isnull().sum()/data.shape[0]*100"
   ]
  },
  {
   "cell_type": "code",
   "execution_count": 6,
   "metadata": {},
   "outputs": [
    {
     "data": {
      "text/html": [
       "<div>\n",
       "<style scoped>\n",
       "    .dataframe tbody tr th:only-of-type {\n",
       "        vertical-align: middle;\n",
       "    }\n",
       "\n",
       "    .dataframe tbody tr th {\n",
       "        vertical-align: top;\n",
       "    }\n",
       "\n",
       "    .dataframe thead th {\n",
       "        text-align: right;\n",
       "    }\n",
       "</style>\n",
       "<table border=\"1\" class=\"dataframe\">\n",
       "  <thead>\n",
       "    <tr style=\"text-align: right;\">\n",
       "      <th></th>\n",
       "      <th>Название курса</th>\n",
       "      <th>Идентификатор курса</th>\n",
       "      <th>Дата последнего обновления структуры курса</th>\n",
       "      <th>Группа курса</th>\n",
       "      <th>Менеджеры курса</th>\n",
       "      <th>Номер темы</th>\n",
       "      <th>ID обучающегося в курсе</th>\n",
       "      <th>Идентификатор обучающегося</th>\n",
       "      <th>ФИО</th>\n",
       "      <th>В какой сущности потерялся</th>\n",
       "      <th>Дата завершения курса</th>\n",
       "      <th>Прогресс по курсу</th>\n",
       "      <th>Дата получения прогресса &gt;= 80% по курсу</th>\n",
       "      <th>Результат по курсу</th>\n",
       "      <th>Дата начала изучения курса</th>\n",
       "      <th>Статус по курсу</th>\n",
       "      <th>Средняя оценка, выставленная за курс</th>\n",
       "      <th>Последняя выставленная оценка курсу</th>\n",
       "      <th>Дата последней выставленной оценки</th>\n",
       "      <th>Комментарий</th>\n",
       "      <th>Дата комментария</th>\n",
       "      <th>Количество входов в курс</th>\n",
       "      <th>Количество неактивных дней в курсе</th>\n",
       "      <th>Последний вход в курс</th>\n",
       "      <th>Время изучения курса</th>\n",
       "      <th>Время повторения курса</th>\n",
       "      <th>Общее время в курсе</th>\n",
       "      <th>Количество сессий всего</th>\n",
       "      <th>Количество сессий изучения курса</th>\n",
       "      <th>Количество сессий повторения курса</th>\n",
       "      <th>Среднее время сессии изучения курса</th>\n",
       "      <th>Среднее время сессии повторения курса</th>\n",
       "      <th>Идентификатор по сущности</th>\n",
       "      <th>Уровень сущности</th>\n",
       "      <th>Название сущности</th>\n",
       "      <th>Полное название сущности (с названиями всех родителей)</th>\n",
       "      <th>Порядок сущности</th>\n",
       "      <th>Тип контента сущности</th>\n",
       "      <th>ID родительской сущности</th>\n",
       "      <th>Название родительской сущности</th>\n",
       "      <th>Идентификатор по родительской сущности</th>\n",
       "      <th>Количество прохождений сущности на 100% после прохождения курса</th>\n",
       "      <th>Количество перепрохождений сущности на 100%</th>\n",
       "      <th>Дата последнего passed в сущности</th>\n",
       "      <th>Прогресс по сущности</th>\n",
       "      <th>Дата завершения сущности</th>\n",
       "      <th>Отказы по сущности</th>\n",
       "      <th>Результат по сущности</th>\n",
       "      <th>Дата начала изучения сущности</th>\n",
       "      <th>Статус по сущности</th>\n",
       "      <th>Время изучения сущности</th>\n",
       "      <th>Время повторения сущности</th>\n",
       "      <th>Всё время проведенное в сущности</th>\n",
       "      <th>Попытки повторения по сущности</th>\n",
       "      <th>Попытки изучения по сущности</th>\n",
       "      <th>Все попытки по сущности</th>\n",
       "      <th>Дата назначения курса</th>\n",
       "      <th>Плановый срок изучения курса</th>\n",
       "      <th>Джоб-код назначения</th>\n",
       "      <th>Статус назначения</th>\n",
       "      <th>Дата составления отчета</th>\n",
       "    </tr>\n",
       "  </thead>\n",
       "  <tbody>\n",
       "    <tr>\n",
       "      <th>0</th>\n",
       "      <td>id 116 Анализ информации от 03.08.2021</td>\n",
       "      <td>https://urbanlearning.mguu.ru/xapi/course/116</td>\n",
       "      <td>2021-10-12 13:50:41</td>\n",
       "      <td>NaN</td>\n",
       "      <td>NaN</td>\n",
       "      <td>NaN</td>\n",
       "      <td>3164539</td>\n",
       "      <td>28197@https://urbanlearning.mguu.ru/users</td>\n",
       "      <td>Н/Д</td>\n",
       "      <td>NaN</td>\n",
       "      <td>NaN</td>\n",
       "      <td>0%</td>\n",
       "      <td>NaN</td>\n",
       "      <td>0%</td>\n",
       "      <td>NaN</td>\n",
       "      <td>Не изучал</td>\n",
       "      <td>0,00</td>\n",
       "      <td>0,00</td>\n",
       "      <td>NaN</td>\n",
       "      <td>NaN</td>\n",
       "      <td>NaN</td>\n",
       "      <td>0</td>\n",
       "      <td>0</td>\n",
       "      <td>NaN</td>\n",
       "      <td>00:00:00</td>\n",
       "      <td>00:00:00</td>\n",
       "      <td>00:00:00</td>\n",
       "      <td>0</td>\n",
       "      <td>0</td>\n",
       "      <td>0</td>\n",
       "      <td>00:00:00</td>\n",
       "      <td>00:00:00</td>\n",
       "      <td>https://urbanlearning.mguu.ru/xapi/blocks/555</td>\n",
       "      <td>0</td>\n",
       "      <td>Введение</td>\n",
       "      <td>Введение</td>\n",
       "      <td>0</td>\n",
       "      <td>Глава</td>\n",
       "      <td>NaN</td>\n",
       "      <td>NaN</td>\n",
       "      <td>NaN</td>\n",
       "      <td>0</td>\n",
       "      <td>0</td>\n",
       "      <td>NaN</td>\n",
       "      <td>0%</td>\n",
       "      <td>NaN</td>\n",
       "      <td>0</td>\n",
       "      <td>0%</td>\n",
       "      <td>NaN</td>\n",
       "      <td>Не приступал</td>\n",
       "      <td>00:00:00</td>\n",
       "      <td>00:00:00</td>\n",
       "      <td>00:00:00</td>\n",
       "      <td>0</td>\n",
       "      <td>0</td>\n",
       "      <td>0</td>\n",
       "      <td>2021-07-28 18:12:46</td>\n",
       "      <td>NaN</td>\n",
       "      <td>NaN</td>\n",
       "      <td>NaN</td>\n",
       "      <td>01.11.2021</td>\n",
       "    </tr>\n",
       "    <tr>\n",
       "      <th>1</th>\n",
       "      <td>id 116 Анализ информации от 03.08.2021</td>\n",
       "      <td>https://urbanlearning.mguu.ru/xapi/course/116</td>\n",
       "      <td>2021-10-12 13:50:41</td>\n",
       "      <td>NaN</td>\n",
       "      <td>NaN</td>\n",
       "      <td>NaN</td>\n",
       "      <td>3164539</td>\n",
       "      <td>28197@https://urbanlearning.mguu.ru/users</td>\n",
       "      <td>Н/Д</td>\n",
       "      <td>NaN</td>\n",
       "      <td>NaN</td>\n",
       "      <td>0%</td>\n",
       "      <td>NaN</td>\n",
       "      <td>0%</td>\n",
       "      <td>NaN</td>\n",
       "      <td>Не изучал</td>\n",
       "      <td>0,00</td>\n",
       "      <td>0,00</td>\n",
       "      <td>NaN</td>\n",
       "      <td>NaN</td>\n",
       "      <td>NaN</td>\n",
       "      <td>0</td>\n",
       "      <td>0</td>\n",
       "      <td>NaN</td>\n",
       "      <td>00:00:00</td>\n",
       "      <td>00:00:00</td>\n",
       "      <td>00:00:00</td>\n",
       "      <td>0</td>\n",
       "      <td>0</td>\n",
       "      <td>0</td>\n",
       "      <td>00:00:00</td>\n",
       "      <td>00:00:00</td>\n",
       "      <td>https://start.mguu.moscow/xapi/analiz_info/vvedenie</td>\n",
       "      <td>1</td>\n",
       "      <td>Введение</td>\n",
       "      <td>Введение &gt; Введение</td>\n",
       "      <td>1</td>\n",
       "      <td>Подглава</td>\n",
       "      <td>13571.0</td>\n",
       "      <td>Введение</td>\n",
       "      <td>https://urbanlearning.mguu.ru/xapi/blocks/555</td>\n",
       "      <td>0</td>\n",
       "      <td>0</td>\n",
       "      <td>NaN</td>\n",
       "      <td>0%</td>\n",
       "      <td>NaN</td>\n",
       "      <td>0</td>\n",
       "      <td>0%</td>\n",
       "      <td>NaN</td>\n",
       "      <td>Не приступал</td>\n",
       "      <td>00:00:00</td>\n",
       "      <td>00:00:00</td>\n",
       "      <td>00:00:00</td>\n",
       "      <td>0</td>\n",
       "      <td>0</td>\n",
       "      <td>0</td>\n",
       "      <td>2021-07-28 18:12:46</td>\n",
       "      <td>NaN</td>\n",
       "      <td>NaN</td>\n",
       "      <td>NaN</td>\n",
       "      <td>01.11.2021</td>\n",
       "    </tr>\n",
       "    <tr>\n",
       "      <th>2</th>\n",
       "      <td>id 116 Анализ информации от 03.08.2021</td>\n",
       "      <td>https://urbanlearning.mguu.ru/xapi/course/116</td>\n",
       "      <td>2021-10-12 13:50:41</td>\n",
       "      <td>NaN</td>\n",
       "      <td>NaN</td>\n",
       "      <td>NaN</td>\n",
       "      <td>3164539</td>\n",
       "      <td>28197@https://urbanlearning.mguu.ru/users</td>\n",
       "      <td>Н/Д</td>\n",
       "      <td>NaN</td>\n",
       "      <td>NaN</td>\n",
       "      <td>0%</td>\n",
       "      <td>NaN</td>\n",
       "      <td>0%</td>\n",
       "      <td>NaN</td>\n",
       "      <td>Не изучал</td>\n",
       "      <td>0,00</td>\n",
       "      <td>0,00</td>\n",
       "      <td>NaN</td>\n",
       "      <td>NaN</td>\n",
       "      <td>NaN</td>\n",
       "      <td>0</td>\n",
       "      <td>0</td>\n",
       "      <td>NaN</td>\n",
       "      <td>00:00:00</td>\n",
       "      <td>00:00:00</td>\n",
       "      <td>00:00:00</td>\n",
       "      <td>0</td>\n",
       "      <td>0</td>\n",
       "      <td>0</td>\n",
       "      <td>00:00:00</td>\n",
       "      <td>00:00:00</td>\n",
       "      <td>https://start.mguu.moscow/xapi/analiz_info/vvedenie/longread</td>\n",
       "      <td>2</td>\n",
       "      <td>Введение</td>\n",
       "      <td>Введение &gt; Введение &gt; Введение</td>\n",
       "      <td>0</td>\n",
       "      <td>Лонгрид</td>\n",
       "      <td>13572.0</td>\n",
       "      <td>Введение</td>\n",
       "      <td>https://start.mguu.moscow/xapi/analiz_info/vvedenie</td>\n",
       "      <td>0</td>\n",
       "      <td>0</td>\n",
       "      <td>NaN</td>\n",
       "      <td>0%</td>\n",
       "      <td>NaN</td>\n",
       "      <td>0</td>\n",
       "      <td>0%</td>\n",
       "      <td>NaN</td>\n",
       "      <td>Не приступал</td>\n",
       "      <td>00:00:00</td>\n",
       "      <td>00:00:00</td>\n",
       "      <td>00:00:00</td>\n",
       "      <td>0</td>\n",
       "      <td>0</td>\n",
       "      <td>0</td>\n",
       "      <td>2021-07-28 18:12:46</td>\n",
       "      <td>NaN</td>\n",
       "      <td>NaN</td>\n",
       "      <td>NaN</td>\n",
       "      <td>01.11.2021</td>\n",
       "    </tr>\n",
       "    <tr>\n",
       "      <th>3</th>\n",
       "      <td>id 116 Анализ информации от 03.08.2021</td>\n",
       "      <td>https://urbanlearning.mguu.ru/xapi/course/116</td>\n",
       "      <td>2021-10-12 13:50:41</td>\n",
       "      <td>NaN</td>\n",
       "      <td>NaN</td>\n",
       "      <td>NaN</td>\n",
       "      <td>3164539</td>\n",
       "      <td>28197@https://urbanlearning.mguu.ru/users</td>\n",
       "      <td>Н/Д</td>\n",
       "      <td>NaN</td>\n",
       "      <td>NaN</td>\n",
       "      <td>0%</td>\n",
       "      <td>NaN</td>\n",
       "      <td>0%</td>\n",
       "      <td>NaN</td>\n",
       "      <td>Не изучал</td>\n",
       "      <td>0,00</td>\n",
       "      <td>0,00</td>\n",
       "      <td>NaN</td>\n",
       "      <td>NaN</td>\n",
       "      <td>NaN</td>\n",
       "      <td>0</td>\n",
       "      <td>0</td>\n",
       "      <td>NaN</td>\n",
       "      <td>00:00:00</td>\n",
       "      <td>00:00:00</td>\n",
       "      <td>00:00:00</td>\n",
       "      <td>0</td>\n",
       "      <td>0</td>\n",
       "      <td>0</td>\n",
       "      <td>00:00:00</td>\n",
       "      <td>00:00:00</td>\n",
       "      <td>https://start.mguu.moscow/xapi/analiz_info/vvedenie/quest</td>\n",
       "      <td>2</td>\n",
       "      <td>Финальное задание</td>\n",
       "      <td>Введение &gt; Введение &gt; Финальное задание</td>\n",
       "      <td>1</td>\n",
       "      <td>Тест</td>\n",
       "      <td>13572.0</td>\n",
       "      <td>Введение</td>\n",
       "      <td>https://start.mguu.moscow/xapi/analiz_info/vvedenie</td>\n",
       "      <td>0</td>\n",
       "      <td>0</td>\n",
       "      <td>NaN</td>\n",
       "      <td>0%</td>\n",
       "      <td>NaN</td>\n",
       "      <td>0</td>\n",
       "      <td>0%</td>\n",
       "      <td>NaN</td>\n",
       "      <td>Не приступал</td>\n",
       "      <td>00:00:00</td>\n",
       "      <td>00:00:00</td>\n",
       "      <td>00:00:00</td>\n",
       "      <td>0</td>\n",
       "      <td>0</td>\n",
       "      <td>0</td>\n",
       "      <td>2021-07-28 18:12:46</td>\n",
       "      <td>NaN</td>\n",
       "      <td>NaN</td>\n",
       "      <td>NaN</td>\n",
       "      <td>01.11.2021</td>\n",
       "    </tr>\n",
       "    <tr>\n",
       "      <th>4</th>\n",
       "      <td>id 116 Анализ информации от 03.08.2021</td>\n",
       "      <td>https://urbanlearning.mguu.ru/xapi/course/116</td>\n",
       "      <td>2021-10-12 13:50:41</td>\n",
       "      <td>NaN</td>\n",
       "      <td>NaN</td>\n",
       "      <td>NaN</td>\n",
       "      <td>3164539</td>\n",
       "      <td>28197@https://urbanlearning.mguu.ru/users</td>\n",
       "      <td>Н/Д</td>\n",
       "      <td>NaN</td>\n",
       "      <td>NaN</td>\n",
       "      <td>0%</td>\n",
       "      <td>NaN</td>\n",
       "      <td>0%</td>\n",
       "      <td>NaN</td>\n",
       "      <td>Не изучал</td>\n",
       "      <td>0,00</td>\n",
       "      <td>0,00</td>\n",
       "      <td>NaN</td>\n",
       "      <td>NaN</td>\n",
       "      <td>NaN</td>\n",
       "      <td>0</td>\n",
       "      <td>0</td>\n",
       "      <td>NaN</td>\n",
       "      <td>00:00:00</td>\n",
       "      <td>00:00:00</td>\n",
       "      <td>00:00:00</td>\n",
       "      <td>0</td>\n",
       "      <td>0</td>\n",
       "      <td>0</td>\n",
       "      <td>00:00:00</td>\n",
       "      <td>00:00:00</td>\n",
       "      <td>https://urbanlearning.mguu.ru/xapi/activities/2228</td>\n",
       "      <td>1</td>\n",
       "      <td>Дорожный дневник</td>\n",
       "      <td>Введение &gt; Дорожный дневник</td>\n",
       "      <td>2</td>\n",
       "      <td>Проверка заданий</td>\n",
       "      <td>13571.0</td>\n",
       "      <td>Введение</td>\n",
       "      <td>https://urbanlearning.mguu.ru/xapi/blocks/555</td>\n",
       "      <td>0</td>\n",
       "      <td>0</td>\n",
       "      <td>NaN</td>\n",
       "      <td>0%</td>\n",
       "      <td>NaN</td>\n",
       "      <td>0</td>\n",
       "      <td>0%</td>\n",
       "      <td>NaN</td>\n",
       "      <td>Не приступал</td>\n",
       "      <td>00:00:00</td>\n",
       "      <td>00:00:00</td>\n",
       "      <td>00:00:00</td>\n",
       "      <td>0</td>\n",
       "      <td>0</td>\n",
       "      <td>0</td>\n",
       "      <td>2021-07-28 18:12:46</td>\n",
       "      <td>NaN</td>\n",
       "      <td>NaN</td>\n",
       "      <td>NaN</td>\n",
       "      <td>01.11.2021</td>\n",
       "    </tr>\n",
       "    <tr>\n",
       "      <th>5</th>\n",
       "      <td>id 116 Анализ информации от 03.08.2021</td>\n",
       "      <td>https://urbanlearning.mguu.ru/xapi/course/116</td>\n",
       "      <td>2021-10-12 13:50:41</td>\n",
       "      <td>NaN</td>\n",
       "      <td>NaN</td>\n",
       "      <td>NaN</td>\n",
       "      <td>3164539</td>\n",
       "      <td>28197@https://urbanlearning.mguu.ru/users</td>\n",
       "      <td>Н/Д</td>\n",
       "      <td>NaN</td>\n",
       "      <td>NaN</td>\n",
       "      <td>0%</td>\n",
       "      <td>NaN</td>\n",
       "      <td>0%</td>\n",
       "      <td>NaN</td>\n",
       "      <td>Не изучал</td>\n",
       "      <td>0,00</td>\n",
       "      <td>0,00</td>\n",
       "      <td>NaN</td>\n",
       "      <td>NaN</td>\n",
       "      <td>NaN</td>\n",
       "      <td>0</td>\n",
       "      <td>0</td>\n",
       "      <td>NaN</td>\n",
       "      <td>00:00:00</td>\n",
       "      <td>00:00:00</td>\n",
       "      <td>00:00:00</td>\n",
       "      <td>0</td>\n",
       "      <td>0</td>\n",
       "      <td>0</td>\n",
       "      <td>00:00:00</td>\n",
       "      <td>00:00:00</td>\n",
       "      <td>https://start.mguu.moscow/xapi/analiz_info/block1_fin_test</td>\n",
       "      <td>1</td>\n",
       "      <td>Финальное испытание</td>\n",
       "      <td>Введение &gt; Финальное испытание</td>\n",
       "      <td>3</td>\n",
       "      <td>Подглава</td>\n",
       "      <td>13571.0</td>\n",
       "      <td>Введение</td>\n",
       "      <td>https://urbanlearning.mguu.ru/xapi/blocks/555</td>\n",
       "      <td>0</td>\n",
       "      <td>0</td>\n",
       "      <td>NaN</td>\n",
       "      <td>0%</td>\n",
       "      <td>NaN</td>\n",
       "      <td>0</td>\n",
       "      <td>0%</td>\n",
       "      <td>NaN</td>\n",
       "      <td>Не приступал</td>\n",
       "      <td>00:00:00</td>\n",
       "      <td>00:00:00</td>\n",
       "      <td>00:00:00</td>\n",
       "      <td>0</td>\n",
       "      <td>0</td>\n",
       "      <td>0</td>\n",
       "      <td>2021-07-28 18:12:46</td>\n",
       "      <td>NaN</td>\n",
       "      <td>NaN</td>\n",
       "      <td>NaN</td>\n",
       "      <td>01.11.2021</td>\n",
       "    </tr>\n",
       "    <tr>\n",
       "      <th>6</th>\n",
       "      <td>id 116 Анализ информации от 03.08.2021</td>\n",
       "      <td>https://urbanlearning.mguu.ru/xapi/course/116</td>\n",
       "      <td>2021-10-12 13:50:41</td>\n",
       "      <td>NaN</td>\n",
       "      <td>NaN</td>\n",
       "      <td>NaN</td>\n",
       "      <td>3164539</td>\n",
       "      <td>28197@https://urbanlearning.mguu.ru/users</td>\n",
       "      <td>Н/Д</td>\n",
       "      <td>NaN</td>\n",
       "      <td>NaN</td>\n",
       "      <td>0%</td>\n",
       "      <td>NaN</td>\n",
       "      <td>0%</td>\n",
       "      <td>NaN</td>\n",
       "      <td>Не изучал</td>\n",
       "      <td>0,00</td>\n",
       "      <td>0,00</td>\n",
       "      <td>NaN</td>\n",
       "      <td>NaN</td>\n",
       "      <td>NaN</td>\n",
       "      <td>0</td>\n",
       "      <td>0</td>\n",
       "      <td>NaN</td>\n",
       "      <td>00:00:00</td>\n",
       "      <td>00:00:00</td>\n",
       "      <td>00:00:00</td>\n",
       "      <td>0</td>\n",
       "      <td>0</td>\n",
       "      <td>0</td>\n",
       "      <td>00:00:00</td>\n",
       "      <td>00:00:00</td>\n",
       "      <td>https://start.mguu.moscow/xapi/analiz_info/block1_fin_test/longread</td>\n",
       "      <td>2</td>\n",
       "      <td>Блок 1. Финальное задание</td>\n",
       "      <td>Введение &gt; Финальное испытание &gt; Блок 1. Финальное задание</td>\n",
       "      <td>0</td>\n",
       "      <td>Лонгрид</td>\n",
       "      <td>13576.0</td>\n",
       "      <td>Финальное испытание</td>\n",
       "      <td>https://start.mguu.moscow/xapi/analiz_info/block1_fin_test</td>\n",
       "      <td>0</td>\n",
       "      <td>0</td>\n",
       "      <td>NaN</td>\n",
       "      <td>0%</td>\n",
       "      <td>NaN</td>\n",
       "      <td>0</td>\n",
       "      <td>0%</td>\n",
       "      <td>NaN</td>\n",
       "      <td>Не приступал</td>\n",
       "      <td>00:00:00</td>\n",
       "      <td>00:00:00</td>\n",
       "      <td>00:00:00</td>\n",
       "      <td>0</td>\n",
       "      <td>0</td>\n",
       "      <td>0</td>\n",
       "      <td>2021-07-28 18:12:46</td>\n",
       "      <td>NaN</td>\n",
       "      <td>NaN</td>\n",
       "      <td>NaN</td>\n",
       "      <td>01.11.2021</td>\n",
       "    </tr>\n",
       "    <tr>\n",
       "      <th>7</th>\n",
       "      <td>id 116 Анализ информации от 03.08.2021</td>\n",
       "      <td>https://urbanlearning.mguu.ru/xapi/course/116</td>\n",
       "      <td>2021-10-12 13:50:41</td>\n",
       "      <td>NaN</td>\n",
       "      <td>NaN</td>\n",
       "      <td>NaN</td>\n",
       "      <td>3164539</td>\n",
       "      <td>28197@https://urbanlearning.mguu.ru/users</td>\n",
       "      <td>Н/Д</td>\n",
       "      <td>NaN</td>\n",
       "      <td>NaN</td>\n",
       "      <td>0%</td>\n",
       "      <td>NaN</td>\n",
       "      <td>0%</td>\n",
       "      <td>NaN</td>\n",
       "      <td>Не изучал</td>\n",
       "      <td>0,00</td>\n",
       "      <td>0,00</td>\n",
       "      <td>NaN</td>\n",
       "      <td>NaN</td>\n",
       "      <td>NaN</td>\n",
       "      <td>0</td>\n",
       "      <td>0</td>\n",
       "      <td>NaN</td>\n",
       "      <td>00:00:00</td>\n",
       "      <td>00:00:00</td>\n",
       "      <td>00:00:00</td>\n",
       "      <td>0</td>\n",
       "      <td>0</td>\n",
       "      <td>0</td>\n",
       "      <td>00:00:00</td>\n",
       "      <td>00:00:00</td>\n",
       "      <td>https://start.mguu.moscow/xapi/analiz_info/block1_fin_test/fin_test_1</td>\n",
       "      <td>2</td>\n",
       "      <td>Финальное задание</td>\n",
       "      <td>Введение &gt; Финальное испытание &gt; Финальное задание</td>\n",
       "      <td>1</td>\n",
       "      <td>Тест</td>\n",
       "      <td>13576.0</td>\n",
       "      <td>Финальное испытание</td>\n",
       "      <td>https://start.mguu.moscow/xapi/analiz_info/block1_fin_test</td>\n",
       "      <td>0</td>\n",
       "      <td>0</td>\n",
       "      <td>NaN</td>\n",
       "      <td>0%</td>\n",
       "      <td>NaN</td>\n",
       "      <td>0</td>\n",
       "      <td>0%</td>\n",
       "      <td>NaN</td>\n",
       "      <td>Не приступал</td>\n",
       "      <td>00:00:00</td>\n",
       "      <td>00:00:00</td>\n",
       "      <td>00:00:00</td>\n",
       "      <td>0</td>\n",
       "      <td>0</td>\n",
       "      <td>0</td>\n",
       "      <td>2021-07-28 18:12:46</td>\n",
       "      <td>NaN</td>\n",
       "      <td>NaN</td>\n",
       "      <td>NaN</td>\n",
       "      <td>01.11.2021</td>\n",
       "    </tr>\n",
       "    <tr>\n",
       "      <th>8</th>\n",
       "      <td>id 116 Анализ информации от 03.08.2021</td>\n",
       "      <td>https://urbanlearning.mguu.ru/xapi/course/116</td>\n",
       "      <td>2021-10-12 13:50:41</td>\n",
       "      <td>NaN</td>\n",
       "      <td>NaN</td>\n",
       "      <td>NaN</td>\n",
       "      <td>3164539</td>\n",
       "      <td>28197@https://urbanlearning.mguu.ru/users</td>\n",
       "      <td>Н/Д</td>\n",
       "      <td>NaN</td>\n",
       "      <td>NaN</td>\n",
       "      <td>0%</td>\n",
       "      <td>NaN</td>\n",
       "      <td>0%</td>\n",
       "      <td>NaN</td>\n",
       "      <td>Не изучал</td>\n",
       "      <td>0,00</td>\n",
       "      <td>0,00</td>\n",
       "      <td>NaN</td>\n",
       "      <td>NaN</td>\n",
       "      <td>NaN</td>\n",
       "      <td>0</td>\n",
       "      <td>0</td>\n",
       "      <td>NaN</td>\n",
       "      <td>00:00:00</td>\n",
       "      <td>00:00:00</td>\n",
       "      <td>00:00:00</td>\n",
       "      <td>0</td>\n",
       "      <td>0</td>\n",
       "      <td>0</td>\n",
       "      <td>00:00:00</td>\n",
       "      <td>00:00:00</td>\n",
       "      <td>https://urbanlearning.mguu.ru/xapi/blocks/556</td>\n",
       "      <td>0</td>\n",
       "      <td>Активизируем познавательные способности</td>\n",
       "      <td>Активизируем познавательные способности</td>\n",
       "      <td>1</td>\n",
       "      <td>Глава</td>\n",
       "      <td>NaN</td>\n",
       "      <td>NaN</td>\n",
       "      <td>NaN</td>\n",
       "      <td>0</td>\n",
       "      <td>0</td>\n",
       "      <td>NaN</td>\n",
       "      <td>0%</td>\n",
       "      <td>NaN</td>\n",
       "      <td>0</td>\n",
       "      <td>0%</td>\n",
       "      <td>NaN</td>\n",
       "      <td>Не приступал</td>\n",
       "      <td>00:00:00</td>\n",
       "      <td>00:00:00</td>\n",
       "      <td>00:00:00</td>\n",
       "      <td>0</td>\n",
       "      <td>0</td>\n",
       "      <td>0</td>\n",
       "      <td>2021-07-28 18:12:46</td>\n",
       "      <td>NaN</td>\n",
       "      <td>NaN</td>\n",
       "      <td>NaN</td>\n",
       "      <td>01.11.2021</td>\n",
       "    </tr>\n",
       "    <tr>\n",
       "      <th>9</th>\n",
       "      <td>id 116 Анализ информации от 03.08.2021</td>\n",
       "      <td>https://urbanlearning.mguu.ru/xapi/course/116</td>\n",
       "      <td>2021-10-12 13:50:41</td>\n",
       "      <td>NaN</td>\n",
       "      <td>NaN</td>\n",
       "      <td>NaN</td>\n",
       "      <td>3164539</td>\n",
       "      <td>28197@https://urbanlearning.mguu.ru/users</td>\n",
       "      <td>Н/Д</td>\n",
       "      <td>NaN</td>\n",
       "      <td>NaN</td>\n",
       "      <td>0%</td>\n",
       "      <td>NaN</td>\n",
       "      <td>0%</td>\n",
       "      <td>NaN</td>\n",
       "      <td>Не изучал</td>\n",
       "      <td>0,00</td>\n",
       "      <td>0,00</td>\n",
       "      <td>NaN</td>\n",
       "      <td>NaN</td>\n",
       "      <td>NaN</td>\n",
       "      <td>0</td>\n",
       "      <td>0</td>\n",
       "      <td>NaN</td>\n",
       "      <td>00:00:00</td>\n",
       "      <td>00:00:00</td>\n",
       "      <td>00:00:00</td>\n",
       "      <td>0</td>\n",
       "      <td>0</td>\n",
       "      <td>0</td>\n",
       "      <td>00:00:00</td>\n",
       "      <td>00:00:00</td>\n",
       "      <td>https://start.mguu.moscow/xapi/analiz_info/problematizatsiya_i_motivatsiya_polucheniya_znananiy</td>\n",
       "      <td>1</td>\n",
       "      <td>Активизируем познавательные способности</td>\n",
       "      <td>Активизируем познавательные способности &gt; Активизируем познавательные способности</td>\n",
       "      <td>1</td>\n",
       "      <td>Подглава</td>\n",
       "      <td>13579.0</td>\n",
       "      <td>Активизируем познавательные способности</td>\n",
       "      <td>https://urbanlearning.mguu.ru/xapi/blocks/556</td>\n",
       "      <td>0</td>\n",
       "      <td>0</td>\n",
       "      <td>NaN</td>\n",
       "      <td>0%</td>\n",
       "      <td>NaN</td>\n",
       "      <td>0</td>\n",
       "      <td>0%</td>\n",
       "      <td>NaN</td>\n",
       "      <td>Не приступал</td>\n",
       "      <td>00:00:00</td>\n",
       "      <td>00:00:00</td>\n",
       "      <td>00:00:00</td>\n",
       "      <td>0</td>\n",
       "      <td>0</td>\n",
       "      <td>0</td>\n",
       "      <td>2021-07-28 18:12:46</td>\n",
       "      <td>NaN</td>\n",
       "      <td>NaN</td>\n",
       "      <td>NaN</td>\n",
       "      <td>01.11.2021</td>\n",
       "    </tr>\n",
       "  </tbody>\n",
       "</table>\n",
       "</div>"
      ],
      "text/plain": [
       "                           Название курса  \\\n",
       "0  id 116 Анализ информации от 03.08.2021   \n",
       "1  id 116 Анализ информации от 03.08.2021   \n",
       "2  id 116 Анализ информации от 03.08.2021   \n",
       "3  id 116 Анализ информации от 03.08.2021   \n",
       "4  id 116 Анализ информации от 03.08.2021   \n",
       "5  id 116 Анализ информации от 03.08.2021   \n",
       "6  id 116 Анализ информации от 03.08.2021   \n",
       "7  id 116 Анализ информации от 03.08.2021   \n",
       "8  id 116 Анализ информации от 03.08.2021   \n",
       "9  id 116 Анализ информации от 03.08.2021   \n",
       "\n",
       "                             Идентификатор курса  \\\n",
       "0  https://urbanlearning.mguu.ru/xapi/course/116   \n",
       "1  https://urbanlearning.mguu.ru/xapi/course/116   \n",
       "2  https://urbanlearning.mguu.ru/xapi/course/116   \n",
       "3  https://urbanlearning.mguu.ru/xapi/course/116   \n",
       "4  https://urbanlearning.mguu.ru/xapi/course/116   \n",
       "5  https://urbanlearning.mguu.ru/xapi/course/116   \n",
       "6  https://urbanlearning.mguu.ru/xapi/course/116   \n",
       "7  https://urbanlearning.mguu.ru/xapi/course/116   \n",
       "8  https://urbanlearning.mguu.ru/xapi/course/116   \n",
       "9  https://urbanlearning.mguu.ru/xapi/course/116   \n",
       "\n",
       "  Дата последнего обновления структуры курса  Группа курса  Менеджеры курса  \\\n",
       "0  2021-10-12 13:50:41                       NaN           NaN                \n",
       "1  2021-10-12 13:50:41                       NaN           NaN                \n",
       "2  2021-10-12 13:50:41                       NaN           NaN                \n",
       "3  2021-10-12 13:50:41                       NaN           NaN                \n",
       "4  2021-10-12 13:50:41                       NaN           NaN                \n",
       "5  2021-10-12 13:50:41                       NaN           NaN                \n",
       "6  2021-10-12 13:50:41                       NaN           NaN                \n",
       "7  2021-10-12 13:50:41                       NaN           NaN                \n",
       "8  2021-10-12 13:50:41                       NaN           NaN                \n",
       "9  2021-10-12 13:50:41                       NaN           NaN                \n",
       "\n",
       "   Номер темы  ID обучающегося в курсе  \\\n",
       "0 NaN          3164539                   \n",
       "1 NaN          3164539                   \n",
       "2 NaN          3164539                   \n",
       "3 NaN          3164539                   \n",
       "4 NaN          3164539                   \n",
       "5 NaN          3164539                   \n",
       "6 NaN          3164539                   \n",
       "7 NaN          3164539                   \n",
       "8 NaN          3164539                   \n",
       "9 NaN          3164539                   \n",
       "\n",
       "                  Идентификатор обучающегося  ФИО В какой сущности потерялся  \\\n",
       "0  28197@https://urbanlearning.mguu.ru/users  Н/Д  NaN                         \n",
       "1  28197@https://urbanlearning.mguu.ru/users  Н/Д  NaN                         \n",
       "2  28197@https://urbanlearning.mguu.ru/users  Н/Д  NaN                         \n",
       "3  28197@https://urbanlearning.mguu.ru/users  Н/Д  NaN                         \n",
       "4  28197@https://urbanlearning.mguu.ru/users  Н/Д  NaN                         \n",
       "5  28197@https://urbanlearning.mguu.ru/users  Н/Д  NaN                         \n",
       "6  28197@https://urbanlearning.mguu.ru/users  Н/Д  NaN                         \n",
       "7  28197@https://urbanlearning.mguu.ru/users  Н/Д  NaN                         \n",
       "8  28197@https://urbanlearning.mguu.ru/users  Н/Д  NaN                         \n",
       "9  28197@https://urbanlearning.mguu.ru/users  Н/Д  NaN                         \n",
       "\n",
       "  Дата завершения курса Прогресс по курсу  \\\n",
       "0  NaN                   0%                 \n",
       "1  NaN                   0%                 \n",
       "2  NaN                   0%                 \n",
       "3  NaN                   0%                 \n",
       "4  NaN                   0%                 \n",
       "5  NaN                   0%                 \n",
       "6  NaN                   0%                 \n",
       "7  NaN                   0%                 \n",
       "8  NaN                   0%                 \n",
       "9  NaN                   0%                 \n",
       "\n",
       "  Дата получения прогресса >= 80% по курсу Результат по курсу  \\\n",
       "0  NaN                                      0%                  \n",
       "1  NaN                                      0%                  \n",
       "2  NaN                                      0%                  \n",
       "3  NaN                                      0%                  \n",
       "4  NaN                                      0%                  \n",
       "5  NaN                                      0%                  \n",
       "6  NaN                                      0%                  \n",
       "7  NaN                                      0%                  \n",
       "8  NaN                                      0%                  \n",
       "9  NaN                                      0%                  \n",
       "\n",
       "  Дата начала изучения курса Статус по курсу  \\\n",
       "0  NaN                        Не изучал        \n",
       "1  NaN                        Не изучал        \n",
       "2  NaN                        Не изучал        \n",
       "3  NaN                        Не изучал        \n",
       "4  NaN                        Не изучал        \n",
       "5  NaN                        Не изучал        \n",
       "6  NaN                        Не изучал        \n",
       "7  NaN                        Не изучал        \n",
       "8  NaN                        Не изучал        \n",
       "9  NaN                        Не изучал        \n",
       "\n",
       "  Средняя оценка, выставленная за курс Последняя выставленная оценка курсу  \\\n",
       "0  0,00                                 0,00                                 \n",
       "1  0,00                                 0,00                                 \n",
       "2  0,00                                 0,00                                 \n",
       "3  0,00                                 0,00                                 \n",
       "4  0,00                                 0,00                                 \n",
       "5  0,00                                 0,00                                 \n",
       "6  0,00                                 0,00                                 \n",
       "7  0,00                                 0,00                                 \n",
       "8  0,00                                 0,00                                 \n",
       "9  0,00                                 0,00                                 \n",
       "\n",
       "   Дата последней выставленной оценки  Комментарий  Дата комментария  \\\n",
       "0 NaN                                 NaN          NaN                 \n",
       "1 NaN                                 NaN          NaN                 \n",
       "2 NaN                                 NaN          NaN                 \n",
       "3 NaN                                 NaN          NaN                 \n",
       "4 NaN                                 NaN          NaN                 \n",
       "5 NaN                                 NaN          NaN                 \n",
       "6 NaN                                 NaN          NaN                 \n",
       "7 NaN                                 NaN          NaN                 \n",
       "8 NaN                                 NaN          NaN                 \n",
       "9 NaN                                 NaN          NaN                 \n",
       "\n",
       "   Количество входов в курс  Количество неактивных дней в курсе  \\\n",
       "0  0                         0                                    \n",
       "1  0                         0                                    \n",
       "2  0                         0                                    \n",
       "3  0                         0                                    \n",
       "4  0                         0                                    \n",
       "5  0                         0                                    \n",
       "6  0                         0                                    \n",
       "7  0                         0                                    \n",
       "8  0                         0                                    \n",
       "9  0                         0                                    \n",
       "\n",
       "  Последний вход в курс Время изучения курса Время повторения курса  \\\n",
       "0  NaN                   00:00:00             00:00:00                \n",
       "1  NaN                   00:00:00             00:00:00                \n",
       "2  NaN                   00:00:00             00:00:00                \n",
       "3  NaN                   00:00:00             00:00:00                \n",
       "4  NaN                   00:00:00             00:00:00                \n",
       "5  NaN                   00:00:00             00:00:00                \n",
       "6  NaN                   00:00:00             00:00:00                \n",
       "7  NaN                   00:00:00             00:00:00                \n",
       "8  NaN                   00:00:00             00:00:00                \n",
       "9  NaN                   00:00:00             00:00:00                \n",
       "\n",
       "  Общее время в курсе  Количество сессий всего  \\\n",
       "0  00:00:00            0                         \n",
       "1  00:00:00            0                         \n",
       "2  00:00:00            0                         \n",
       "3  00:00:00            0                         \n",
       "4  00:00:00            0                         \n",
       "5  00:00:00            0                         \n",
       "6  00:00:00            0                         \n",
       "7  00:00:00            0                         \n",
       "8  00:00:00            0                         \n",
       "9  00:00:00            0                         \n",
       "\n",
       "   Количество сессий изучения курса  Количество сессий повторения курса  \\\n",
       "0  0                                 0                                    \n",
       "1  0                                 0                                    \n",
       "2  0                                 0                                    \n",
       "3  0                                 0                                    \n",
       "4  0                                 0                                    \n",
       "5  0                                 0                                    \n",
       "6  0                                 0                                    \n",
       "7  0                                 0                                    \n",
       "8  0                                 0                                    \n",
       "9  0                                 0                                    \n",
       "\n",
       "  Среднее время сессии изучения курса Среднее время сессии повторения курса  \\\n",
       "0  00:00:00                            00:00:00                               \n",
       "1  00:00:00                            00:00:00                               \n",
       "2  00:00:00                            00:00:00                               \n",
       "3  00:00:00                            00:00:00                               \n",
       "4  00:00:00                            00:00:00                               \n",
       "5  00:00:00                            00:00:00                               \n",
       "6  00:00:00                            00:00:00                               \n",
       "7  00:00:00                            00:00:00                               \n",
       "8  00:00:00                            00:00:00                               \n",
       "9  00:00:00                            00:00:00                               \n",
       "\n",
       "                                                                         Идентификатор по сущности  \\\n",
       "0  https://urbanlearning.mguu.ru/xapi/blocks/555                                                     \n",
       "1  https://start.mguu.moscow/xapi/analiz_info/vvedenie                                               \n",
       "2  https://start.mguu.moscow/xapi/analiz_info/vvedenie/longread                                      \n",
       "3  https://start.mguu.moscow/xapi/analiz_info/vvedenie/quest                                         \n",
       "4  https://urbanlearning.mguu.ru/xapi/activities/2228                                                \n",
       "5  https://start.mguu.moscow/xapi/analiz_info/block1_fin_test                                        \n",
       "6  https://start.mguu.moscow/xapi/analiz_info/block1_fin_test/longread                               \n",
       "7  https://start.mguu.moscow/xapi/analiz_info/block1_fin_test/fin_test_1                             \n",
       "8  https://urbanlearning.mguu.ru/xapi/blocks/556                                                     \n",
       "9  https://start.mguu.moscow/xapi/analiz_info/problematizatsiya_i_motivatsiya_polucheniya_znananiy   \n",
       "\n",
       "   Уровень сущности                        Название сущности  \\\n",
       "0  0                 Введение                                  \n",
       "1  1                 Введение                                  \n",
       "2  2                 Введение                                  \n",
       "3  2                 Финальное задание                         \n",
       "4  1                 Дорожный дневник                          \n",
       "5  1                 Финальное испытание                       \n",
       "6  2                 Блок 1. Финальное задание                 \n",
       "7  2                 Финальное задание                         \n",
       "8  0                 Активизируем познавательные способности   \n",
       "9  1                 Активизируем познавательные способности   \n",
       "\n",
       "                              Полное название сущности (с названиями всех родителей)  \\\n",
       "0  Введение                                                                            \n",
       "1  Введение > Введение                                                                 \n",
       "2  Введение > Введение > Введение                                                      \n",
       "3  Введение > Введение > Финальное задание                                             \n",
       "4  Введение > Дорожный дневник                                                         \n",
       "5  Введение > Финальное испытание                                                      \n",
       "6  Введение > Финальное испытание > Блок 1. Финальное задание                          \n",
       "7  Введение > Финальное испытание > Финальное задание                                  \n",
       "8  Активизируем познавательные способности                                             \n",
       "9  Активизируем познавательные способности > Активизируем познавательные способности   \n",
       "\n",
       "   Порядок сущности Тип контента сущности  ID родительской сущности  \\\n",
       "0  0                 Глава                NaN                         \n",
       "1  1                 Подглава              13571.0                    \n",
       "2  0                 Лонгрид               13572.0                    \n",
       "3  1                 Тест                  13572.0                    \n",
       "4  2                 Проверка заданий      13571.0                    \n",
       "5  3                 Подглава              13571.0                    \n",
       "6  0                 Лонгрид               13576.0                    \n",
       "7  1                 Тест                  13576.0                    \n",
       "8  1                 Глава                NaN                         \n",
       "9  1                 Подглава              13579.0                    \n",
       "\n",
       "            Название родительской сущности  \\\n",
       "0  NaN                                       \n",
       "1  Введение                                  \n",
       "2  Введение                                  \n",
       "3  Введение                                  \n",
       "4  Введение                                  \n",
       "5  Введение                                  \n",
       "6  Финальное испытание                       \n",
       "7  Финальное испытание                       \n",
       "8  NaN                                       \n",
       "9  Активизируем познавательные способности   \n",
       "\n",
       "                       Идентификатор по родительской сущности  \\\n",
       "0  NaN                                                          \n",
       "1  https://urbanlearning.mguu.ru/xapi/blocks/555                \n",
       "2  https://start.mguu.moscow/xapi/analiz_info/vvedenie          \n",
       "3  https://start.mguu.moscow/xapi/analiz_info/vvedenie          \n",
       "4  https://urbanlearning.mguu.ru/xapi/blocks/555                \n",
       "5  https://urbanlearning.mguu.ru/xapi/blocks/555                \n",
       "6  https://start.mguu.moscow/xapi/analiz_info/block1_fin_test   \n",
       "7  https://start.mguu.moscow/xapi/analiz_info/block1_fin_test   \n",
       "8  NaN                                                          \n",
       "9  https://urbanlearning.mguu.ru/xapi/blocks/556                \n",
       "\n",
       "   Количество прохождений сущности на 100% после прохождения курса  \\\n",
       "0  0                                                                 \n",
       "1  0                                                                 \n",
       "2  0                                                                 \n",
       "3  0                                                                 \n",
       "4  0                                                                 \n",
       "5  0                                                                 \n",
       "6  0                                                                 \n",
       "7  0                                                                 \n",
       "8  0                                                                 \n",
       "9  0                                                                 \n",
       "\n",
       "   Количество перепрохождений сущности на 100%  \\\n",
       "0  0                                             \n",
       "1  0                                             \n",
       "2  0                                             \n",
       "3  0                                             \n",
       "4  0                                             \n",
       "5  0                                             \n",
       "6  0                                             \n",
       "7  0                                             \n",
       "8  0                                             \n",
       "9  0                                             \n",
       "\n",
       "  Дата последнего passed в сущности Прогресс по сущности  \\\n",
       "0  NaN                               0%                    \n",
       "1  NaN                               0%                    \n",
       "2  NaN                               0%                    \n",
       "3  NaN                               0%                    \n",
       "4  NaN                               0%                    \n",
       "5  NaN                               0%                    \n",
       "6  NaN                               0%                    \n",
       "7  NaN                               0%                    \n",
       "8  NaN                               0%                    \n",
       "9  NaN                               0%                    \n",
       "\n",
       "  Дата завершения сущности  Отказы по сущности Результат по сущности  \\\n",
       "0  NaN                      0                   0%                     \n",
       "1  NaN                      0                   0%                     \n",
       "2  NaN                      0                   0%                     \n",
       "3  NaN                      0                   0%                     \n",
       "4  NaN                      0                   0%                     \n",
       "5  NaN                      0                   0%                     \n",
       "6  NaN                      0                   0%                     \n",
       "7  NaN                      0                   0%                     \n",
       "8  NaN                      0                   0%                     \n",
       "9  NaN                      0                   0%                     \n",
       "\n",
       "  Дата начала изучения сущности Статус по сущности Время изучения сущности  \\\n",
       "0  NaN                           Не приступал       00:00:00                 \n",
       "1  NaN                           Не приступал       00:00:00                 \n",
       "2  NaN                           Не приступал       00:00:00                 \n",
       "3  NaN                           Не приступал       00:00:00                 \n",
       "4  NaN                           Не приступал       00:00:00                 \n",
       "5  NaN                           Не приступал       00:00:00                 \n",
       "6  NaN                           Не приступал       00:00:00                 \n",
       "7  NaN                           Не приступал       00:00:00                 \n",
       "8  NaN                           Не приступал       00:00:00                 \n",
       "9  NaN                           Не приступал       00:00:00                 \n",
       "\n",
       "  Время повторения сущности Всё время проведенное в сущности  \\\n",
       "0  00:00:00                  00:00:00                          \n",
       "1  00:00:00                  00:00:00                          \n",
       "2  00:00:00                  00:00:00                          \n",
       "3  00:00:00                  00:00:00                          \n",
       "4  00:00:00                  00:00:00                          \n",
       "5  00:00:00                  00:00:00                          \n",
       "6  00:00:00                  00:00:00                          \n",
       "7  00:00:00                  00:00:00                          \n",
       "8  00:00:00                  00:00:00                          \n",
       "9  00:00:00                  00:00:00                          \n",
       "\n",
       "   Попытки повторения по сущности  Попытки изучения по сущности  \\\n",
       "0  0                               0                              \n",
       "1  0                               0                              \n",
       "2  0                               0                              \n",
       "3  0                               0                              \n",
       "4  0                               0                              \n",
       "5  0                               0                              \n",
       "6  0                               0                              \n",
       "7  0                               0                              \n",
       "8  0                               0                              \n",
       "9  0                               0                              \n",
       "\n",
       "   Все попытки по сущности Дата назначения курса  \\\n",
       "0  0                        2021-07-28 18:12:46    \n",
       "1  0                        2021-07-28 18:12:46    \n",
       "2  0                        2021-07-28 18:12:46    \n",
       "3  0                        2021-07-28 18:12:46    \n",
       "4  0                        2021-07-28 18:12:46    \n",
       "5  0                        2021-07-28 18:12:46    \n",
       "6  0                        2021-07-28 18:12:46    \n",
       "7  0                        2021-07-28 18:12:46    \n",
       "8  0                        2021-07-28 18:12:46    \n",
       "9  0                        2021-07-28 18:12:46    \n",
       "\n",
       "   Плановый срок изучения курса  Джоб-код назначения  Статус назначения  \\\n",
       "0 NaN                           NaN                  NaN                  \n",
       "1 NaN                           NaN                  NaN                  \n",
       "2 NaN                           NaN                  NaN                  \n",
       "3 NaN                           NaN                  NaN                  \n",
       "4 NaN                           NaN                  NaN                  \n",
       "5 NaN                           NaN                  NaN                  \n",
       "6 NaN                           NaN                  NaN                  \n",
       "7 NaN                           NaN                  NaN                  \n",
       "8 NaN                           NaN                  NaN                  \n",
       "9 NaN                           NaN                  NaN                  \n",
       "\n",
       "  Дата составления отчета  \n",
       "0  01.11.2021              \n",
       "1  01.11.2021              \n",
       "2  01.11.2021              \n",
       "3  01.11.2021              \n",
       "4  01.11.2021              \n",
       "5  01.11.2021              \n",
       "6  01.11.2021              \n",
       "7  01.11.2021              \n",
       "8  01.11.2021              \n",
       "9  01.11.2021              "
      ]
     },
     "execution_count": 6,
     "metadata": {},
     "output_type": "execute_result"
    }
   ],
   "source": [
    "data.head(10)"
   ]
  },
  {
   "cell_type": "markdown",
   "metadata": {},
   "source": [
    "### Удаляем пустые колонки"
   ]
  },
  {
   "cell_type": "code",
   "execution_count": 7,
   "metadata": {},
   "outputs": [],
   "source": [
    "data.drop(['Группа курса', 'Менеджеры курса', 'Номер темы', \n",
    "           'Дата последней выставленной оценки', 'Комментарий', 'Дата комментария', \n",
    "           'Плановый срок изучения курса', 'Джоб-код назначения','Статус назначения'], axis=1, inplace=True)"
   ]
  },
  {
   "cell_type": "markdown",
   "metadata": {},
   "source": [
    "### Проверка корректности типов данных и их замена"
   ]
  },
  {
   "cell_type": "code",
   "execution_count": 8,
   "metadata": {},
   "outputs": [],
   "source": [
    "data['Дата последнего обновления структуры курса'] = pd.to_datetime(data['Дата последнего обновления структуры курса'], format='%Y-%m-%dT%H:%M:%S')\n",
    "data['Дата завершения курса'] = pd.to_datetime(data['Дата завершения курса'], format='%Y-%m-%dT%H:%M:%S')\n",
    "data['Дата получения прогресса >= 80% по курсу'] = pd.to_datetime(data['Дата получения прогресса >= 80% по курсу'], format='%Y-%m-%dT%H:%M:%S')\n",
    "data['Дата начала изучения курса'] = pd.to_datetime(data['Дата начала изучения курса'], format='%Y-%m-%dT%H:%M:%S')\n",
    "data['Последний вход в курс'] = pd.to_datetime(data['Последний вход в курс'], format='%Y-%m-%dT%H:%M:%S')\n",
    "data['Дата последнего passed в сущности'] = pd.to_datetime(data['Дата последнего passed в сущности'], format='%Y-%m-%dT%H:%M:%S')\n",
    "\n",
    "data['Дата завершения сущности'] = pd.to_datetime(data['Дата завершения сущности'], format='%Y-%m-%dT%H:%M:%S')\n",
    "data['Дата начала изучения сущности'] = pd.to_datetime(data['Дата начала изучения сущности'], format='%Y-%m-%dT%H:%M:%S')\n",
    "data['Дата назначения курса'] = pd.to_datetime(data['Дата назначения курса'], format='%Y-%m-%dT%H:%M:%S')\n",
    "data['Дата составления отчета'] = pd.to_datetime(data['Дата составления отчета'], format='%d.%m.%Y')\n",
    "\n"
   ]
  },
  {
   "cell_type": "code",
   "execution_count": 9,
   "metadata": {},
   "outputs": [],
   "source": [
    "data['Среднее время сессии изучения курса'] = pd.to_datetime(data['Среднее время сессии изучения курса'], format='%H:%M:%S')\n",
    "data['Среднее время сессии повторения курса'] = pd.to_datetime(data['Среднее время сессии повторения курса'], format='%H:%M:%S')\n"
   ]
  },
  {
   "cell_type": "code",
   "execution_count": 10,
   "metadata": {},
   "outputs": [],
   "source": [
    "data['Прогресс по курсу'] = data['Прогресс по курсу'].apply(lambda x: x.replace('%', '').replace(',', '.')).astype('float') / 100\n",
    "data['Результат по курсу'] = data['Результат по курсу'].apply(lambda x: x.replace('%', '').replace(',', '.')).astype('float') / 100\n",
    "data['Средняя оценка, выставленная за курс'] = data['Средняя оценка, выставленная за курс'].apply(lambda x: x.replace(',', '.')).astype('float') / 100\n",
    "data['Последняя выставленная оценка курсу'] = data['Последняя выставленная оценка курсу'].apply(lambda x: x.replace(',', '.')).astype('float') / 100\n"
   ]
  },
  {
   "cell_type": "code",
   "execution_count": 11,
   "metadata": {
    "scrolled": true
   },
   "outputs": [],
   "source": [
    "# Переводим в секунды\n",
    "data['Время изучения курса'] = pd.to_timedelta(data['Время изучения курса']).apply(lambda x: x.total_seconds()).astype('int64')\n",
    "data['Время повторения курса'] = pd.to_timedelta(data['Время повторения курса']).apply(lambda x: x.total_seconds()).astype('int64')\n",
    "data['Общее время в курсе'] = pd.to_timedelta(data['Общее время в курсе']).apply(lambda x: x.total_seconds()).astype('int64')"
   ]
  },
  {
   "cell_type": "code",
   "execution_count": 12,
   "metadata": {},
   "outputs": [
    {
     "name": "stdout",
     "output_type": "stream",
     "text": [
      "<class 'pandas.core.frame.DataFrame'>\n",
      "RangeIndex: 60950 entries, 0 to 60949\n",
      "Data columns (total 52 columns):\n",
      " #   Column                                                           Non-Null Count  Dtype         \n",
      "---  ------                                                           --------------  -----         \n",
      " 0   Название курса                                                   60950 non-null  object        \n",
      " 1   Идентификатор курса                                              60950 non-null  object        \n",
      " 2   Дата последнего обновления структуры курса                       60950 non-null  datetime64[ns]\n",
      " 3   ID обучающегося в курсе                                          60950 non-null  int64         \n",
      " 4   Идентификатор обучающегося                                       60950 non-null  object        \n",
      " 5   ФИО                                                              60950 non-null  object        \n",
      " 6   В какой сущности потерялся                                       25875 non-null  object        \n",
      " 7   Дата завершения курса                                            36915 non-null  datetime64[ns]\n",
      " 8   Прогресс по курсу                                                60950 non-null  float64       \n",
      " 9   Дата получения прогресса >= 80% по курсу                         53820 non-null  datetime64[ns]\n",
      " 10  Результат по курсу                                               60950 non-null  float64       \n",
      " 11  Дата начала изучения курса                                       54740 non-null  datetime64[ns]\n",
      " 12  Статус по курсу                                                  60950 non-null  object        \n",
      " 13  Средняя оценка, выставленная за курс                             60950 non-null  float64       \n",
      " 14  Последняя выставленная оценка курсу                              60950 non-null  float64       \n",
      " 15  Количество входов в курс                                         60950 non-null  int64         \n",
      " 16  Количество неактивных дней в курсе                               60950 non-null  int64         \n",
      " 17  Последний вход в курс                                            54740 non-null  datetime64[ns]\n",
      " 18  Время изучения курса (сек)                                       60950 non-null  int64         \n",
      " 19  Время повторения курса (сек)                                     60950 non-null  int64         \n",
      " 20  Общее время в курсе (сек)                                        60950 non-null  int64         \n",
      " 21  Количество сессий всего                                          60950 non-null  int64         \n",
      " 22  Количество сессий изучения курса                                 60950 non-null  int64         \n",
      " 23  Количество сессий повторения курса                               60950 non-null  int64         \n",
      " 24  Среднее время сессии изучения курса                              60950 non-null  datetime64[ns]\n",
      " 25  Среднее время сессии повторения курса                            60950 non-null  datetime64[ns]\n",
      " 26  Идентификатор по сущности                                        60950 non-null  object        \n",
      " 27  Уровень сущности                                                 60950 non-null  int64         \n",
      " 28  Название сущности                                                60950 non-null  object        \n",
      " 29  Полное название сущности (с названиями всех родителей)           60950 non-null  object        \n",
      " 30  Порядок сущности                                                 60950 non-null  int64         \n",
      " 31  Тип контента сущности                                            60950 non-null  object        \n",
      " 32  ID родительской сущности                                         56710 non-null  float64       \n",
      " 33  Название родительской сущности                                   56710 non-null  object        \n",
      " 34  Идентификатор по родительской сущности                           56710 non-null  object        \n",
      " 35  Количество прохождений сущности на 100% после прохождения курса  60950 non-null  int64         \n",
      " 36  Количество перепрохождений сущности на 100%                      60950 non-null  int64         \n",
      " 37  Дата последнего passed в сущности                                40883 non-null  datetime64[ns]\n",
      " 38  Прогресс по сущности                                             60950 non-null  object        \n",
      " 39  Дата завершения сущности                                         40700 non-null  datetime64[ns]\n",
      " 40  Отказы по сущности                                               60950 non-null  int64         \n",
      " 41  Результат по сущности                                            60950 non-null  object        \n",
      " 42  Дата начала изучения сущности                                    42825 non-null  datetime64[ns]\n",
      " 43  Статус по сущности                                               60950 non-null  object        \n",
      " 44  Время изучения сущности                                          60950 non-null  object        \n",
      " 45  Время повторения сущности                                        60950 non-null  object        \n",
      " 46  Всё время проведенное в сущности                                 60950 non-null  object        \n",
      " 47  Попытки повторения по сущности                                   60950 non-null  int64         \n",
      " 48  Попытки изучения по сущности                                     60950 non-null  int64         \n",
      " 49  Все попытки по сущности                                          60950 non-null  int64         \n",
      " 50  Дата назначения курса                                            41400 non-null  datetime64[ns]\n",
      " 51  Дата составления отчета                                          60950 non-null  datetime64[ns]\n",
      "dtypes: datetime64[ns](12), float64(5), int64(17), object(18)\n",
      "memory usage: 24.2+ MB\n"
     ]
    }
   ],
   "source": [
    "# переименовываем столбцы\n",
    "data.rename(columns={\"Время изучения курса\": \"Время изучения курса (сек)\", \"Время повторения курса\": \"Время повторения курса (сек)\", \"Общее время в курсе\": \"Общее время в курсе (сек)\"}, inplace = True)\n",
    "data.info()"
   ]
  },
  {
   "cell_type": "code",
   "execution_count": 13,
   "metadata": {},
   "outputs": [
    {
     "data": {
      "text/plain": [
       "array(['id 116 Анализ информации от 03.08.2021'], dtype=object)"
      ]
     },
     "execution_count": 13,
     "metadata": {},
     "output_type": "execute_result"
    }
   ],
   "source": [
    "data [\"Название курса\"].unique()"
   ]
  },
  {
   "cell_type": "code",
   "execution_count": 14,
   "metadata": {},
   "outputs": [
    {
     "data": {
      "text/plain": [
       "array(['https://urbanlearning.mguu.ru/xapi/course/116'], dtype=object)"
      ]
     },
     "execution_count": 14,
     "metadata": {},
     "output_type": "execute_result"
    }
   ],
   "source": [
    "data [\"Идентификатор курса\"].unique()"
   ]
  },
  {
   "cell_type": "code",
   "execution_count": 15,
   "metadata": {},
   "outputs": [
    {
     "data": {
      "text/plain": [
       "530"
      ]
     },
     "execution_count": 15,
     "metadata": {},
     "output_type": "execute_result"
    }
   ],
   "source": [
    "len(data['ID обучающегося в курсе'].unique())"
   ]
  },
  {
   "cell_type": "code",
   "execution_count": 16,
   "metadata": {},
   "outputs": [
    {
     "data": {
      "text/plain": [
       "array(['2021-10-12T13:50:41.000000000'], dtype='datetime64[ns]')"
      ]
     },
     "execution_count": 16,
     "metadata": {},
     "output_type": "execute_result"
    }
   ],
   "source": [
    "data['Дата последнего обновления структуры курса'].unique()"
   ]
  },
  {
   "cell_type": "markdown",
   "metadata": {},
   "source": [
    "<div class=\"alert alert-warning\" style=\"border-radius: 15px; box-shadow: 4px 4px 4px; border: 1px solid \">\n",
    "<b> Комментарий</b>\n",
    "    \n",
    "в таблице содержаться данные по курсу <b> id 116 Анализ информации от 03.08.2021</b><br> \n",
    "Идентификатор курса  <b>https://urbanlearning.mguu.ru/xapi/course/116</b><br>\n",
    "Курс последний раз обновлялся 12 октября 2021 года<br>   \n",
    "\n",
    "Всего 60950 записей    \n",
    "информация о 530 уникальных обучающихся    </div>"
   ]
  },
  {
   "cell_type": "code",
   "execution_count": 17,
   "metadata": {},
   "outputs": [
    {
     "data": {
      "text/html": [
       "<div>\n",
       "<style scoped>\n",
       "    .dataframe tbody tr th:only-of-type {\n",
       "        vertical-align: middle;\n",
       "    }\n",
       "\n",
       "    .dataframe tbody tr th {\n",
       "        vertical-align: top;\n",
       "    }\n",
       "\n",
       "    .dataframe thead th {\n",
       "        text-align: right;\n",
       "    }\n",
       "</style>\n",
       "<table border=\"1\" class=\"dataframe\">\n",
       "  <thead>\n",
       "    <tr style=\"text-align: right;\">\n",
       "      <th></th>\n",
       "      <th>count</th>\n",
       "      <th>mean</th>\n",
       "      <th>std</th>\n",
       "      <th>min</th>\n",
       "      <th>25%</th>\n",
       "      <th>50%</th>\n",
       "      <th>75%</th>\n",
       "      <th>max</th>\n",
       "    </tr>\n",
       "  </thead>\n",
       "  <tbody>\n",
       "    <tr>\n",
       "      <th>ID обучающегося в курсе</th>\n",
       "      <td>60950.0</td>\n",
       "      <td>3.198834e+06</td>\n",
       "      <td>43742.322727</td>\n",
       "      <td>3164539.0</td>\n",
       "      <td>3.191999e+06</td>\n",
       "      <td>3.192256e+06</td>\n",
       "      <td>3.192416e+06</td>\n",
       "      <td>3635934.000</td>\n",
       "    </tr>\n",
       "    <tr>\n",
       "      <th>Прогресс по курсу</th>\n",
       "      <td>60950.0</td>\n",
       "      <td>6.737842e-01</td>\n",
       "      <td>0.386223</td>\n",
       "      <td>0.0</td>\n",
       "      <td>2.917000e-01</td>\n",
       "      <td>9.333000e-01</td>\n",
       "      <td>9.458000e-01</td>\n",
       "      <td>1.000</td>\n",
       "    </tr>\n",
       "    <tr>\n",
       "      <th>Результат по курсу</th>\n",
       "      <td>60950.0</td>\n",
       "      <td>1.574475e-01</td>\n",
       "      <td>0.091103</td>\n",
       "      <td>0.0</td>\n",
       "      <td>6.570000e-02</td>\n",
       "      <td>2.230000e-01</td>\n",
       "      <td>2.238000e-01</td>\n",
       "      <td>0.329</td>\n",
       "    </tr>\n",
       "    <tr>\n",
       "      <th>Средняя оценка, выставленная за курс</th>\n",
       "      <td>60950.0</td>\n",
       "      <td>0.000000e+00</td>\n",
       "      <td>0.000000</td>\n",
       "      <td>0.0</td>\n",
       "      <td>0.000000e+00</td>\n",
       "      <td>0.000000e+00</td>\n",
       "      <td>0.000000e+00</td>\n",
       "      <td>0.000</td>\n",
       "    </tr>\n",
       "    <tr>\n",
       "      <th>Последняя выставленная оценка курсу</th>\n",
       "      <td>60950.0</td>\n",
       "      <td>0.000000e+00</td>\n",
       "      <td>0.000000</td>\n",
       "      <td>0.0</td>\n",
       "      <td>0.000000e+00</td>\n",
       "      <td>0.000000e+00</td>\n",
       "      <td>0.000000e+00</td>\n",
       "      <td>0.000</td>\n",
       "    </tr>\n",
       "    <tr>\n",
       "      <th>Количество входов в курс</th>\n",
       "      <td>60950.0</td>\n",
       "      <td>0.000000e+00</td>\n",
       "      <td>0.000000</td>\n",
       "      <td>0.0</td>\n",
       "      <td>0.000000e+00</td>\n",
       "      <td>0.000000e+00</td>\n",
       "      <td>0.000000e+00</td>\n",
       "      <td>0.000</td>\n",
       "    </tr>\n",
       "    <tr>\n",
       "      <th>Количество неактивных дней в курсе</th>\n",
       "      <td>60950.0</td>\n",
       "      <td>4.049057e+01</td>\n",
       "      <td>21.566330</td>\n",
       "      <td>0.0</td>\n",
       "      <td>3.100000e+01</td>\n",
       "      <td>4.100000e+01</td>\n",
       "      <td>4.600000e+01</td>\n",
       "      <td>90.000</td>\n",
       "    </tr>\n",
       "    <tr>\n",
       "      <th>Время изучения курса (сек)</th>\n",
       "      <td>60950.0</td>\n",
       "      <td>2.436492e+04</td>\n",
       "      <td>35450.640788</td>\n",
       "      <td>0.0</td>\n",
       "      <td>6.837000e+03</td>\n",
       "      <td>2.246450e+04</td>\n",
       "      <td>3.340600e+04</td>\n",
       "      <td>600175.000</td>\n",
       "    </tr>\n",
       "    <tr>\n",
       "      <th>Время повторения курса (сек)</th>\n",
       "      <td>60950.0</td>\n",
       "      <td>1.825736e+02</td>\n",
       "      <td>2528.412144</td>\n",
       "      <td>0.0</td>\n",
       "      <td>0.000000e+00</td>\n",
       "      <td>7.000000e+00</td>\n",
       "      <td>2.000000e+01</td>\n",
       "      <td>56055.000</td>\n",
       "    </tr>\n",
       "    <tr>\n",
       "      <th>Общее время в курсе (сек)</th>\n",
       "      <td>60950.0</td>\n",
       "      <td>2.454749e+04</td>\n",
       "      <td>35553.836119</td>\n",
       "      <td>0.0</td>\n",
       "      <td>6.837000e+03</td>\n",
       "      <td>2.263150e+04</td>\n",
       "      <td>3.354700e+04</td>\n",
       "      <td>600175.000</td>\n",
       "    </tr>\n",
       "    <tr>\n",
       "      <th>Количество сессий всего</th>\n",
       "      <td>60950.0</td>\n",
       "      <td>2.020189e+01</td>\n",
       "      <td>15.296654</td>\n",
       "      <td>0.0</td>\n",
       "      <td>7.000000e+00</td>\n",
       "      <td>1.900000e+01</td>\n",
       "      <td>3.100000e+01</td>\n",
       "      <td>80.000</td>\n",
       "    </tr>\n",
       "    <tr>\n",
       "      <th>Количество сессий изучения курса</th>\n",
       "      <td>60950.0</td>\n",
       "      <td>1.979811e+01</td>\n",
       "      <td>15.066730</td>\n",
       "      <td>0.0</td>\n",
       "      <td>7.000000e+00</td>\n",
       "      <td>1.800000e+01</td>\n",
       "      <td>3.100000e+01</td>\n",
       "      <td>79.000</td>\n",
       "    </tr>\n",
       "    <tr>\n",
       "      <th>Количество сессий повторения курса</th>\n",
       "      <td>60950.0</td>\n",
       "      <td>9.905660e-01</td>\n",
       "      <td>1.915668</td>\n",
       "      <td>0.0</td>\n",
       "      <td>0.000000e+00</td>\n",
       "      <td>1.000000e+00</td>\n",
       "      <td>1.000000e+00</td>\n",
       "      <td>37.000</td>\n",
       "    </tr>\n",
       "    <tr>\n",
       "      <th>Уровень сущности</th>\n",
       "      <td>60950.0</td>\n",
       "      <td>1.504348e+00</td>\n",
       "      <td>0.623793</td>\n",
       "      <td>0.0</td>\n",
       "      <td>1.000000e+00</td>\n",
       "      <td>2.000000e+00</td>\n",
       "      <td>2.000000e+00</td>\n",
       "      <td>2.000</td>\n",
       "    </tr>\n",
       "    <tr>\n",
       "      <th>Порядок сущности</th>\n",
       "      <td>60950.0</td>\n",
       "      <td>1.765217e+00</td>\n",
       "      <td>1.766024</td>\n",
       "      <td>0.0</td>\n",
       "      <td>0.000000e+00</td>\n",
       "      <td>1.000000e+00</td>\n",
       "      <td>3.000000e+00</td>\n",
       "      <td>7.000</td>\n",
       "    </tr>\n",
       "    <tr>\n",
       "      <th>ID родительской сущности</th>\n",
       "      <td>56710.0</td>\n",
       "      <td>1.362488e+04</td>\n",
       "      <td>32.974569</td>\n",
       "      <td>13571.0</td>\n",
       "      <td>1.359400e+04</td>\n",
       "      <td>1.362500e+04</td>\n",
       "      <td>1.365400e+04</td>\n",
       "      <td>13682.000</td>\n",
       "    </tr>\n",
       "    <tr>\n",
       "      <th>Количество прохождений сущности на 100% после прохождения курса</th>\n",
       "      <td>60950.0</td>\n",
       "      <td>3.114028e-02</td>\n",
       "      <td>0.313152</td>\n",
       "      <td>0.0</td>\n",
       "      <td>0.000000e+00</td>\n",
       "      <td>0.000000e+00</td>\n",
       "      <td>0.000000e+00</td>\n",
       "      <td>20.000</td>\n",
       "    </tr>\n",
       "    <tr>\n",
       "      <th>Количество перепрохождений сущности на 100%</th>\n",
       "      <td>60950.0</td>\n",
       "      <td>4.200984e-01</td>\n",
       "      <td>1.325141</td>\n",
       "      <td>0.0</td>\n",
       "      <td>0.000000e+00</td>\n",
       "      <td>0.000000e+00</td>\n",
       "      <td>0.000000e+00</td>\n",
       "      <td>41.000</td>\n",
       "    </tr>\n",
       "    <tr>\n",
       "      <th>Отказы по сущности</th>\n",
       "      <td>60950.0</td>\n",
       "      <td>1.024938e-01</td>\n",
       "      <td>0.547603</td>\n",
       "      <td>0.0</td>\n",
       "      <td>0.000000e+00</td>\n",
       "      <td>0.000000e+00</td>\n",
       "      <td>0.000000e+00</td>\n",
       "      <td>21.000</td>\n",
       "    </tr>\n",
       "    <tr>\n",
       "      <th>Попытки повторения по сущности</th>\n",
       "      <td>60950.0</td>\n",
       "      <td>4.331255e-01</td>\n",
       "      <td>1.373610</td>\n",
       "      <td>0.0</td>\n",
       "      <td>0.000000e+00</td>\n",
       "      <td>0.000000e+00</td>\n",
       "      <td>0.000000e+00</td>\n",
       "      <td>41.000</td>\n",
       "    </tr>\n",
       "    <tr>\n",
       "      <th>Попытки изучения по сущности</th>\n",
       "      <td>60950.0</td>\n",
       "      <td>1.723199e+00</td>\n",
       "      <td>3.525279</td>\n",
       "      <td>0.0</td>\n",
       "      <td>0.000000e+00</td>\n",
       "      <td>1.000000e+00</td>\n",
       "      <td>1.000000e+00</td>\n",
       "      <td>58.000</td>\n",
       "    </tr>\n",
       "    <tr>\n",
       "      <th>Все попытки по сущности</th>\n",
       "      <td>60950.0</td>\n",
       "      <td>2.156325e+00</td>\n",
       "      <td>3.972577</td>\n",
       "      <td>0.0</td>\n",
       "      <td>0.000000e+00</td>\n",
       "      <td>1.000000e+00</td>\n",
       "      <td>2.000000e+00</td>\n",
       "      <td>66.000</td>\n",
       "    </tr>\n",
       "  </tbody>\n",
       "</table>\n",
       "</div>"
      ],
      "text/plain": [
       "                                                                   count  \\\n",
       "ID обучающегося в курсе                                          60950.0   \n",
       "Прогресс по курсу                                                60950.0   \n",
       "Результат по курсу                                               60950.0   \n",
       "Средняя оценка, выставленная за курс                             60950.0   \n",
       "Последняя выставленная оценка курсу                              60950.0   \n",
       "Количество входов в курс                                         60950.0   \n",
       "Количество неактивных дней в курсе                               60950.0   \n",
       "Время изучения курса (сек)                                       60950.0   \n",
       "Время повторения курса (сек)                                     60950.0   \n",
       "Общее время в курсе (сек)                                        60950.0   \n",
       "Количество сессий всего                                          60950.0   \n",
       "Количество сессий изучения курса                                 60950.0   \n",
       "Количество сессий повторения курса                               60950.0   \n",
       "Уровень сущности                                                 60950.0   \n",
       "Порядок сущности                                                 60950.0   \n",
       "ID родительской сущности                                         56710.0   \n",
       "Количество прохождений сущности на 100% после прохождения курса  60950.0   \n",
       "Количество перепрохождений сущности на 100%                      60950.0   \n",
       "Отказы по сущности                                               60950.0   \n",
       "Попытки повторения по сущности                                   60950.0   \n",
       "Попытки изучения по сущности                                     60950.0   \n",
       "Все попытки по сущности                                          60950.0   \n",
       "\n",
       "                                                                         mean  \\\n",
       "ID обучающегося в курсе                                          3.198834e+06   \n",
       "Прогресс по курсу                                                6.737842e-01   \n",
       "Результат по курсу                                               1.574475e-01   \n",
       "Средняя оценка, выставленная за курс                             0.000000e+00   \n",
       "Последняя выставленная оценка курсу                              0.000000e+00   \n",
       "Количество входов в курс                                         0.000000e+00   \n",
       "Количество неактивных дней в курсе                               4.049057e+01   \n",
       "Время изучения курса (сек)                                       2.436492e+04   \n",
       "Время повторения курса (сек)                                     1.825736e+02   \n",
       "Общее время в курсе (сек)                                        2.454749e+04   \n",
       "Количество сессий всего                                          2.020189e+01   \n",
       "Количество сессий изучения курса                                 1.979811e+01   \n",
       "Количество сессий повторения курса                               9.905660e-01   \n",
       "Уровень сущности                                                 1.504348e+00   \n",
       "Порядок сущности                                                 1.765217e+00   \n",
       "ID родительской сущности                                         1.362488e+04   \n",
       "Количество прохождений сущности на 100% после прохождения курса  3.114028e-02   \n",
       "Количество перепрохождений сущности на 100%                      4.200984e-01   \n",
       "Отказы по сущности                                               1.024938e-01   \n",
       "Попытки повторения по сущности                                   4.331255e-01   \n",
       "Попытки изучения по сущности                                     1.723199e+00   \n",
       "Все попытки по сущности                                          2.156325e+00   \n",
       "\n",
       "                                                                          std  \\\n",
       "ID обучающегося в курсе                                          43742.322727   \n",
       "Прогресс по курсу                                                0.386223       \n",
       "Результат по курсу                                               0.091103       \n",
       "Средняя оценка, выставленная за курс                             0.000000       \n",
       "Последняя выставленная оценка курсу                              0.000000       \n",
       "Количество входов в курс                                         0.000000       \n",
       "Количество неактивных дней в курсе                               21.566330      \n",
       "Время изучения курса (сек)                                       35450.640788   \n",
       "Время повторения курса (сек)                                     2528.412144    \n",
       "Общее время в курсе (сек)                                        35553.836119   \n",
       "Количество сессий всего                                          15.296654      \n",
       "Количество сессий изучения курса                                 15.066730      \n",
       "Количество сессий повторения курса                               1.915668       \n",
       "Уровень сущности                                                 0.623793       \n",
       "Порядок сущности                                                 1.766024       \n",
       "ID родительской сущности                                         32.974569      \n",
       "Количество прохождений сущности на 100% после прохождения курса  0.313152       \n",
       "Количество перепрохождений сущности на 100%                      1.325141       \n",
       "Отказы по сущности                                               0.547603       \n",
       "Попытки повторения по сущности                                   1.373610       \n",
       "Попытки изучения по сущности                                     3.525279       \n",
       "Все попытки по сущности                                          3.972577       \n",
       "\n",
       "                                                                       min  \\\n",
       "ID обучающегося в курсе                                          3164539.0   \n",
       "Прогресс по курсу                                                0.0         \n",
       "Результат по курсу                                               0.0         \n",
       "Средняя оценка, выставленная за курс                             0.0         \n",
       "Последняя выставленная оценка курсу                              0.0         \n",
       "Количество входов в курс                                         0.0         \n",
       "Количество неактивных дней в курсе                               0.0         \n",
       "Время изучения курса (сек)                                       0.0         \n",
       "Время повторения курса (сек)                                     0.0         \n",
       "Общее время в курсе (сек)                                        0.0         \n",
       "Количество сессий всего                                          0.0         \n",
       "Количество сессий изучения курса                                 0.0         \n",
       "Количество сессий повторения курса                               0.0         \n",
       "Уровень сущности                                                 0.0         \n",
       "Порядок сущности                                                 0.0         \n",
       "ID родительской сущности                                         13571.0     \n",
       "Количество прохождений сущности на 100% после прохождения курса  0.0         \n",
       "Количество перепрохождений сущности на 100%                      0.0         \n",
       "Отказы по сущности                                               0.0         \n",
       "Попытки повторения по сущности                                   0.0         \n",
       "Попытки изучения по сущности                                     0.0         \n",
       "Все попытки по сущности                                          0.0         \n",
       "\n",
       "                                                                          25%  \\\n",
       "ID обучающегося в курсе                                          3.191999e+06   \n",
       "Прогресс по курсу                                                2.917000e-01   \n",
       "Результат по курсу                                               6.570000e-02   \n",
       "Средняя оценка, выставленная за курс                             0.000000e+00   \n",
       "Последняя выставленная оценка курсу                              0.000000e+00   \n",
       "Количество входов в курс                                         0.000000e+00   \n",
       "Количество неактивных дней в курсе                               3.100000e+01   \n",
       "Время изучения курса (сек)                                       6.837000e+03   \n",
       "Время повторения курса (сек)                                     0.000000e+00   \n",
       "Общее время в курсе (сек)                                        6.837000e+03   \n",
       "Количество сессий всего                                          7.000000e+00   \n",
       "Количество сессий изучения курса                                 7.000000e+00   \n",
       "Количество сессий повторения курса                               0.000000e+00   \n",
       "Уровень сущности                                                 1.000000e+00   \n",
       "Порядок сущности                                                 0.000000e+00   \n",
       "ID родительской сущности                                         1.359400e+04   \n",
       "Количество прохождений сущности на 100% после прохождения курса  0.000000e+00   \n",
       "Количество перепрохождений сущности на 100%                      0.000000e+00   \n",
       "Отказы по сущности                                               0.000000e+00   \n",
       "Попытки повторения по сущности                                   0.000000e+00   \n",
       "Попытки изучения по сущности                                     0.000000e+00   \n",
       "Все попытки по сущности                                          0.000000e+00   \n",
       "\n",
       "                                                                          50%  \\\n",
       "ID обучающегося в курсе                                          3.192256e+06   \n",
       "Прогресс по курсу                                                9.333000e-01   \n",
       "Результат по курсу                                               2.230000e-01   \n",
       "Средняя оценка, выставленная за курс                             0.000000e+00   \n",
       "Последняя выставленная оценка курсу                              0.000000e+00   \n",
       "Количество входов в курс                                         0.000000e+00   \n",
       "Количество неактивных дней в курсе                               4.100000e+01   \n",
       "Время изучения курса (сек)                                       2.246450e+04   \n",
       "Время повторения курса (сек)                                     7.000000e+00   \n",
       "Общее время в курсе (сек)                                        2.263150e+04   \n",
       "Количество сессий всего                                          1.900000e+01   \n",
       "Количество сессий изучения курса                                 1.800000e+01   \n",
       "Количество сессий повторения курса                               1.000000e+00   \n",
       "Уровень сущности                                                 2.000000e+00   \n",
       "Порядок сущности                                                 1.000000e+00   \n",
       "ID родительской сущности                                         1.362500e+04   \n",
       "Количество прохождений сущности на 100% после прохождения курса  0.000000e+00   \n",
       "Количество перепрохождений сущности на 100%                      0.000000e+00   \n",
       "Отказы по сущности                                               0.000000e+00   \n",
       "Попытки повторения по сущности                                   0.000000e+00   \n",
       "Попытки изучения по сущности                                     1.000000e+00   \n",
       "Все попытки по сущности                                          1.000000e+00   \n",
       "\n",
       "                                                                          75%  \\\n",
       "ID обучающегося в курсе                                          3.192416e+06   \n",
       "Прогресс по курсу                                                9.458000e-01   \n",
       "Результат по курсу                                               2.238000e-01   \n",
       "Средняя оценка, выставленная за курс                             0.000000e+00   \n",
       "Последняя выставленная оценка курсу                              0.000000e+00   \n",
       "Количество входов в курс                                         0.000000e+00   \n",
       "Количество неактивных дней в курсе                               4.600000e+01   \n",
       "Время изучения курса (сек)                                       3.340600e+04   \n",
       "Время повторения курса (сек)                                     2.000000e+01   \n",
       "Общее время в курсе (сек)                                        3.354700e+04   \n",
       "Количество сессий всего                                          3.100000e+01   \n",
       "Количество сессий изучения курса                                 3.100000e+01   \n",
       "Количество сессий повторения курса                               1.000000e+00   \n",
       "Уровень сущности                                                 2.000000e+00   \n",
       "Порядок сущности                                                 3.000000e+00   \n",
       "ID родительской сущности                                         1.365400e+04   \n",
       "Количество прохождений сущности на 100% после прохождения курса  0.000000e+00   \n",
       "Количество перепрохождений сущности на 100%                      0.000000e+00   \n",
       "Отказы по сущности                                               0.000000e+00   \n",
       "Попытки повторения по сущности                                   0.000000e+00   \n",
       "Попытки изучения по сущности                                     1.000000e+00   \n",
       "Все попытки по сущности                                          2.000000e+00   \n",
       "\n",
       "                                                                         max  \n",
       "ID обучающегося в курсе                                          3635934.000  \n",
       "Прогресс по курсу                                                1.000        \n",
       "Результат по курсу                                               0.329        \n",
       "Средняя оценка, выставленная за курс                             0.000        \n",
       "Последняя выставленная оценка курсу                              0.000        \n",
       "Количество входов в курс                                         0.000        \n",
       "Количество неактивных дней в курсе                               90.000       \n",
       "Время изучения курса (сек)                                       600175.000   \n",
       "Время повторения курса (сек)                                     56055.000    \n",
       "Общее время в курсе (сек)                                        600175.000   \n",
       "Количество сессий всего                                          80.000       \n",
       "Количество сессий изучения курса                                 79.000       \n",
       "Количество сессий повторения курса                               37.000       \n",
       "Уровень сущности                                                 2.000        \n",
       "Порядок сущности                                                 7.000        \n",
       "ID родительской сущности                                         13682.000    \n",
       "Количество прохождений сущности на 100% после прохождения курса  20.000       \n",
       "Количество перепрохождений сущности на 100%                      41.000       \n",
       "Отказы по сущности                                               21.000       \n",
       "Попытки повторения по сущности                                   41.000       \n",
       "Попытки изучения по сущности                                     58.000       \n",
       "Все попытки по сущности                                          66.000       "
      ]
     },
     "execution_count": 17,
     "metadata": {},
     "output_type": "execute_result"
    }
   ],
   "source": [
    "data.describe().T"
   ]
  },
  {
   "cell_type": "code",
   "execution_count": 18,
   "metadata": {},
   "outputs": [
    {
     "data": {
      "image/png": "[encoded data removed]",
      "text/plain": [
       "<Figure size 1200x600 with 1 Axes>"
      ]
     },
     "metadata": {},
     "output_type": "display_data"
    },
    {
     "data": {
      "image/png": "[encoded data removed]",
      "text/plain": [
       "<Figure size 1200x600 with 1 Axes>"
      ]
     },
     "metadata": {},
     "output_type": "display_data"
    },
    {
     "data": {
      "image/png": "[encoded data removed]",
      "text/plain": [
       "<Figure size 1200x600 with 1 Axes>"
      ]
     },
     "metadata": {},
     "output_type": "display_data"
    }
   ],
   "source": [
    "plt.xlabel('Дата начала изучения курса')\n",
    "data['Дата начала изучения курса'].hist(bins=30, figsize=(12, 6))\n",
    "plt.show()\n",
    "plt.xlabel('Дата получения прогресса >= 80% по курсу')\n",
    "data['Дата получения прогресса >= 80% по курсу'].hist(bins=30, figsize=(12, 6))\n",
    "plt.show()\n",
    "plt.xlabel('Дата завершения курса')\n",
    "data['Дата завершения курса'].hist(bins=30, figsize=(12, 6))\n",
    "plt.show()"
   ]
  },
  {
   "cell_type": "code",
   "execution_count": 19,
   "metadata": {},
   "outputs": [
    {
     "data": {
      "image/png": "[encoded data removed]",
      "text/plain": [
       "<Figure size 1500x900 with 1 Axes>"
      ]
     },
     "metadata": {},
     "output_type": "display_data"
    }
   ],
   "source": [
    "plt.figure(figsize=(15, 9))\n",
    "plt.xlabel('Дата начала изучения курса')\n",
    "data['Дата начала изучения курса'].hist(bins=30, alpha = 0.3)\n",
    "\n",
    "plt.xlabel('Дата получения прогресса >= 80% по курсу')\n",
    "data['Дата получения прогресса >= 80% по курсу'].hist(bins=30, alpha = 0.3)\n",
    "\n",
    "plt.xlabel('Дата завершения курса')\n",
    "data['Дата завершения курса'].hist(bins=30, alpha = 0.3)\n",
    "\n",
    "plt.legend(['Дата начала изучения курса','Дата получения прогресса >= 80% по курсу', 'Дата завершения курса'], loc=1, fontsize=14)\n",
    "plt.show()\n",
    "\n"
   ]
  },
  {
   "cell_type": "markdown",
   "metadata": {},
   "source": [
    "<div class=\"alert alert-warning\" style=\"border-radius: 15px; box-shadow: 4px 4px 4px; border: 1px solid \">\n",
    "<b> Комментарий</b>\n",
    "    \n",
    "Курс стартовал 01 августа 21, в период с 15 сентября по 30 сентября большая часть обучающихся прошли более 80% курса и к 1 октября большинство закончили курс\n",
    "</div>"
   ]
  },
  {
   "cell_type": "code",
   "execution_count": 20,
   "metadata": {
    "scrolled": true
   },
   "outputs": [
    {
     "data": {
      "text/plain": [
       "count    60950.000000\n",
       "mean     0.673784    \n",
       "std      0.386223    \n",
       "min      0.000000    \n",
       "25%      0.291700    \n",
       "50%      0.933300    \n",
       "75%      0.945800    \n",
       "max      1.000000    \n",
       "Name: Прогресс по курсу, dtype: float64"
      ]
     },
     "execution_count": 20,
     "metadata": {},
     "output_type": "execute_result"
    }
   ],
   "source": [
    "data['Прогресс по курсу'].describe()"
   ]
  },
  {
   "cell_type": "code",
   "execution_count": 21,
   "metadata": {},
   "outputs": [
    {
     "data": {
      "image/png": "[encoded data removed]",
      "text/plain": [
       "<Figure size 1200x800 with 1 Axes>"
      ]
     },
     "metadata": {},
     "output_type": "display_data"
    }
   ],
   "source": [
    "data['Прогресс по курсу'].hist(bins=30, figsize=(12,8))\n",
    "plt.show()"
   ]
  },
  {
   "cell_type": "markdown",
   "metadata": {},
   "source": [
    "<div class=\"alert alert-warning\" style=\"border-radius: 15px; box-shadow: 4px 4px 4px; border: 1px solid \">\n",
    "<b> Комментарий</b>\n",
    "    \n",
    "Судя по прогрессу достаточно успешное прохождение курса,<br>\n",
    "большая часть обучающихся преодолели 90% курса    \n",
    "\n",
    "медианое значение 93%<br>\n",
    "среднее зачение 67%    \n",
    "</div>"
   ]
  },
  {
   "cell_type": "code",
   "execution_count": 22,
   "metadata": {
    "scrolled": true
   },
   "outputs": [
    {
     "data": {
      "text/plain": [
       "Статус по курсу\n",
       "Изучает      17825\n",
       "Изучил       36915\n",
       "Не изучал    6210 \n",
       "Name: ID обучающегося в курсе, dtype: int64"
      ]
     },
     "execution_count": 22,
     "metadata": {},
     "output_type": "execute_result"
    }
   ],
   "source": [
    "data.groupby('Статус по курсу')['ID обучающегося в курсе'].count()"
   ]
  },
  {
   "cell_type": "code",
   "execution_count": 23,
   "metadata": {},
   "outputs": [
    {
     "data": {
      "image/png": "[encoded data removed]",
      "text/plain": [
       "<Figure size 800x800 with 1 Axes>"
      ]
     },
     "metadata": {},
     "output_type": "display_data"
    }
   ],
   "source": [
    "data.groupby('Статус по курсу').agg({'ID обучающегося в курсе':['count']}).plot(kind='pie', subplots=True, figsize=(8, 8), autopct='%1.2f%%', title = 'Статус по курсу');"
   ]
  },
  {
   "cell_type": "markdown",
   "metadata": {},
   "source": [
    "<div class=\"alert alert-warning\" style=\"border-radius: 15px; box-shadow: 4px 4px 4px; border: 1px solid \">\n",
    "<b> Комментарий</b>\n",
    "    \n",
    "<b> Статус по курсу</b> <br>\n",
    "Изучает     <b> 29.25%</b> <br>\n",
    "Изучил      <b> 60.57%</b> <br>\n",
    "Не изучал   <b> 10.19%</b> <br>    \n",
    "</div>"
   ]
  },
  {
   "cell_type": "code",
   "execution_count": 24,
   "metadata": {},
   "outputs": [
    {
     "data": {
      "text/plain": [
       "array([0.])"
      ]
     },
     "execution_count": 24,
     "metadata": {},
     "output_type": "execute_result"
    }
   ],
   "source": [
    "data [\"Средняя оценка, выставленная за курс\"].unique()"
   ]
  },
  {
   "cell_type": "code",
   "execution_count": 25,
   "metadata": {},
   "outputs": [
    {
     "data": {
      "text/plain": [
       "array([0.])"
      ]
     },
     "execution_count": 25,
     "metadata": {},
     "output_type": "execute_result"
    }
   ],
   "source": [
    "data [\"Последняя выставленная оценка курсу\"].unique()"
   ]
  },
  {
   "cell_type": "markdown",
   "metadata": {},
   "source": [
    "<div class=\"alert alert-warning\" style=\"border-radius: 15px; box-shadow: 4px 4px 4px; border: 1px solid \">\n",
    "<b> Комментарий</b>\n",
    "    \n",
    "Данных об оценках нет   \n",
    "</div>"
   ]
  },
  {
   "cell_type": "code",
   "execution_count": 26,
   "metadata": {},
   "outputs": [
    {
     "data": {
      "text/plain": [
       "<AxesSubplot:>"
      ]
     },
     "execution_count": 26,
     "metadata": {},
     "output_type": "execute_result"
    },
    {
     "data": {
      "image/png": "[encoded data removed]",
      "text/plain": [
       "<Figure size 640x480 with 1 Axes>"
      ]
     },
     "metadata": {},
     "output_type": "display_data"
    }
   ],
   "source": [
    "data [\"Количество неактивных дней в курсе\"].hist(bins=18)"
   ]
  },
  {
   "cell_type": "code",
   "execution_count": 27,
   "metadata": {},
   "outputs": [
    {
     "data": {
      "text/plain": [
       "count    60950.000000\n",
       "mean     6.657082    \n",
       "std      9.685967    \n",
       "min      0.000000    \n",
       "25%      1.868033    \n",
       "50%      6.137842    \n",
       "75%      9.127322    \n",
       "max      163.982240  \n",
       "Name: Время изучения курса (сек), dtype: float64"
      ]
     },
     "execution_count": 27,
     "metadata": {},
     "output_type": "execute_result"
    }
   ],
   "source": [
    "# переводим в часы\n",
    "(data['Время изучения курса (сек)'] / 3660).describe()"
   ]
  },
  {
   "cell_type": "code",
   "execution_count": 28,
   "metadata": {},
   "outputs": [
    {
     "data": {
      "image/png": "[encoded data removed]",
      "text/plain": [
       "<Figure size 1500x500 with 1 Axes>"
      ]
     },
     "metadata": {},
     "output_type": "display_data"
    }
   ],
   "source": [
    "fig = plt.figure(figsize=(15, 5))\n",
    "sns.boxplot(x=(data['Время изучения курса (сек)'] / 3600),showfliers = False)\n",
    "plt.title('Время изучения курса в часах')\n",
    "plt.show()"
   ]
  },
  {
   "cell_type": "markdown",
   "metadata": {},
   "source": [
    "<div class=\"alert alert-warning\" style=\"border-radius: 15px; box-shadow: 4px 4px 4px; border: 1px solid \">\n",
    "<b> Комментарий</b>\n",
    "    \n",
    "Среднее (6.66 часов) и медиана (6.14 часов) близки и составляют чуть больше 6 часов</div>"
   ]
  },
  {
   "cell_type": "code",
   "execution_count": 29,
   "metadata": {},
   "outputs": [
    {
     "data": {
      "text/plain": [
       "count    60950.000000\n",
       "mean     20.201887   \n",
       "std      15.296654   \n",
       "min      0.000000    \n",
       "25%      7.000000    \n",
       "50%      19.000000   \n",
       "75%      31.000000   \n",
       "max      80.000000   \n",
       "Name: Количество сессий всего, dtype: float64"
      ]
     },
     "execution_count": 29,
     "metadata": {},
     "output_type": "execute_result"
    }
   ],
   "source": [
    "data[\"Количество сессий всего\"].describe()"
   ]
  },
  {
   "cell_type": "code",
   "execution_count": 30,
   "metadata": {
    "scrolled": false
   },
   "outputs": [
    {
     "data": {
      "image/png": "[encoded data removed]",
      "text/plain": [
       "<Figure size 640x480 with 1 Axes>"
      ]
     },
     "metadata": {},
     "output_type": "display_data"
    }
   ],
   "source": [
    "data [\"Количество сессий всего\"].hist(bins=20);"
   ]
  }
 ],
 "metadata": {
  "ExecuteTimeLog": [
   {
    "duration": 1864,
    "start_time": "2021-06-10T15:00:38.070Z"
   },
   {
    "duration": 20,
    "start_time": "2021-06-10T15:00:39.937Z"
   },
   {
    "duration": 9,
    "start_time": "2021-06-10T15:00:39.960Z"
   },
   {
    "duration": 24,
    "start_time": "2021-06-10T15:00:39.972Z"
   },
   {
    "duration": 34,
    "start_time": "2021-06-10T15:00:39.998Z"
   },
   {
    "duration": 14,
    "start_time": "2021-06-10T15:00:40.035Z"
   },
   {
    "duration": 32,
    "start_time": "2021-06-10T15:00:40.052Z"
   },
   {
    "duration": 43,
    "start_time": "2021-06-10T15:00:40.089Z"
   },
   {
    "duration": 39,
    "start_time": "2021-06-10T15:00:40.135Z"
   },
   {
    "duration": 6,
    "start_time": "2021-06-10T15:00:40.177Z"
   },
   {
    "duration": 57,
    "start_time": "2021-06-10T15:00:40.186Z"
   },
   {
    "duration": 832,
    "start_time": "2021-06-10T15:00:40.245Z"
   },
   {
    "duration": 166,
    "start_time": "2021-06-10T15:00:41.080Z"
   },
   {
    "duration": 17,
    "start_time": "2021-06-10T15:00:41.249Z"
   },
   {
    "duration": 30,
    "start_time": "2021-06-10T15:00:41.269Z"
   },
   {
    "duration": 40,
    "start_time": "2021-06-10T15:00:41.301Z"
   },
   {
    "duration": 9,
    "start_time": "2021-06-10T15:00:41.344Z"
   },
   {
    "duration": 26,
    "start_time": "2021-06-10T15:00:41.356Z"
   },
   {
    "duration": 47,
    "start_time": "2021-06-10T15:00:41.385Z"
   },
   {
    "duration": 22,
    "start_time": "2021-06-10T15:00:41.435Z"
   },
   {
    "duration": 68,
    "start_time": "2021-06-10T15:00:41.460Z"
   },
   {
    "duration": 13,
    "start_time": "2021-06-10T15:00:41.532Z"
   },
   {
    "duration": 8,
    "start_time": "2021-06-10T15:00:41.554Z"
   },
   {
    "duration": 431,
    "start_time": "2021-06-10T15:00:41.565Z"
   },
   {
    "duration": 4,
    "start_time": "2021-06-10T15:00:41.999Z"
   },
   {
    "duration": 129,
    "start_time": "2021-06-10T15:00:42.006Z"
   },
   {
    "duration": 9,
    "start_time": "2021-06-10T15:00:42.138Z"
   },
   {
    "duration": 21,
    "start_time": "2021-06-10T15:00:42.149Z"
   },
   {
    "duration": 82,
    "start_time": "2021-06-10T15:00:42.173Z"
   },
   {
    "duration": 11,
    "start_time": "2021-06-10T15:00:42.257Z"
   },
   {
    "duration": 58,
    "start_time": "2021-06-10T15:00:42.270Z"
   },
   {
    "duration": 12,
    "start_time": "2021-06-10T15:00:42.330Z"
   },
   {
    "duration": 54,
    "start_time": "2021-06-10T15:00:42.345Z"
   },
   {
    "duration": 25,
    "start_time": "2021-06-10T15:00:42.402Z"
   },
   {
    "duration": 29,
    "start_time": "2021-06-10T15:00:42.430Z"
   },
   {
    "duration": 21,
    "start_time": "2021-06-10T15:00:42.463Z"
   },
   {
    "duration": 55,
    "start_time": "2021-06-10T15:00:42.486Z"
   },
   {
    "duration": 12,
    "start_time": "2021-06-10T15:00:42.544Z"
   },
   {
    "duration": 8,
    "start_time": "2021-06-10T15:00:42.558Z"
   },
   {
    "duration": 9,
    "start_time": "2021-06-10T15:00:42.570Z"
   },
   {
    "duration": 55,
    "start_time": "2021-06-10T15:00:42.581Z"
   },
   {
    "duration": 370,
    "start_time": "2021-06-10T15:00:42.638Z"
   },
   {
    "duration": 85,
    "start_time": "2021-06-10T15:00:43.011Z"
   },
   {
    "duration": 53,
    "start_time": "2021-06-10T15:00:43.099Z"
   },
   {
    "duration": 540,
    "start_time": "2021-06-10T15:00:43.155Z"
   },
   {
    "duration": 48,
    "start_time": "2021-06-10T15:00:43.698Z"
   },
   {
    "duration": 578,
    "start_time": "2021-06-10T15:00:43.749Z"
   },
   {
    "duration": 28,
    "start_time": "2021-06-10T15:00:44.331Z"
   },
   {
    "duration": 513,
    "start_time": "2021-06-10T15:00:44.362Z"
   },
   {
    "duration": 27,
    "start_time": "2021-06-10T15:00:44.878Z"
   },
   {
    "duration": 536,
    "start_time": "2021-06-10T15:00:44.907Z"
   },
   {
    "duration": 29,
    "start_time": "2021-06-10T15:00:45.446Z"
   },
   {
    "duration": 590,
    "start_time": "2021-06-10T15:00:45.478Z"
   },
   {
    "duration": 30,
    "start_time": "2021-06-10T15:00:46.070Z"
   },
   {
    "duration": 25,
    "start_time": "2021-06-10T15:00:46.102Z"
   },
   {
    "duration": 12,
    "start_time": "2021-06-10T15:00:46.131Z"
   },
   {
    "duration": 11,
    "start_time": "2021-06-10T15:00:46.145Z"
   },
   {
    "duration": 9,
    "start_time": "2021-06-10T15:00:46.158Z"
   },
   {
    "duration": 56,
    "start_time": "2021-06-10T15:00:46.169Z"
   },
   {
    "duration": 10,
    "start_time": "2021-06-10T15:00:46.228Z"
   },
   {
    "duration": 190,
    "start_time": "2021-06-10T15:00:46.241Z"
   },
   {
    "duration": 305,
    "start_time": "2021-06-10T15:00:46.433Z"
   },
   {
    "duration": 487,
    "start_time": "2021-06-10T15:10:19.089Z"
   },
   {
    "duration": 6,
    "start_time": "2021-06-10T15:10:23.105Z"
   },
   {
    "duration": 28,
    "start_time": "2021-06-10T15:11:21.759Z"
   },
   {
    "duration": 10,
    "start_time": "2021-06-10T15:11:47.582Z"
   },
   {
    "duration": 77,
    "start_time": "2021-06-10T15:13:01.319Z"
   },
   {
    "duration": 117,
    "start_time": "2021-07-02T15:21:10.959Z"
   },
   {
    "duration": 97,
    "start_time": "2021-07-02T15:28:14.754Z"
   },
   {
    "duration": 1332,
    "start_time": "2021-08-17T01:52:44.081Z"
   },
   {
    "duration": 316,
    "start_time": "2021-08-17T01:52:45.416Z"
   },
   {
    "duration": 10,
    "start_time": "2021-08-17T01:52:45.735Z"
   },
   {
    "duration": 19,
    "start_time": "2021-08-17T01:52:45.748Z"
   },
   {
    "duration": 17,
    "start_time": "2021-08-17T01:52:45.770Z"
   },
   {
    "duration": 15,
    "start_time": "2021-08-17T01:52:45.790Z"
   },
   {
    "duration": 20,
    "start_time": "2021-08-17T01:52:45.808Z"
   },
   {
    "duration": 19,
    "start_time": "2021-08-17T01:52:45.831Z"
   },
   {
    "duration": 17,
    "start_time": "2021-08-17T01:52:45.853Z"
   },
   {
    "duration": 8,
    "start_time": "2021-08-17T01:52:45.882Z"
   },
   {
    "duration": 22,
    "start_time": "2021-08-17T01:52:45.892Z"
   },
   {
    "duration": 295,
    "start_time": "2021-08-17T01:52:45.916Z"
   },
   {
    "duration": 10,
    "start_time": "2021-08-17T01:52:46.214Z"
   },
   {
    "duration": 264,
    "start_time": "2021-08-17T01:52:46.227Z"
   },
   {
    "duration": 9,
    "start_time": "2021-08-17T01:52:46.494Z"
   },
   {
    "duration": 15,
    "start_time": "2021-08-17T01:52:46.506Z"
   },
   {
    "duration": 770,
    "start_time": "2021-08-17T01:52:46.524Z"
   },
   {
    "duration": 627,
    "start_time": "2021-08-17T01:52:47.296Z"
   },
   {
    "duration": 17,
    "start_time": "2021-08-17T01:52:47.926Z"
   },
   {
    "duration": 697,
    "start_time": "2021-08-17T01:52:47.946Z"
   },
   {
    "duration": 641,
    "start_time": "2021-08-17T01:52:48.645Z"
   },
   {
    "duration": 16,
    "start_time": "2021-08-17T01:52:49.289Z"
   },
   {
    "duration": 716,
    "start_time": "2021-08-17T01:52:49.311Z"
   },
   {
    "duration": 16,
    "start_time": "2021-08-17T01:52:50.030Z"
   },
   {
    "duration": 490,
    "start_time": "2021-08-17T01:52:50.049Z"
   },
   {
    "duration": 8,
    "start_time": "2021-08-17T01:52:50.542Z"
   },
   {
    "duration": 324,
    "start_time": "2021-08-17T01:52:50.553Z"
   },
   {
    "duration": 490,
    "start_time": "2021-08-17T01:52:50.882Z"
   },
   {
    "duration": 6,
    "start_time": "2021-08-17T01:52:51.382Z"
   },
   {
    "duration": 8,
    "start_time": "2021-08-17T01:52:51.390Z"
   },
   {
    "duration": 15,
    "start_time": "2021-08-17T01:52:51.400Z"
   },
   {
    "duration": 10,
    "start_time": "2021-08-17T01:52:51.418Z"
   },
   {
    "duration": 10,
    "start_time": "2021-08-17T01:52:51.430Z"
   },
   {
    "duration": 7,
    "start_time": "2021-08-17T01:52:51.442Z"
   },
   {
    "duration": 5,
    "start_time": "2021-08-17T01:52:51.482Z"
   },
   {
    "duration": 12,
    "start_time": "2021-08-17T01:52:51.490Z"
   },
   {
    "duration": 11,
    "start_time": "2021-08-17T01:52:51.504Z"
   },
   {
    "duration": 10,
    "start_time": "2021-08-17T01:52:51.517Z"
   },
   {
    "duration": 58,
    "start_time": "2021-08-17T01:52:51.529Z"
   },
   {
    "duration": 12,
    "start_time": "2021-08-17T01:52:51.589Z"
   },
   {
    "duration": 10,
    "start_time": "2021-08-17T01:52:51.603Z"
   },
   {
    "duration": 10,
    "start_time": "2021-08-17T01:52:51.616Z"
   },
   {
    "duration": 6,
    "start_time": "2021-08-17T01:52:51.628Z"
   },
   {
    "duration": 59,
    "start_time": "2021-08-17T01:52:51.637Z"
   },
   {
    "duration": 18,
    "start_time": "2021-08-17T01:52:51.698Z"
   },
   {
    "duration": 12,
    "start_time": "2021-08-17T01:59:15.459Z"
   },
   {
    "duration": 440,
    "start_time": "2021-08-17T02:12:31.562Z"
   },
   {
    "duration": 4,
    "start_time": "2021-08-17T02:12:41.325Z"
   },
   {
    "duration": 5,
    "start_time": "2021-08-17T02:12:47.159Z"
   },
   {
    "duration": 1599,
    "start_time": "2021-08-28T20:17:28.705Z"
   },
   {
    "duration": 195,
    "start_time": "2021-08-28T20:17:30.306Z"
   },
   {
    "duration": 4,
    "start_time": "2021-08-28T20:17:30.504Z"
   },
   {
    "duration": 23,
    "start_time": "2021-08-28T20:17:30.510Z"
   },
   {
    "duration": 4,
    "start_time": "2021-08-28T20:17:30.535Z"
   },
   {
    "duration": 76,
    "start_time": "2021-08-28T20:17:30.541Z"
   },
   {
    "duration": 66,
    "start_time": "2021-08-28T20:17:30.619Z"
   },
   {
    "duration": 32,
    "start_time": "2021-08-28T20:17:30.689Z"
   },
   {
    "duration": 19,
    "start_time": "2021-08-28T20:17:30.723Z"
   },
   {
    "duration": 3,
    "start_time": "2021-08-28T20:17:30.744Z"
   },
   {
    "duration": 51,
    "start_time": "2021-08-28T20:17:30.749Z"
   },
   {
    "duration": 28,
    "start_time": "2021-08-28T20:17:30.802Z"
   },
   {
    "duration": 7,
    "start_time": "2021-08-28T20:17:30.832Z"
   },
   {
    "duration": 13,
    "start_time": "2021-08-28T20:17:30.840Z"
   },
   {
    "duration": 412,
    "start_time": "2021-08-28T20:17:30.855Z"
   },
   {
    "duration": 19,
    "start_time": "2021-08-28T20:17:31.269Z"
   },
   {
    "duration": 13,
    "start_time": "2021-08-28T20:17:31.289Z"
   },
   {
    "duration": 29,
    "start_time": "2021-08-28T20:17:31.303Z"
   },
   {
    "duration": 21,
    "start_time": "2021-08-28T20:17:31.333Z"
   },
   {
    "duration": 33,
    "start_time": "2021-08-28T20:17:31.355Z"
   },
   {
    "duration": 23,
    "start_time": "2021-08-28T20:17:31.389Z"
   },
   {
    "duration": 59,
    "start_time": "2021-08-28T20:17:31.413Z"
   },
   {
    "duration": 20,
    "start_time": "2021-08-28T20:17:31.476Z"
   },
   {
    "duration": 513,
    "start_time": "2021-08-28T20:17:31.497Z"
   },
   {
    "duration": 5,
    "start_time": "2021-08-28T20:17:32.012Z"
   },
   {
    "duration": 12,
    "start_time": "2021-08-28T20:17:32.019Z"
   },
   {
    "duration": 11,
    "start_time": "2021-08-28T20:17:32.032Z"
   },
   {
    "duration": 51,
    "start_time": "2021-08-28T20:17:32.044Z"
   },
   {
    "duration": 99,
    "start_time": "2021-08-28T20:17:32.097Z"
   },
   {
    "duration": 5,
    "start_time": "2021-08-28T20:17:32.198Z"
   },
   {
    "duration": 31,
    "start_time": "2021-08-28T20:17:32.205Z"
   },
   {
    "duration": 69,
    "start_time": "2021-08-28T20:17:32.238Z"
   },
   {
    "duration": 3,
    "start_time": "2021-08-28T20:17:32.308Z"
   },
   {
    "duration": 10,
    "start_time": "2021-08-28T20:17:32.313Z"
   },
   {
    "duration": 21,
    "start_time": "2021-08-28T20:17:32.325Z"
   },
   {
    "duration": 231,
    "start_time": "2021-08-28T20:17:32.348Z"
   },
   {
    "duration": 21,
    "start_time": "2021-08-28T20:17:32.584Z"
   },
   {
    "duration": 6,
    "start_time": "2021-08-28T20:17:32.606Z"
   },
   {
    "duration": 16,
    "start_time": "2021-08-28T20:17:32.614Z"
   },
   {
    "duration": 7,
    "start_time": "2021-08-28T20:17:32.631Z"
   },
   {
    "duration": 12,
    "start_time": "2021-08-28T20:17:32.640Z"
   },
   {
    "duration": 48,
    "start_time": "2021-08-28T20:17:32.654Z"
   },
   {
    "duration": 14,
    "start_time": "2021-08-28T20:17:32.704Z"
   },
   {
    "duration": 12,
    "start_time": "2021-08-28T20:17:32.719Z"
   },
   {
    "duration": 11,
    "start_time": "2021-08-28T20:17:32.732Z"
   },
   {
    "duration": 6,
    "start_time": "2021-08-28T20:25:30.785Z"
   },
   {
    "duration": 185,
    "start_time": "2021-08-28T20:25:30.793Z"
   },
   {
    "duration": 4,
    "start_time": "2021-08-28T20:25:30.986Z"
   },
   {
    "duration": 22,
    "start_time": "2021-08-28T20:25:30.992Z"
   },
   {
    "duration": 7,
    "start_time": "2021-08-28T20:25:31.015Z"
   },
   {
    "duration": 45,
    "start_time": "2021-08-28T20:25:31.023Z"
   },
   {
    "duration": 50,
    "start_time": "2021-08-28T20:25:31.084Z"
   },
   {
    "duration": 25,
    "start_time": "2021-08-28T20:25:31.137Z"
   },
   {
    "duration": 38,
    "start_time": "2021-08-28T20:25:31.164Z"
   },
   {
    "duration": 4,
    "start_time": "2021-08-28T20:25:31.204Z"
   },
   {
    "duration": 31,
    "start_time": "2021-08-28T20:25:31.210Z"
   },
   {
    "duration": 9,
    "start_time": "2021-08-28T20:25:31.243Z"
   },
   {
    "duration": 13,
    "start_time": "2021-08-28T20:25:31.254Z"
   },
   {
    "duration": 16,
    "start_time": "2021-08-28T20:25:31.269Z"
   },
   {
    "duration": 401,
    "start_time": "2021-08-28T20:25:31.287Z"
   },
   {
    "duration": 18,
    "start_time": "2021-08-28T20:25:31.690Z"
   },
   {
    "duration": 3,
    "start_time": "2021-08-28T20:25:31.710Z"
   },
   {
    "duration": 10,
    "start_time": "2021-08-28T20:25:31.714Z"
   },
   {
    "duration": 6,
    "start_time": "2021-08-28T20:25:31.725Z"
   },
   {
    "duration": 55,
    "start_time": "2021-08-28T20:25:31.732Z"
   },
   {
    "duration": 26,
    "start_time": "2021-08-28T20:25:31.789Z"
   },
   {
    "duration": 52,
    "start_time": "2021-08-28T20:25:31.817Z"
   },
   {
    "duration": 14,
    "start_time": "2021-08-28T20:25:31.885Z"
   },
   {
    "duration": 124,
    "start_time": "2021-08-28T20:25:31.902Z"
   },
   {
    "duration": 6,
    "start_time": "2021-08-28T20:25:32.028Z"
   },
   {
    "duration": 15,
    "start_time": "2021-08-28T20:25:32.035Z"
   },
   {
    "duration": 10,
    "start_time": "2021-08-28T20:25:32.052Z"
   },
   {
    "duration": 23,
    "start_time": "2021-08-28T20:25:32.063Z"
   },
   {
    "duration": 31,
    "start_time": "2021-08-28T20:25:32.088Z"
   },
   {
    "duration": 3,
    "start_time": "2021-08-28T20:25:32.121Z"
   },
   {
    "duration": 33,
    "start_time": "2021-08-28T20:25:32.126Z"
   },
   {
    "duration": 46,
    "start_time": "2021-08-28T20:25:32.161Z"
   },
   {
    "duration": 3,
    "start_time": "2021-08-28T20:25:32.208Z"
   },
   {
    "duration": 10,
    "start_time": "2021-08-28T20:25:32.212Z"
   },
   {
    "duration": 30,
    "start_time": "2021-08-28T20:25:32.223Z"
   },
   {
    "duration": 129,
    "start_time": "2021-08-28T20:25:32.255Z"
   },
   {
    "duration": 21,
    "start_time": "2021-08-28T20:25:32.386Z"
   },
   {
    "duration": 8,
    "start_time": "2021-08-28T20:25:32.409Z"
   },
   {
    "duration": 23,
    "start_time": "2021-08-28T20:25:32.419Z"
   },
   {
    "duration": 7,
    "start_time": "2021-08-28T20:25:32.444Z"
   },
   {
    "duration": 15,
    "start_time": "2021-08-28T20:25:32.452Z"
   },
   {
    "duration": 15,
    "start_time": "2021-08-28T20:25:32.486Z"
   },
   {
    "duration": 13,
    "start_time": "2021-08-28T20:25:32.504Z"
   },
   {
    "duration": 16,
    "start_time": "2021-08-28T20:25:32.518Z"
   },
   {
    "duration": 14,
    "start_time": "2021-08-28T20:25:32.535Z"
   },
   {
    "duration": 1542,
    "start_time": "2021-08-28T20:53:15.762Z"
   },
   {
    "duration": 174,
    "start_time": "2021-08-28T20:53:17.306Z"
   },
   {
    "duration": 4,
    "start_time": "2021-08-28T20:53:17.484Z"
   },
   {
    "duration": 18,
    "start_time": "2021-08-28T20:53:17.491Z"
   },
   {
    "duration": 4,
    "start_time": "2021-08-28T20:53:17.510Z"
   },
   {
    "duration": 50,
    "start_time": "2021-08-28T20:53:17.515Z"
   },
   {
    "duration": 58,
    "start_time": "2021-08-28T20:53:17.585Z"
   },
   {
    "duration": 44,
    "start_time": "2021-08-28T20:53:17.646Z"
   },
   {
    "duration": 25,
    "start_time": "2021-08-28T20:53:17.692Z"
   },
   {
    "duration": 4,
    "start_time": "2021-08-28T20:53:17.719Z"
   },
   {
    "duration": 22,
    "start_time": "2021-08-28T20:53:17.725Z"
   },
   {
    "duration": 4,
    "start_time": "2021-08-28T20:53:17.749Z"
   },
   {
    "duration": 31,
    "start_time": "2021-08-28T20:53:17.755Z"
   },
   {
    "duration": 6,
    "start_time": "2021-08-28T20:53:17.787Z"
   },
   {
    "duration": 407,
    "start_time": "2021-08-28T20:53:17.795Z"
   },
   {
    "duration": 15,
    "start_time": "2021-08-28T20:53:18.204Z"
   },
   {
    "duration": 3,
    "start_time": "2021-08-28T20:53:18.220Z"
   },
   {
    "duration": 14,
    "start_time": "2021-08-28T20:53:18.225Z"
   },
   {
    "duration": 13,
    "start_time": "2021-08-28T20:53:18.241Z"
   },
   {
    "duration": 56,
    "start_time": "2021-08-28T20:53:18.257Z"
   },
   {
    "duration": 38,
    "start_time": "2021-08-28T20:53:18.315Z"
   },
   {
    "duration": 76,
    "start_time": "2021-08-28T20:53:18.355Z"
   },
   {
    "duration": 13,
    "start_time": "2021-08-28T20:53:18.435Z"
   },
   {
    "duration": 558,
    "start_time": "2021-08-28T20:53:18.450Z"
   },
   {
    "duration": 6,
    "start_time": "2021-08-28T20:53:19.010Z"
   },
   {
    "duration": 20,
    "start_time": "2021-08-28T20:53:19.017Z"
   },
   {
    "duration": 7,
    "start_time": "2021-08-28T20:53:19.038Z"
   },
   {
    "duration": 13,
    "start_time": "2021-08-28T20:53:19.085Z"
   },
   {
    "duration": 31,
    "start_time": "2021-08-28T20:53:19.100Z"
   },
   {
    "duration": 52,
    "start_time": "2021-08-28T20:53:19.133Z"
   },
   {
    "duration": 32,
    "start_time": "2021-08-28T20:53:19.188Z"
   },
   {
    "duration": 23,
    "start_time": "2021-08-28T20:53:19.222Z"
   },
   {
    "duration": 40,
    "start_time": "2021-08-28T20:53:19.246Z"
   },
   {
    "duration": 15,
    "start_time": "2021-08-28T20:53:19.288Z"
   },
   {
    "duration": 25,
    "start_time": "2021-08-28T20:53:19.304Z"
   },
   {
    "duration": 235,
    "start_time": "2021-08-28T20:53:19.330Z"
   },
   {
    "duration": 19,
    "start_time": "2021-08-28T20:53:19.567Z"
   },
   {
    "duration": 6,
    "start_time": "2021-08-28T20:53:19.588Z"
   },
   {
    "duration": 19,
    "start_time": "2021-08-28T20:53:19.597Z"
   },
   {
    "duration": 7,
    "start_time": "2021-08-28T20:53:19.617Z"
   },
   {
    "duration": 12,
    "start_time": "2021-08-28T20:53:19.625Z"
   },
   {
    "duration": 13,
    "start_time": "2021-08-28T20:53:19.638Z"
   },
   {
    "duration": 44,
    "start_time": "2021-08-28T20:53:19.653Z"
   },
   {
    "duration": 22,
    "start_time": "2021-08-28T20:53:19.699Z"
   },
   {
    "duration": 11,
    "start_time": "2021-08-28T20:53:19.723Z"
   },
   {
    "duration": 5,
    "start_time": "2021-08-28T21:14:35.038Z"
   },
   {
    "duration": 14,
    "start_time": "2021-08-28T21:14:36.172Z"
   },
   {
    "duration": 5,
    "start_time": "2021-08-28T21:14:53.981Z"
   },
   {
    "duration": 15,
    "start_time": "2021-08-28T21:14:55.686Z"
   },
   {
    "duration": 4,
    "start_time": "2021-08-30T15:57:10.457Z"
   },
   {
    "duration": 4,
    "start_time": "2021-08-30T15:57:12.824Z"
   },
   {
    "duration": 74540,
    "start_time": "2021-08-30T15:59:17.842Z"
   },
   {
    "duration": 24948,
    "start_time": "2021-08-30T16:13:34.977Z"
   },
   {
    "duration": 11,
    "start_time": "2021-08-30T16:14:07.184Z"
   },
   {
    "duration": 22,
    "start_time": "2021-08-30T16:14:07.198Z"
   },
   {
    "duration": 335,
    "start_time": "2021-08-30T16:14:07.223Z"
   },
   {
    "duration": 31,
    "start_time": "2021-08-30T16:14:07.562Z"
   },
   {
    "duration": 7,
    "start_time": "2021-08-30T16:14:07.597Z"
   },
   {
    "duration": 107,
    "start_time": "2021-08-30T16:14:07.606Z"
   },
   {
    "duration": 104,
    "start_time": "2021-08-30T16:14:07.716Z"
   },
   {
    "duration": 38,
    "start_time": "2021-08-30T16:14:07.824Z"
   },
   {
    "duration": 28,
    "start_time": "2021-08-30T16:14:07.882Z"
   },
   {
    "duration": 6,
    "start_time": "2021-08-30T16:14:07.912Z"
   },
   {
    "duration": 35,
    "start_time": "2021-08-30T16:14:07.920Z"
   },
   {
    "duration": 42,
    "start_time": "2021-08-30T16:14:07.957Z"
   },
   {
    "duration": 7,
    "start_time": "2021-08-30T16:14:08.002Z"
   },
   {
    "duration": 8,
    "start_time": "2021-08-30T16:14:08.012Z"
   },
   {
    "duration": 804,
    "start_time": "2021-08-30T16:14:08.022Z"
   },
   {
    "duration": 23,
    "start_time": "2021-08-30T16:14:08.829Z"
   },
   {
    "duration": 5,
    "start_time": "2021-08-30T16:14:08.855Z"
   },
   {
    "duration": 43,
    "start_time": "2021-08-30T16:14:08.862Z"
   },
   {
    "duration": 10,
    "start_time": "2021-08-30T16:14:08.907Z"
   },
   {
    "duration": 81,
    "start_time": "2021-08-30T16:14:08.920Z"
   },
   {
    "duration": 28,
    "start_time": "2021-08-30T16:14:09.004Z"
   },
   {
    "duration": 101,
    "start_time": "2021-08-30T16:14:09.034Z"
   },
   {
    "duration": 11,
    "start_time": "2021-08-30T16:14:09.140Z"
   },
   {
    "duration": 8,
    "start_time": "2021-08-30T16:14:09.154Z"
   },
   {
    "duration": 866,
    "start_time": "2021-08-30T16:14:09.164Z"
   },
   {
    "duration": 8,
    "start_time": "2021-08-30T16:14:10.033Z"
   },
   {
    "duration": 39,
    "start_time": "2021-08-30T16:14:10.044Z"
   },
   {
    "duration": 8,
    "start_time": "2021-08-30T16:14:10.086Z"
   },
   {
    "duration": 11,
    "start_time": "2021-08-30T16:14:10.097Z"
   },
   {
    "duration": 108,
    "start_time": "2021-08-30T16:14:10.111Z"
   },
   {
    "duration": 5,
    "start_time": "2021-08-30T16:14:10.221Z"
   },
   {
    "duration": 96,
    "start_time": "2021-08-30T16:14:10.228Z"
   },
   {
    "duration": 88,
    "start_time": "2021-08-30T16:14:10.327Z"
   },
   {
    "duration": 3,
    "start_time": "2021-08-30T16:14:10.417Z"
   },
   {
    "duration": 7,
    "start_time": "2021-08-30T16:14:10.423Z"
   },
   {
    "duration": 12,
    "start_time": "2021-08-30T16:14:10.433Z"
   },
   {
    "duration": 67,
    "start_time": "2021-08-30T16:14:10.448Z"
   },
   {
    "duration": 210,
    "start_time": "2021-08-30T16:14:10.518Z"
   },
   {
    "duration": 26,
    "start_time": "2021-08-30T16:14:10.730Z"
   },
   {
    "duration": 27,
    "start_time": "2021-08-30T16:14:10.759Z"
   },
   {
    "duration": 31,
    "start_time": "2021-08-30T16:14:10.789Z"
   },
   {
    "duration": 9,
    "start_time": "2021-08-30T16:14:10.822Z"
   },
   {
    "duration": 58,
    "start_time": "2021-08-30T16:14:10.835Z"
   },
   {
    "duration": 18,
    "start_time": "2021-08-30T16:14:10.897Z"
   },
   {
    "duration": 21,
    "start_time": "2021-08-30T16:14:10.918Z"
   },
   {
    "duration": 64,
    "start_time": "2021-08-30T16:14:10.942Z"
   },
   {
    "duration": 33,
    "start_time": "2021-08-30T16:14:11.009Z"
   },
   {
    "duration": 1183,
    "start_time": "2021-08-30T16:14:11.045Z"
   },
   {
    "duration": -27,
    "start_time": "2021-08-30T16:14:12.258Z"
   },
   {
    "duration": 3,
    "start_time": "2021-11-29T08:21:40.609Z"
   },
   {
    "duration": 1718,
    "start_time": "2021-11-29T08:21:40.615Z"
   },
   {
    "duration": 3,
    "start_time": "2021-11-29T08:21:42.335Z"
   },
   {
    "duration": 91,
    "start_time": "2021-11-29T08:21:42.341Z"
   },
   {
    "duration": 8,
    "start_time": "2021-11-29T08:21:42.434Z"
   },
   {
    "duration": 45,
    "start_time": "2021-11-29T08:21:42.444Z"
   },
   {
    "duration": 15,
    "start_time": "2021-11-29T08:21:42.491Z"
   },
   {
    "duration": 3999,
    "start_time": "2021-11-29T08:21:42.508Z"
   },
   {
    "duration": 21,
    "start_time": "2021-11-29T08:21:46.510Z"
   },
   {
    "duration": 1272,
    "start_time": "2021-11-29T08:21:46.533Z"
   },
   {
    "duration": 9,
    "start_time": "2021-11-29T08:21:47.807Z"
   },
   {
    "duration": 5,
    "start_time": "2021-11-29T08:21:47.818Z"
   },
   {
    "duration": 201,
    "start_time": "2021-11-29T08:21:47.825Z"
   },
   {
    "duration": 6,
    "start_time": "2021-11-29T08:21:48.028Z"
   },
   {
    "duration": 561,
    "start_time": "2021-11-29T08:21:48.036Z"
   },
   {
    "duration": 87658,
    "start_time": "2021-11-29T08:21:48.599Z"
   },
   {
    "duration": 1941,
    "start_time": "2021-11-29T08:23:16.259Z"
   },
   {
    "duration": 19,
    "start_time": "2021-11-29T08:23:18.202Z"
   },
   {
    "duration": 6096,
    "start_time": "2021-11-29T08:23:18.222Z"
   },
   {
    "duration": 9,
    "start_time": "2021-11-29T08:23:24.320Z"
   },
   {
    "duration": 402,
    "start_time": "2021-12-01T06:39:32.546Z"
   },
   {
    "duration": 98,
    "start_time": "2021-12-17T17:29:00.739Z"
   },
   {
    "duration": 2941,
    "start_time": "2021-12-17T17:29:06.831Z"
   },
   {
    "duration": 6,
    "start_time": "2021-12-17T17:29:09.776Z"
   },
   {
    "duration": 160,
    "start_time": "2021-12-17T17:29:15.018Z"
   },
   {
    "duration": 12,
    "start_time": "2021-12-17T17:29:17.798Z"
   },
   {
    "duration": 144,
    "start_time": "2021-12-17T17:29:45.674Z"
   },
   {
    "duration": 97,
    "start_time": "2021-12-17T18:48:28.914Z"
   },
   {
    "duration": 129,
    "start_time": "2021-12-17T18:50:22.798Z"
   },
   {
    "duration": 93,
    "start_time": "2021-12-17T18:55:47.720Z"
   }
  ],
  "kernelspec": {
   "display_name": "Python 3 (ipykernel)",
   "language": "python",
   "name": "python3"
  },
  "language_info": {
   "codemirror_mode": {
    "name": "ipython",
    "version": 3
   },
   "file_extension": ".py",
   "mimetype": "text/x-python",
   "name": "python",
   "nbconvert_exporter": "python",
   "pygments_lexer": "ipython3",
   "version": "3.7.16"
  },
  "toc": {
   "base_numbering": 1,
   "nav_menu": {},
   "number_sections": true,
   "sideBar": true,
   "skip_h1_title": true,
   "title_cell": "Содержание",
   "title_sidebar": "Contents",
   "toc_cell": true,
   "toc_position": {
    "height": "886.969px",
    "left": "397px",
    "top": "182px",
    "width": "314px"
   },
   "toc_section_display": true,
   "toc_window_display": true
  },
  "varInspector": {
   "cols": {
    "lenName": 16,
    "lenType": 16,
    "lenVar": 40
   },
   "kernels_config": {
    "python": {
     "delete_cmd_postfix": "",
     "delete_cmd_prefix": "del ",
     "library": "var_list.py",
     "varRefreshCmd": "print(var_dic_list())"
    },
    "r": {
     "delete_cmd_postfix": ") ",
     "delete_cmd_prefix": "rm(",
     "library": "var_list.r",
     "varRefreshCmd": "cat(var_dic_list()) "
    }
   },
   "types_to_exclude": [
    "module",
    "function",
    "builtin_function_or_method",
    "instance",
    "_Feature"
   ],
   "window_display": false
  }
 },
 "nbformat": 4,
 "nbformat_minor": 2
}
