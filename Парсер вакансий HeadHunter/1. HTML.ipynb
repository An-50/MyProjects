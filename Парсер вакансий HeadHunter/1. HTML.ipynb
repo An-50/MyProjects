{
 "cells": [
  {
   "cell_type": "markdown",
   "metadata": {
    "toc": true
   },
   "source": [
    "<h1>Содержание<span class=\"tocSkip\"></span></h1>\n",
    "<div class=\"toc\"><ul class=\"toc-item\"><li><span><a href=\"#Цель-электива:\" data-toc-modified-id=\"Цель-электива:-1\"><span class=\"toc-item-num\">1&nbsp;&nbsp;</span>Цель электива:</a></span></li><li><span><a href=\"#Какие-библиотеки-и-инструменты-будем-использовать?\" data-toc-modified-id=\"Какие-библиотеки-и-инструменты-будем-использовать?-2\"><span class=\"toc-item-num\">2&nbsp;&nbsp;</span>Какие библиотеки и инструменты будем использовать?</a></span><ul class=\"toc-item\"><li><span><a href=\"#Импорт-библиотек\" data-toc-modified-id=\"Импорт-библиотек-2.1\"><span class=\"toc-item-num\">2.1&nbsp;&nbsp;</span>Импорт библиотек</a></span></li><li><span><a href=\"#Делаем-выгрузку-из-HeadHunter\" data-toc-modified-id=\"Делаем-выгрузку-из-HeadHunter-2.2\"><span class=\"toc-item-num\">2.2&nbsp;&nbsp;</span>Делаем выгрузку из HeadHunter</a></span><ul class=\"toc-item\"><li><span><a href=\"#Загружаем-данные\" data-toc-modified-id=\"Загружаем-данные-2.2.1\"><span class=\"toc-item-num\">2.2.1&nbsp;&nbsp;</span>Загружаем данные</a></span></li><li><span><a href=\"#Напишем-цикл-для-направления-запросов-к-API-(в-3-этапа:-get,-json-и-перебор-страниц)\" data-toc-modified-id=\"Напишем-цикл-для-направления-запросов-к-API-(в-3-этапа:-get,-json-и-перебор-страниц)-2.2.2\"><span class=\"toc-item-num\">2.2.2&nbsp;&nbsp;</span>Напишем цикл для направления запросов к API (в 3 этапа: get, json и перебор страниц)</a></span></li></ul></li><li><span><a href=\"#Вытащим-ценную-информацию-из-словарей\" data-toc-modified-id=\"Вытащим-ценную-информацию-из-словарей-2.3\"><span class=\"toc-item-num\">2.3&nbsp;&nbsp;</span>Вытащим ценную информацию из словарей</a></span></li><li><span><a href=\"#Про-дубликаты\" data-toc-modified-id=\"Про-дубликаты-2.4\"><span class=\"toc-item-num\">2.4&nbsp;&nbsp;</span>Про дубликаты</a></span></li><li><span><a href=\"#Посмотрим-компании,-предлагающие-вакансии,-а-также-города\" data-toc-modified-id=\"Посмотрим-компании,-предлагающие-вакансии,-а-также-города-2.5\"><span class=\"toc-item-num\">2.5&nbsp;&nbsp;</span>Посмотрим компании, предлагающие вакансии, а также города</a></span></li><li><span><a href=\"#Что-с-зарплатой?\" data-toc-modified-id=\"Что-с-зарплатой?-2.6\"><span class=\"toc-item-num\">2.6&nbsp;&nbsp;</span>Что с зарплатой?</a></span></li><li><span><a href=\"#Давайте-поищем-вакансии\" data-toc-modified-id=\"Давайте-поищем-вакансии-2.7\"><span class=\"toc-item-num\">2.7&nbsp;&nbsp;</span>Давайте поищем вакансии</a></span></li><li><span><a href=\"#Посмотрим-содержание-вакансий\" data-toc-modified-id=\"Посмотрим-содержание-вакансий-2.8\"><span class=\"toc-item-num\">2.8&nbsp;&nbsp;</span>Посмотрим содержание вакансий</a></span></li><li><span><a href=\"#Добавим-кнопки\" data-toc-modified-id=\"Добавим-кнопки-2.9\"><span class=\"toc-item-num\">2.9&nbsp;&nbsp;</span>Добавим кнопки</a></span></li></ul></li></ul></div>"
   ]
  },
  {
   "cell_type": "markdown",
   "metadata": {},
   "source": [
    "# Парсер HeadHunter\n",
    "\n",
    "## Цель электива:\n",
    "* Научиться делать парсер, чтобы получать те вакансии, которые интересны именно тебе\n",
    "* Расширить портфолио проектов\n",
    "\n",
    "## Какие библиотеки и инструменты будем использовать?\n",
    "* requests - для отправки запросов к API HH\n",
    "* pandas - для формирования таблицы \n",
    "* matplotlib, seaborn - визуализация\n",
    "* json - формат обмена данными, будем использовать для декодирования ответов в удобном формате\n",
    "* IPython - для магических штук\n",
    "* BeautifulSoup - библиотека Python для извлечения данных из файлов HTML и XML"
   ]
  },
  {
   "cell_type": "markdown",
   "metadata": {},
   "source": [
    "### Импорт библиотек"
   ]
  },
  {
   "cell_type": "code",
   "execution_count": 1,
   "metadata": {},
   "outputs": [],
   "source": [
    "import os\n",
    "import pandas as pd\n",
    "import requests\n",
    "import numpy as np\n",
    "\n",
    "import json\n",
    "\n",
    "from datetime import datetime, timedelta\n",
    "import time\n",
    "from IPython.core.display import display, HTML, clear_output\n",
    "import ipywidgets as widgets\n",
    "from typing import Union\n",
    "\n",
    "import seaborn as sns\n",
    "import matplotlib.pyplot as plt\n",
    "\n",
    "pd.set_option('display.max_columns', 50) #устанавливаем максимальное число отображаемых колонок\n",
    "pd.set_option('display.max_rows', 100)\n",
    "pd.set_option('max_colwidth', 1)\n"
   ]
  },
  {
   "cell_type": "code",
   "execution_count": 2,
   "metadata": {},
   "outputs": [
    {
     "name": "stdout",
     "output_type": "stream",
     "text": [
      "1.3.4\n"
     ]
    }
   ],
   "source": [
    "print (pd.__version__) #проверка версии Pandas"
   ]
  },
  {
   "cell_type": "markdown",
   "metadata": {},
   "source": [
    "### Делаем выгрузку из HeadHunter\n",
    "Ссылка на API HH: https://github.com/hhru/api \\\n",
    "Для того, чтобы написать запрос используется язык поисковых запросов, задокументированный тут: https://hh.ru/article/1175 \\\n",
    "Фильтрацию можно делать в самом запросе, например, сделать поиск по полю компаний или же по наличию конкретного текста в описании, где COMPANY_NAME - название компании, а DESCRIPTION - описание вакансии. Язык запросов работает и на обычном сайте hh.ru, что бывает полезно."
   ]
  },
  {
   "cell_type": "markdown",
   "metadata": {},
   "source": [
    "Создадим необходимые константы: BASE_URL"
   ]
  },
  {
   "cell_type": "markdown",
   "metadata": {},
   "source": [
    "#### Загружаем данные"
   ]
  },
  {
   "cell_type": "markdown",
   "metadata": {},
   "source": [
    "Найдем вакансии \"Аналитика\" и исключим вакансии со словами Системный, Разработчик, System"
   ]
  },
  {
   "cell_type": "code",
   "execution_count": 3,
   "metadata": {},
   "outputs": [],
   "source": [
    "BASE_URL = \"https://api.hh.ru/\" \n",
    "\n",
    "#TEXT = f'NAME:(\"Machine Learning Engineer\" OR \"Data Scientist\" OR \"Дата саентист\" OR \"Machine Learning Developer\" or \"Machine Learning Researcher\" or \"Искусственный интеллект\" or \"Машинное обучение\" or \"Специалист по machine learning\" or \"Специалист по машинному обучению\" or \"AI engineer\" or \"Разработчик ML\" or \"Data Science\" or \"Machine Learning\" or \"Artificial Intelligence\" or \"ML Engineer\" or \"Аналитик\" or \"Analyst\" or \"Data Engineer\" or \"DWH\" or \"BI\" or \"Business Intelligence\" or \"Data инженер\" or \"Инженер данных\" or \"ETL\" or \"КХД\")'\n",
    "TEXT = f'SQL NAME:((\"Аналитик\" OR \"Analyst\" OR \"Аналитик SQL\" OR \"BI\" OR \"Tableau\") NOT \"Системный\" NOT Разработчик NOT System)'\n",
    "\n",
    "dt_now = datetime.now().date()\n",
    "dt_from = dt_now - timedelta(days=3) \n",
    "DATE_TO = dt_now.isoformat() #API требует дату в формате ISO 8601 YYYY-MM-DD или YYYY-MM-DDThh:mm:ss±hhmm\n",
    "DATE_FROM = dt_from.isoformat()\n",
    "\n",
    "VAC_URL = BASE_URL + f'vacancies?text={TEXT}&date_from={DATE_FROM}&date_to={DATE_TO}&responses_count_enabled=True&per_page=100'"
   ]
  },
  {
   "cell_type": "code",
   "execution_count": 4,
   "metadata": {},
   "outputs": [
    {
     "data": {
      "text/plain": [
       "'https://api.hh.ru/vacancies?text=SQL NAME:((\"Аналитик\" OR \"Analyst\" OR \"Аналитик SQL\" OR \"BI\" OR \"Tableau\") NOT \"Системный\" NOT Разработчик NOT System)&date_from=2022-08-21&date_to=2022-08-24&responses_count_enabled=True&per_page=100'"
      ]
     },
     "execution_count": 4,
     "metadata": {},
     "output_type": "execute_result"
    }
   ],
   "source": [
    "VAC_URL"
   ]
  },
  {
   "cell_type": "code",
   "execution_count": 5,
   "metadata": {},
   "outputs": [],
   "source": [
    "vacancy_df = pd.DataFrame() # создаем датафрейм в который будем сохранять наши данные"
   ]
  },
  {
   "cell_type": "markdown",
   "metadata": {},
   "source": [
    "В выдаче API HH нет опыта работы, поэтому мы укажем его в запросе самостоятельно:\\\n",
    "Можно выбрать подходящий. Важно помнить, что можно откликаться на вакансии «от 1 года опыта» :)"
   ]
  },
  {
   "cell_type": "code",
   "execution_count": 6,
   "metadata": {},
   "outputs": [],
   "source": [
    "experiences = ['noExperience',\n",
    "               'between1And3',\n",
    "               'between3And6', \n",
    "               'moreThan6']"
   ]
  },
  {
   "cell_type": "markdown",
   "metadata": {},
   "source": [
    "#### Напишем цикл для направления запросов к API (в 3 этапа: get, json и перебор страниц)"
   ]
  },
  {
   "cell_type": "code",
   "execution_count": 7,
   "metadata": {},
   "outputs": [
    {
     "name": "stdout",
     "output_type": "stream",
     "text": [
      "noExperience  -  1\n",
      "between1And3  -  5\n",
      "between3And6  -  3\n",
      "moreThan6  -  1\n"
     ]
    }
   ],
   "source": [
    "for exp in experiences:\n",
    "    page = 0\n",
    "    url = VAC_URL + f'&experience={exp}'\n",
    "    try:\n",
    "        r = requests.get(url + f'&page={page}')\n",
    "        data = json.loads(r.text)\n",
    "        print(exp, ' - ', data['pages'])\n",
    "        items = data['items']\n",
    "        for page in range(1, data['pages']):\n",
    "            r = requests.get(url + f'&page={page}')\n",
    "            data = json.loads(r.text)\n",
    "            items += data['items']\n",
    "        df = pd.DataFrame(items)\n",
    "        df['experience'] = exp\n",
    "        vacancy_df = pd.concat([vacancy_df, df])\n",
    "    except Exception as e:\n",
    "        print(exp, ' - ', e)\n",
    "        time.sleep(10)"
   ]
  },
  {
   "cell_type": "code",
   "execution_count": 8,
   "metadata": {},
   "outputs": [],
   "source": [
    "vacancy_df.reset_index(drop=True, inplace=True)"
   ]
  },
  {
   "cell_type": "code",
   "execution_count": 9,
   "metadata": {},
   "outputs": [
    {
     "name": "stdout",
     "output_type": "stream",
     "text": [
      "<class 'pandas.core.frame.DataFrame'>\n",
      "RangeIndex: 771 entries, 0 to 770\n",
      "Data columns (total 31 columns):\n",
      " #   Column                    Non-Null Count  Dtype \n",
      "---  ------                    --------------  ----- \n",
      " 0   id                        771 non-null    object\n",
      " 1   premium                   771 non-null    bool  \n",
      " 2   name                      771 non-null    object\n",
      " 3   department                98 non-null     object\n",
      " 4   has_test                  771 non-null    bool  \n",
      " 5   response_letter_required  771 non-null    bool  \n",
      " 6   area                      771 non-null    object\n",
      " 7   salary                    169 non-null    object\n",
      " 8   type                      771 non-null    object\n",
      " 9   address                   446 non-null    object\n",
      " 10  response_url              0 non-null      object\n",
      " 11  sort_point_distance       0 non-null      object\n",
      " 12  published_at              771 non-null    object\n",
      " 13  created_at                771 non-null    object\n",
      " 14  archived                  771 non-null    bool  \n",
      " 15  apply_alternate_url       771 non-null    object\n",
      " 16  insider_interview         9 non-null      object\n",
      " 17  url                       771 non-null    object\n",
      " 18  adv_response_url          771 non-null    object\n",
      " 19  alternate_url             771 non-null    object\n",
      " 20  relations                 771 non-null    object\n",
      " 21  employer                  771 non-null    object\n",
      " 22  snippet                   771 non-null    object\n",
      " 23  contacts                  0 non-null      object\n",
      " 24  schedule                  771 non-null    object\n",
      " 25  counters                  771 non-null    object\n",
      " 26  working_days              771 non-null    object\n",
      " 27  working_time_intervals    771 non-null    object\n",
      " 28  working_time_modes        771 non-null    object\n",
      " 29  accept_temporary          771 non-null    bool  \n",
      " 30  experience                771 non-null    object\n",
      "dtypes: bool(5), object(26)\n",
      "memory usage: 160.5+ KB\n"
     ]
    }
   ],
   "source": [
    "vacancy_df.info()"
   ]
  },
  {
   "cell_type": "markdown",
   "metadata": {},
   "source": [
    "### Вытащим ценную информацию из словарей"
   ]
  },
  {
   "cell_type": "markdown",
   "metadata": {},
   "source": [
    "Напишем функцию"
   ]
  },
  {
   "cell_type": "code",
   "execution_count": 10,
   "metadata": {},
   "outputs": [],
   "source": [
    "def return_id(x, key='id', nan_value=np.nan):\n",
    "    try:\n",
    "        return x[key]\n",
    "    except Exception as e:\n",
    "        return nan_value"
   ]
  },
  {
   "cell_type": "markdown",
   "metadata": {},
   "source": [
    "Вытащим желаемые данные"
   ]
  },
  {
   "cell_type": "code",
   "execution_count": 11,
   "metadata": {
    "jupyter": {
     "outputs_hidden": true
    },
    "scrolled": true
   },
   "outputs": [],
   "source": [
    "vacancy_df['employer_name'] = vacancy_df['employer'].apply(return_id, key='name')\n",
    "vacancy_df['department_name'] = vacancy_df['department'].apply(return_id, key='name')\n",
    "vacancy_df['salary_from'] = vacancy_df['salary'].apply(return_id, key='from')\n",
    "vacancy_df['salary_to'] = vacancy_df['salary'].apply(return_id, key='to')\n",
    "vacancy_df['salary_gross'] = vacancy_df['salary'].apply(return_id, key='gross')\n",
    "vacancy_df['salary_currency'] = vacancy_df['salary'].apply(return_id, key='currency')\n",
    "vacancy_df['responses'] = vacancy_df['counters'].apply(return_id, key='responses')\n",
    "vacancy_df['city'] = vacancy_df['area'].apply(return_id, key='name')\n",
    "\n",
    "# станция метро\n",
    "vacancy_df['metro'] = vacancy_df['address'].apply(return_id, key='metro').apply(return_id, key='station_name')\n",
    "\n",
    "#vacancy_df['metro_station_name'] = vacancy_df['metro'].apply(return_id, key='station_name')\n",
    "#vacancy_df.drop(columns = ['metro'],axis = 1)"
   ]
  },
  {
   "cell_type": "code",
   "execution_count": 12,
   "metadata": {},
   "outputs": [],
   "source": [
    "vacancy_df['published_at'] = pd.to_datetime(vacancy_df['published_at'], format = '%Y-%m-%d %H:%M:%S').dt.tz_convert(None)"
   ]
  },
  {
   "cell_type": "code",
   "execution_count": 13,
   "metadata": {},
   "outputs": [],
   "source": [
    "vacancy_df['published_at'] = vacancy_df['published_at'].astype('datetime64[D]')"
   ]
  },
  {
   "cell_type": "code",
   "execution_count": 14,
   "metadata": {},
   "outputs": [
    {
     "name": "stdout",
     "output_type": "stream",
     "text": [
      "<class 'pandas.core.frame.DataFrame'>\n",
      "RangeIndex: 771 entries, 0 to 770\n",
      "Data columns (total 40 columns):\n",
      " #   Column                    Non-Null Count  Dtype         \n",
      "---  ------                    --------------  -----         \n",
      " 0   id                        771 non-null    object        \n",
      " 1   premium                   771 non-null    bool          \n",
      " 2   name                      771 non-null    object        \n",
      " 3   department                98 non-null     object        \n",
      " 4   has_test                  771 non-null    bool          \n",
      " 5   response_letter_required  771 non-null    bool          \n",
      " 6   area                      771 non-null    object        \n",
      " 7   salary                    169 non-null    object        \n",
      " 8   type                      771 non-null    object        \n",
      " 9   address                   446 non-null    object        \n",
      " 10  response_url              0 non-null      object        \n",
      " 11  sort_point_distance       0 non-null      object        \n",
      " 12  published_at              771 non-null    datetime64[ns]\n",
      " 13  created_at                771 non-null    object        \n",
      " 14  archived                  771 non-null    bool          \n",
      " 15  apply_alternate_url       771 non-null    object        \n",
      " 16  insider_interview         9 non-null      object        \n",
      " 17  url                       771 non-null    object        \n",
      " 18  adv_response_url          771 non-null    object        \n",
      " 19  alternate_url             771 non-null    object        \n",
      " 20  relations                 771 non-null    object        \n",
      " 21  employer                  771 non-null    object        \n",
      " 22  snippet                   771 non-null    object        \n",
      " 23  contacts                  0 non-null      object        \n",
      " 24  schedule                  771 non-null    object        \n",
      " 25  counters                  771 non-null    object        \n",
      " 26  working_days              771 non-null    object        \n",
      " 27  working_time_intervals    771 non-null    object        \n",
      " 28  working_time_modes        771 non-null    object        \n",
      " 29  accept_temporary          771 non-null    bool          \n",
      " 30  experience                771 non-null    object        \n",
      " 31  employer_name             771 non-null    object        \n",
      " 32  department_name           98 non-null     object        \n",
      " 33  salary_from               141 non-null    float64       \n",
      " 34  salary_to                 104 non-null    float64       \n",
      " 35  salary_gross              169 non-null    object        \n",
      " 36  salary_currency           169 non-null    object        \n",
      " 37  responses                 771 non-null    int64         \n",
      " 38  city                      771 non-null    object        \n",
      " 39  metro                     258 non-null    object        \n",
      "dtypes: bool(5), datetime64[ns](1), float64(2), int64(1), object(31)\n",
      "memory usage: 214.7+ KB\n"
     ]
    }
   ],
   "source": [
    "vacancy_df.info()"
   ]
  },
  {
   "cell_type": "code",
   "execution_count": 15,
   "metadata": {},
   "outputs": [
    {
     "data": {
      "text/html": [
       "<div>\n",
       "<style scoped>\n",
       "    .dataframe tbody tr th:only-of-type {\n",
       "        vertical-align: middle;\n",
       "    }\n",
       "\n",
       "    .dataframe tbody tr th {\n",
       "        vertical-align: top;\n",
       "    }\n",
       "\n",
       "    .dataframe thead th {\n",
       "        text-align: right;\n",
       "    }\n",
       "</style>\n",
       "<table border=\"1\" class=\"dataframe\">\n",
       "  <thead>\n",
       "    <tr style=\"text-align: right;\">\n",
       "      <th></th>\n",
       "      <th>id</th>\n",
       "      <th>premium</th>\n",
       "      <th>name</th>\n",
       "      <th>department</th>\n",
       "      <th>has_test</th>\n",
       "      <th>response_letter_required</th>\n",
       "      <th>area</th>\n",
       "      <th>salary</th>\n",
       "      <th>type</th>\n",
       "      <th>address</th>\n",
       "      <th>response_url</th>\n",
       "      <th>sort_point_distance</th>\n",
       "      <th>published_at</th>\n",
       "      <th>created_at</th>\n",
       "      <th>archived</th>\n",
       "      <th>apply_alternate_url</th>\n",
       "      <th>insider_interview</th>\n",
       "      <th>url</th>\n",
       "      <th>adv_response_url</th>\n",
       "      <th>alternate_url</th>\n",
       "      <th>relations</th>\n",
       "      <th>employer</th>\n",
       "      <th>snippet</th>\n",
       "      <th>contacts</th>\n",
       "      <th>schedule</th>\n",
       "      <th>counters</th>\n",
       "      <th>working_days</th>\n",
       "      <th>working_time_intervals</th>\n",
       "      <th>working_time_modes</th>\n",
       "      <th>accept_temporary</th>\n",
       "      <th>experience</th>\n",
       "      <th>employer_name</th>\n",
       "      <th>department_name</th>\n",
       "      <th>salary_from</th>\n",
       "      <th>salary_to</th>\n",
       "      <th>salary_gross</th>\n",
       "      <th>salary_currency</th>\n",
       "      <th>responses</th>\n",
       "      <th>city</th>\n",
       "      <th>metro</th>\n",
       "    </tr>\n",
       "  </thead>\n",
       "  <tbody>\n",
       "    <tr>\n",
       "      <th>0</th>\n",
       "      <td>39904397</td>\n",
       "      <td>False</td>\n",
       "      <td>Продуктовый аналитик</td>\n",
       "      <td>None</td>\n",
       "      <td>False</td>\n",
       "      <td>False</td>\n",
       "      <td>{'id': '1', 'name': 'Москва', 'url': 'https://api.hh.ru/areas/1'}</td>\n",
       "      <td>None</td>\n",
       "      <td>{'id': 'open', 'name': 'Открытая'}</td>\n",
       "      <td>{'city': 'Москва', 'street': 'Головинское шоссе', 'building': '5', 'description': None, 'lat': 55.84024, 'lng': 37.492024, 'raw': 'Москва, Головинское шоссе, 5', 'metro': {'station_name': 'Водный стадион', 'line_name': 'Замоскворецкая', 'station_id': '2.29', 'line_id': '2', 'lat': 55.838978, 'lng': 37.487515}, 'metro_stations': [{'station_name': 'Водный стадион', 'line_name': 'Замоскворецкая', 'station_id': '2.29', 'line_id': '2', 'lat': 55.838978, 'lng': 37.487515}], 'id': '643441'}</td>\n",
       "      <td>None</td>\n",
       "      <td>None</td>\n",
       "      <td>2022-08-24</td>\n",
       "      <td>2022-08-24T14:52:54+0300</td>\n",
       "      <td>False</td>\n",
       "      <td>https://hh.ru/applicant/vacancy_response?vacancyId=39904397</td>\n",
       "      <td>None</td>\n",
       "      <td>https://api.hh.ru/vacancies/39904397?host=hh.ru</td>\n",
       "      <td>https://api.hh.ru/vacancies/39904397/adv_response?host=hh.ru</td>\n",
       "      <td>https://hh.ru/vacancy/39904397</td>\n",
       "      <td>[]</td>\n",
       "      <td>{'id': '78638', 'name': 'Тинькофф', 'url': 'https://api.hh.ru/employers/78638', 'alternate_url': 'https://hh.ru/employer/78638', 'logo_urls': {'240': 'https://hhcdn.ru/employer-logo/3452962.png', '90': 'https://hhcdn.ru/employer-logo/3452961.png', 'original': 'https://hhcdn.ru/employer-logo-original/753000.png'}, 'vacancies_url': 'https://api.hh.ru/vacancies?employer_id=78638', 'trusted': True}</td>\n",
       "      <td>{'requirement': 'Умение аргументированно отстаивать свою точку зрения. Опыт работы хотя бы с одним из языков программирования (базовые алгоритмы) или знание &lt;highlighttext&gt;SQL&lt;/highlighttext&gt;.', 'responsibility': '...гипотез по развитию проектов. Проектировать модель данных и ключевую отчетность на направлении. Самостоятельно выявлять и закрывать потребность команды в &lt;highlighttext&gt;аналитике&lt;/highlighttext&gt;.'}</td>\n",
       "      <td>None</td>\n",
       "      <td>{'id': 'fullDay', 'name': 'Полный день'}</td>\n",
       "      <td>{'responses': 4}</td>\n",
       "      <td>[]</td>\n",
       "      <td>[]</td>\n",
       "      <td>[]</td>\n",
       "      <td>False</td>\n",
       "      <td>noExperience</td>\n",
       "      <td>Тинькофф</td>\n",
       "      <td>NaN</td>\n",
       "      <td>NaN</td>\n",
       "      <td>NaN</td>\n",
       "      <td>NaN</td>\n",
       "      <td>NaN</td>\n",
       "      <td>4</td>\n",
       "      <td>Москва</td>\n",
       "      <td>Водный стадион</td>\n",
       "    </tr>\n",
       "    <tr>\n",
       "      <th>1</th>\n",
       "      <td>69135650</td>\n",
       "      <td>False</td>\n",
       "      <td>Контролер-аналитик</td>\n",
       "      <td>None</td>\n",
       "      <td>False</td>\n",
       "      <td>False</td>\n",
       "      <td>{'id': '1', 'name': 'Москва', 'url': 'https://api.hh.ru/areas/1'}</td>\n",
       "      <td>None</td>\n",
       "      <td>{'id': 'open', 'name': 'Открытая'}</td>\n",
       "      <td>None</td>\n",
       "      <td>None</td>\n",
       "      <td>None</td>\n",
       "      <td>2022-08-24</td>\n",
       "      <td>2022-08-24T14:38:42+0300</td>\n",
       "      <td>False</td>\n",
       "      <td>https://hh.ru/applicant/vacancy_response?vacancyId=69135650</td>\n",
       "      <td>None</td>\n",
       "      <td>https://api.hh.ru/vacancies/69135650?host=hh.ru</td>\n",
       "      <td>https://api.hh.ru/vacancies/69135650/adv_response?host=hh.ru</td>\n",
       "      <td>https://hh.ru/vacancy/69135650</td>\n",
       "      <td>[]</td>\n",
       "      <td>{'id': '73886', 'name': 'LPP', 'url': 'https://api.hh.ru/employers/73886', 'alternate_url': 'https://hh.ru/employer/73886', 'logo_urls': None, 'vacancies_url': 'https://api.hh.ru/vacancies?employer_id=73886', 'trusted': True}</td>\n",
       "      <td>{'requirement': 'Знание основ Power BI (Power Query, Power Pivot, язык DAX). Базовые знания &lt;highlighttext&gt;SQL&lt;/highlighttext&gt;. Понимание принципов работы с базами данных, OLAP...', 'responsibility': 'Предоставление данных по запросу от различных департаментов. Доработка существующих отчетов, автоматизация средствами MS Excel (VBA), Power BI (DAX) и &lt;highlighttext&gt;SQL&lt;/highlighttext&gt;...'}</td>\n",
       "      <td>None</td>\n",
       "      <td>{'id': 'fullDay', 'name': 'Полный день'}</td>\n",
       "      <td>{'responses': 1}</td>\n",
       "      <td>[]</td>\n",
       "      <td>[]</td>\n",
       "      <td>[]</td>\n",
       "      <td>False</td>\n",
       "      <td>noExperience</td>\n",
       "      <td>LPP</td>\n",
       "      <td>NaN</td>\n",
       "      <td>NaN</td>\n",
       "      <td>NaN</td>\n",
       "      <td>NaN</td>\n",
       "      <td>NaN</td>\n",
       "      <td>1</td>\n",
       "      <td>Москва</td>\n",
       "      <td>NaN</td>\n",
       "    </tr>\n",
       "    <tr>\n",
       "      <th>2</th>\n",
       "      <td>36705054</td>\n",
       "      <td>False</td>\n",
       "      <td>Бизнес-аналитик</td>\n",
       "      <td>None</td>\n",
       "      <td>False</td>\n",
       "      <td>False</td>\n",
       "      <td>{'id': '1', 'name': 'Москва', 'url': 'https://api.hh.ru/areas/1'}</td>\n",
       "      <td>None</td>\n",
       "      <td>{'id': 'open', 'name': 'Открытая'}</td>\n",
       "      <td>{'city': 'Москва', 'street': 'Замоскворецкая линия', 'building': 'метро Водный Стадион', 'description': None, 'lat': 55.840209, 'lng': 37.486616, 'raw': 'Москва, Замоскворецкая линия, метро Водный Стадион', 'metro': {'station_name': 'Водный стадион', 'line_name': 'Замоскворецкая', 'station_id': '2.29', 'line_id': '2', 'lat': 55.838978, 'lng': 37.487515}, 'metro_stations': [{'station_name': 'Водный стадион', 'line_name': 'Замоскворецкая', 'station_id': '2.29', 'line_id': '2', 'lat': 55.838978, 'lng': 37.487515}], 'id': '178897'}</td>\n",
       "      <td>None</td>\n",
       "      <td>None</td>\n",
       "      <td>2022-08-24</td>\n",
       "      <td>2022-08-24T14:53:12+0300</td>\n",
       "      <td>False</td>\n",
       "      <td>https://hh.ru/applicant/vacancy_response?vacancyId=36705054</td>\n",
       "      <td>None</td>\n",
       "      <td>https://api.hh.ru/vacancies/36705054?host=hh.ru</td>\n",
       "      <td>https://api.hh.ru/vacancies/36705054/adv_response?host=hh.ru</td>\n",
       "      <td>https://hh.ru/vacancy/36705054</td>\n",
       "      <td>[]</td>\n",
       "      <td>{'id': '78638', 'name': 'Тинькофф', 'url': 'https://api.hh.ru/employers/78638', 'alternate_url': 'https://hh.ru/employer/78638', 'logo_urls': {'240': 'https://hhcdn.ru/employer-logo/3452962.png', '90': 'https://hhcdn.ru/employer-logo/3452961.png', 'original': 'https://hhcdn.ru/employer-logo-original/753000.png'}, 'vacancies_url': 'https://api.hh.ru/vacancies?employer_id=78638', 'trusted': True}</td>\n",
       "      <td>{'requirement': 'МГУ (мехмат, ВМК, физфак), МФТИ, ВШЭ (ФКН, Математика, Бизнес-информатика) – предпочтительно. Знание &lt;highlighttext&gt;SQL&lt;/highlighttext&gt;, Python будет плюсом. Приветствуются знания основ машинного...', 'responsibility': 'Много и эффективно работать головой, думать, креативить, созидать, творить. Штурмовать проблемы, выдвигать идеи. Воплощать идеи в жизнь, ставить ТЗ для...'}</td>\n",
       "      <td>None</td>\n",
       "      <td>{'id': 'fullDay', 'name': 'Полный день'}</td>\n",
       "      <td>{'responses': 8}</td>\n",
       "      <td>[]</td>\n",
       "      <td>[]</td>\n",
       "      <td>[]</td>\n",
       "      <td>False</td>\n",
       "      <td>noExperience</td>\n",
       "      <td>Тинькофф</td>\n",
       "      <td>NaN</td>\n",
       "      <td>NaN</td>\n",
       "      <td>NaN</td>\n",
       "      <td>NaN</td>\n",
       "      <td>NaN</td>\n",
       "      <td>8</td>\n",
       "      <td>Москва</td>\n",
       "      <td>Водный стадион</td>\n",
       "    </tr>\n",
       "  </tbody>\n",
       "</table>\n",
       "</div>"
      ],
      "text/plain": [
       "         id  premium                  name department  has_test  \\\n",
       "0  39904397  False    Продуктовый аналитик  None       False      \n",
       "1  69135650  False    Контролер-аналитик    None       False      \n",
       "2  36705054  False    Бизнес-аналитик       None       False      \n",
       "\n",
       "   response_letter_required  \\\n",
       "0  False                      \n",
       "1  False                      \n",
       "2  False                      \n",
       "\n",
       "                                                                area salary  \\\n",
       "0  {'id': '1', 'name': 'Москва', 'url': 'https://api.hh.ru/areas/1'}  None    \n",
       "1  {'id': '1', 'name': 'Москва', 'url': 'https://api.hh.ru/areas/1'}  None    \n",
       "2  {'id': '1', 'name': 'Москва', 'url': 'https://api.hh.ru/areas/1'}  None    \n",
       "\n",
       "                                 type  \\\n",
       "0  {'id': 'open', 'name': 'Открытая'}   \n",
       "1  {'id': 'open', 'name': 'Открытая'}   \n",
       "2  {'id': 'open', 'name': 'Открытая'}   \n",
       "\n",
       "                                                                                                                                                                                                                                                                                                                                                                                                                                                                                                                                                 address  \\\n",
       "0  {'city': 'Москва', 'street': 'Головинское шоссе', 'building': '5', 'description': None, 'lat': 55.84024, 'lng': 37.492024, 'raw': 'Москва, Головинское шоссе, 5', 'metro': {'station_name': 'Водный стадион', 'line_name': 'Замоскворецкая', 'station_id': '2.29', 'line_id': '2', 'lat': 55.838978, 'lng': 37.487515}, 'metro_stations': [{'station_name': 'Водный стадион', 'line_name': 'Замоскворецкая', 'station_id': '2.29', 'line_id': '2', 'lat': 55.838978, 'lng': 37.487515}], 'id': '643441'}                                                \n",
       "1  None                                                                                                                                                                                                                                                                                                                                                                                                                                                                                                                                                    \n",
       "2  {'city': 'Москва', 'street': 'Замоскворецкая линия', 'building': 'метро Водный Стадион', 'description': None, 'lat': 55.840209, 'lng': 37.486616, 'raw': 'Москва, Замоскворецкая линия, метро Водный Стадион', 'metro': {'station_name': 'Водный стадион', 'line_name': 'Замоскворецкая', 'station_id': '2.29', 'line_id': '2', 'lat': 55.838978, 'lng': 37.487515}, 'metro_stations': [{'station_name': 'Водный стадион', 'line_name': 'Замоскворецкая', 'station_id': '2.29', 'line_id': '2', 'lat': 55.838978, 'lng': 37.487515}], 'id': '178897'}   \n",
       "\n",
       "  response_url sort_point_distance published_at                created_at  \\\n",
       "0  None         None               2022-08-24    2022-08-24T14:52:54+0300   \n",
       "1  None         None               2022-08-24    2022-08-24T14:38:42+0300   \n",
       "2  None         None               2022-08-24    2022-08-24T14:53:12+0300   \n",
       "\n",
       "   archived                                          apply_alternate_url  \\\n",
       "0  False     https://hh.ru/applicant/vacancy_response?vacancyId=39904397   \n",
       "1  False     https://hh.ru/applicant/vacancy_response?vacancyId=69135650   \n",
       "2  False     https://hh.ru/applicant/vacancy_response?vacancyId=36705054   \n",
       "\n",
       "  insider_interview                                              url  \\\n",
       "0  None              https://api.hh.ru/vacancies/39904397?host=hh.ru   \n",
       "1  None              https://api.hh.ru/vacancies/69135650?host=hh.ru   \n",
       "2  None              https://api.hh.ru/vacancies/36705054?host=hh.ru   \n",
       "\n",
       "                                               adv_response_url  \\\n",
       "0  https://api.hh.ru/vacancies/39904397/adv_response?host=hh.ru   \n",
       "1  https://api.hh.ru/vacancies/69135650/adv_response?host=hh.ru   \n",
       "2  https://api.hh.ru/vacancies/36705054/adv_response?host=hh.ru   \n",
       "\n",
       "                    alternate_url relations  \\\n",
       "0  https://hh.ru/vacancy/39904397  []         \n",
       "1  https://hh.ru/vacancy/69135650  []         \n",
       "2  https://hh.ru/vacancy/36705054  []         \n",
       "\n",
       "                                                                                                                                                                                                                                                                                                                                                                                                        employer  \\\n",
       "0  {'id': '78638', 'name': 'Тинькофф', 'url': 'https://api.hh.ru/employers/78638', 'alternate_url': 'https://hh.ru/employer/78638', 'logo_urls': {'240': 'https://hhcdn.ru/employer-logo/3452962.png', '90': 'https://hhcdn.ru/employer-logo/3452961.png', 'original': 'https://hhcdn.ru/employer-logo-original/753000.png'}, 'vacancies_url': 'https://api.hh.ru/vacancies?employer_id=78638', 'trusted': True}   \n",
       "1  {'id': '73886', 'name': 'LPP', 'url': 'https://api.hh.ru/employers/73886', 'alternate_url': 'https://hh.ru/employer/73886', 'logo_urls': None, 'vacancies_url': 'https://api.hh.ru/vacancies?employer_id=73886', 'trusted': True}                                                                                                                                                                               \n",
       "2  {'id': '78638', 'name': 'Тинькофф', 'url': 'https://api.hh.ru/employers/78638', 'alternate_url': 'https://hh.ru/employer/78638', 'logo_urls': {'240': 'https://hhcdn.ru/employer-logo/3452962.png', '90': 'https://hhcdn.ru/employer-logo/3452961.png', 'original': 'https://hhcdn.ru/employer-logo-original/753000.png'}, 'vacancies_url': 'https://api.hh.ru/vacancies?employer_id=78638', 'trusted': True}   \n",
       "\n",
       "                                                                                                                                                                                                                                                                                                                                                                                                                          snippet  \\\n",
       "0  {'requirement': 'Умение аргументированно отстаивать свою точку зрения. Опыт работы хотя бы с одним из языков программирования (базовые алгоритмы) или знание <highlighttext>SQL</highlighttext>.', 'responsibility': '...гипотез по развитию проектов. Проектировать модель данных и ключевую отчетность на направлении. Самостоятельно выявлять и закрывать потребность команды в <highlighttext>аналитике</highlighttext>.'}   \n",
       "1  {'requirement': 'Знание основ Power BI (Power Query, Power Pivot, язык DAX). Базовые знания <highlighttext>SQL</highlighttext>. Понимание принципов работы с базами данных, OLAP...', 'responsibility': 'Предоставление данных по запросу от различных департаментов. Доработка существующих отчетов, автоматизация средствами MS Excel (VBA), Power BI (DAX) и <highlighttext>SQL</highlighttext>...'}                          \n",
       "2  {'requirement': 'МГУ (мехмат, ВМК, физфак), МФТИ, ВШЭ (ФКН, Математика, Бизнес-информатика) – предпочтительно. Знание <highlighttext>SQL</highlighttext>, Python будет плюсом. Приветствуются знания основ машинного...', 'responsibility': 'Много и эффективно работать головой, думать, креативить, созидать, творить. Штурмовать проблемы, выдвигать идеи. Воплощать идеи в жизнь, ставить ТЗ для...'}                        \n",
       "\n",
       "  contacts                                  schedule          counters  \\\n",
       "0  None     {'id': 'fullDay', 'name': 'Полный день'}  {'responses': 4}   \n",
       "1  None     {'id': 'fullDay', 'name': 'Полный день'}  {'responses': 1}   \n",
       "2  None     {'id': 'fullDay', 'name': 'Полный день'}  {'responses': 8}   \n",
       "\n",
       "  working_days working_time_intervals working_time_modes  accept_temporary  \\\n",
       "0  []           []                     []                 False              \n",
       "1  []           []                     []                 False              \n",
       "2  []           []                     []                 False              \n",
       "\n",
       "     experience employer_name department_name  salary_from  salary_to  \\\n",
       "0  noExperience  Тинькофф      NaN            NaN          NaN          \n",
       "1  noExperience  LPP           NaN            NaN          NaN          \n",
       "2  noExperience  Тинькофф      NaN            NaN          NaN          \n",
       "\n",
       "  salary_gross salary_currency  responses    city           metro  \n",
       "0  NaN          NaN             4          Москва  Водный стадион  \n",
       "1  NaN          NaN             1          Москва  NaN             \n",
       "2  NaN          NaN             8          Москва  Водный стадион  "
      ]
     },
     "execution_count": 15,
     "metadata": {},
     "output_type": "execute_result"
    }
   ],
   "source": [
    "vacancy_df.head(3)"
   ]
  },
  {
   "cell_type": "code",
   "execution_count": 16,
   "metadata": {},
   "outputs": [
    {
     "name": "stdout",
     "output_type": "stream",
     "text": [
      "<class 'pandas.core.frame.DataFrame'>\n",
      "RangeIndex: 771 entries, 0 to 770\n",
      "Data columns (total 40 columns):\n",
      " #   Column                    Non-Null Count  Dtype         \n",
      "---  ------                    --------------  -----         \n",
      " 0   id                        771 non-null    object        \n",
      " 1   premium                   771 non-null    bool          \n",
      " 2   name                      771 non-null    object        \n",
      " 3   department                98 non-null     object        \n",
      " 4   has_test                  771 non-null    bool          \n",
      " 5   response_letter_required  771 non-null    bool          \n",
      " 6   area                      771 non-null    object        \n",
      " 7   salary                    169 non-null    object        \n",
      " 8   type                      771 non-null    object        \n",
      " 9   address                   446 non-null    object        \n",
      " 10  response_url              0 non-null      object        \n",
      " 11  sort_point_distance       0 non-null      object        \n",
      " 12  published_at              771 non-null    datetime64[ns]\n",
      " 13  created_at                771 non-null    object        \n",
      " 14  archived                  771 non-null    bool          \n",
      " 15  apply_alternate_url       771 non-null    object        \n",
      " 16  insider_interview         9 non-null      object        \n",
      " 17  url                       771 non-null    object        \n",
      " 18  adv_response_url          771 non-null    object        \n",
      " 19  alternate_url             771 non-null    object        \n",
      " 20  relations                 771 non-null    object        \n",
      " 21  employer                  771 non-null    object        \n",
      " 22  snippet                   771 non-null    object        \n",
      " 23  contacts                  0 non-null      object        \n",
      " 24  schedule                  771 non-null    object        \n",
      " 25  counters                  771 non-null    object        \n",
      " 26  working_days              771 non-null    object        \n",
      " 27  working_time_intervals    771 non-null    object        \n",
      " 28  working_time_modes        771 non-null    object        \n",
      " 29  accept_temporary          771 non-null    bool          \n",
      " 30  experience                771 non-null    object        \n",
      " 31  employer_name             771 non-null    object        \n",
      " 32  department_name           98 non-null     object        \n",
      " 33  salary_from               141 non-null    float64       \n",
      " 34  salary_to                 104 non-null    float64       \n",
      " 35  salary_gross              169 non-null    object        \n",
      " 36  salary_currency           169 non-null    object        \n",
      " 37  responses                 771 non-null    int64         \n",
      " 38  city                      771 non-null    object        \n",
      " 39  metro                     258 non-null    object        \n",
      "dtypes: bool(5), datetime64[ns](1), float64(2), int64(1), object(31)\n",
      "memory usage: 214.7+ KB\n"
     ]
    }
   ],
   "source": [
    "vacancy_df.info()"
   ]
  },
  {
   "cell_type": "code",
   "execution_count": 17,
   "metadata": {
    "scrolled": false
   },
   "outputs": [
    {
     "data": {
      "text/plain": [
       "Аналитик                                        56\n",
       "Бизнес-аналитик                                 44\n",
       "Аналитик данных                                 20\n",
       "Data Analyst                                    14\n",
       "Финансовый аналитик                             13\n",
       "Продуктовый аналитик                            9 \n",
       "Инженер сопровождения продукта / Аналитик BI    8 \n",
       "Data analyst                                    8 \n",
       "Аналитик BI                                     8 \n",
       "BI аналитик                                     6 \n",
       "Аналитик SQL                                    5 \n",
       "Product Analyst                                 5 \n",
       "Маркетолог-аналитик                             5 \n",
       "Бизнес-аналитик 1С                              5 \n",
       "Старший аналитик                                5 \n",
       "Маркетинговый аналитик                          5 \n",
       "Аналитик 1С УХ/1С ERP                           5 \n",
       "Старший бизнес-аналитик                         4 \n",
       "Product analyst                                 4 \n",
       "Аналитик бизнес-процессов                       4 \n",
       "Аналитик 1С                                     4 \n",
       "Ведущий бизнес-аналитик                         4 \n",
       "Аналитик (ритейл/e-commerce)                    3 \n",
       "Business Analyst                                3 \n",
       "Аналитик Power BI                               3 \n",
       "Вечерний аналитик, удалённо                     3 \n",
       "Senior Product Analyst                          3 \n",
       "Портфельный аналитик                            3 \n",
       "Аналитик DWH (стрим Витрины ПИК)                3 \n",
       "Аналитик (Трансферты, стрим Витрины ПИК)        3 \n",
       "Name: name, dtype: int64"
      ]
     },
     "execution_count": 17,
     "metadata": {},
     "output_type": "execute_result"
    }
   ],
   "source": [
    "vacancy_df['name'].value_counts().head(30)"
   ]
  },
  {
   "cell_type": "code",
   "execution_count": 18,
   "metadata": {
    "jupyter": {
     "outputs_hidden": true
    },
    "scrolled": false
   },
   "outputs": [
    {
     "data": {
      "text/html": [
       "<div>\n",
       "<style scoped>\n",
       "    .dataframe tbody tr th:only-of-type {\n",
       "        vertical-align: middle;\n",
       "    }\n",
       "\n",
       "    .dataframe tbody tr th {\n",
       "        vertical-align: top;\n",
       "    }\n",
       "\n",
       "    .dataframe thead th {\n",
       "        text-align: right;\n",
       "    }\n",
       "</style>\n",
       "<table border=\"1\" class=\"dataframe\">\n",
       "  <thead>\n",
       "    <tr style=\"text-align: right;\">\n",
       "      <th></th>\n",
       "      <th>id</th>\n",
       "      <th>premium</th>\n",
       "      <th>name</th>\n",
       "      <th>department</th>\n",
       "      <th>has_test</th>\n",
       "      <th>response_letter_required</th>\n",
       "      <th>area</th>\n",
       "      <th>salary</th>\n",
       "      <th>type</th>\n",
       "      <th>address</th>\n",
       "      <th>response_url</th>\n",
       "      <th>sort_point_distance</th>\n",
       "      <th>published_at</th>\n",
       "      <th>created_at</th>\n",
       "      <th>archived</th>\n",
       "      <th>apply_alternate_url</th>\n",
       "      <th>insider_interview</th>\n",
       "      <th>url</th>\n",
       "      <th>adv_response_url</th>\n",
       "      <th>alternate_url</th>\n",
       "      <th>relations</th>\n",
       "      <th>employer</th>\n",
       "      <th>snippet</th>\n",
       "      <th>contacts</th>\n",
       "      <th>schedule</th>\n",
       "      <th>counters</th>\n",
       "      <th>working_days</th>\n",
       "      <th>working_time_intervals</th>\n",
       "      <th>working_time_modes</th>\n",
       "      <th>accept_temporary</th>\n",
       "      <th>experience</th>\n",
       "      <th>employer_name</th>\n",
       "      <th>department_name</th>\n",
       "      <th>salary_from</th>\n",
       "      <th>salary_to</th>\n",
       "      <th>salary_gross</th>\n",
       "      <th>salary_currency</th>\n",
       "      <th>responses</th>\n",
       "      <th>city</th>\n",
       "      <th>metro</th>\n",
       "    </tr>\n",
       "  </thead>\n",
       "  <tbody>\n",
       "    <tr>\n",
       "      <th>0</th>\n",
       "      <td>39904397</td>\n",
       "      <td>False</td>\n",
       "      <td>Продуктовый аналитик</td>\n",
       "      <td>None</td>\n",
       "      <td>False</td>\n",
       "      <td>False</td>\n",
       "      <td>{'id': '1', 'name': 'Москва', 'url': 'https://api.hh.ru/areas/1'}</td>\n",
       "      <td>None</td>\n",
       "      <td>{'id': 'open', 'name': 'Открытая'}</td>\n",
       "      <td>{'city': 'Москва', 'street': 'Головинское шоссе', 'building': '5', 'description': None, 'lat': 55.84024, 'lng': 37.492024, 'raw': 'Москва, Головинское шоссе, 5', 'metro': {'station_name': 'Водный стадион', 'line_name': 'Замоскворецкая', 'station_id': '2.29', 'line_id': '2', 'lat': 55.838978, 'lng': 37.487515}, 'metro_stations': [{'station_name': 'Водный стадион', 'line_name': 'Замоскворецкая', 'station_id': '2.29', 'line_id': '2', 'lat': 55.838978, 'lng': 37.487515}], 'id': '643441'}</td>\n",
       "      <td>None</td>\n",
       "      <td>None</td>\n",
       "      <td>2022-08-24</td>\n",
       "      <td>2022-08-24T14:52:54+0300</td>\n",
       "      <td>False</td>\n",
       "      <td>https://hh.ru/applicant/vacancy_response?vacancyId=39904397</td>\n",
       "      <td>None</td>\n",
       "      <td>https://api.hh.ru/vacancies/39904397?host=hh.ru</td>\n",
       "      <td>https://api.hh.ru/vacancies/39904397/adv_response?host=hh.ru</td>\n",
       "      <td>https://hh.ru/vacancy/39904397</td>\n",
       "      <td>[]</td>\n",
       "      <td>{'id': '78638', 'name': 'Тинькофф', 'url': 'https://api.hh.ru/employers/78638', 'alternate_url': 'https://hh.ru/employer/78638', 'logo_urls': {'240': 'https://hhcdn.ru/employer-logo/3452962.png', '90': 'https://hhcdn.ru/employer-logo/3452961.png', 'original': 'https://hhcdn.ru/employer-logo-original/753000.png'}, 'vacancies_url': 'https://api.hh.ru/vacancies?employer_id=78638', 'trusted': True}</td>\n",
       "      <td>{'requirement': 'Умение аргументированно отстаивать свою точку зрения. Опыт работы хотя бы с одним из языков программирования (базовые алгоритмы) или знание &lt;highlighttext&gt;SQL&lt;/highlighttext&gt;.', 'responsibility': '...гипотез по развитию проектов. Проектировать модель данных и ключевую отчетность на направлении. Самостоятельно выявлять и закрывать потребность команды в &lt;highlighttext&gt;аналитике&lt;/highlighttext&gt;.'}</td>\n",
       "      <td>None</td>\n",
       "      <td>{'id': 'fullDay', 'name': 'Полный день'}</td>\n",
       "      <td>{'responses': 4}</td>\n",
       "      <td>[]</td>\n",
       "      <td>[]</td>\n",
       "      <td>[]</td>\n",
       "      <td>False</td>\n",
       "      <td>noExperience</td>\n",
       "      <td>Тинькофф</td>\n",
       "      <td>NaN</td>\n",
       "      <td>NaN</td>\n",
       "      <td>NaN</td>\n",
       "      <td>NaN</td>\n",
       "      <td>NaN</td>\n",
       "      <td>4</td>\n",
       "      <td>Москва</td>\n",
       "      <td>Водный стадион</td>\n",
       "    </tr>\n",
       "    <tr>\n",
       "      <th>1</th>\n",
       "      <td>69135650</td>\n",
       "      <td>False</td>\n",
       "      <td>Контролер-аналитик</td>\n",
       "      <td>None</td>\n",
       "      <td>False</td>\n",
       "      <td>False</td>\n",
       "      <td>{'id': '1', 'name': 'Москва', 'url': 'https://api.hh.ru/areas/1'}</td>\n",
       "      <td>None</td>\n",
       "      <td>{'id': 'open', 'name': 'Открытая'}</td>\n",
       "      <td>None</td>\n",
       "      <td>None</td>\n",
       "      <td>None</td>\n",
       "      <td>2022-08-24</td>\n",
       "      <td>2022-08-24T14:38:42+0300</td>\n",
       "      <td>False</td>\n",
       "      <td>https://hh.ru/applicant/vacancy_response?vacancyId=69135650</td>\n",
       "      <td>None</td>\n",
       "      <td>https://api.hh.ru/vacancies/69135650?host=hh.ru</td>\n",
       "      <td>https://api.hh.ru/vacancies/69135650/adv_response?host=hh.ru</td>\n",
       "      <td>https://hh.ru/vacancy/69135650</td>\n",
       "      <td>[]</td>\n",
       "      <td>{'id': '73886', 'name': 'LPP', 'url': 'https://api.hh.ru/employers/73886', 'alternate_url': 'https://hh.ru/employer/73886', 'logo_urls': None, 'vacancies_url': 'https://api.hh.ru/vacancies?employer_id=73886', 'trusted': True}</td>\n",
       "      <td>{'requirement': 'Знание основ Power BI (Power Query, Power Pivot, язык DAX). Базовые знания &lt;highlighttext&gt;SQL&lt;/highlighttext&gt;. Понимание принципов работы с базами данных, OLAP...', 'responsibility': 'Предоставление данных по запросу от различных департаментов. Доработка существующих отчетов, автоматизация средствами MS Excel (VBA), Power BI (DAX) и &lt;highlighttext&gt;SQL&lt;/highlighttext&gt;...'}</td>\n",
       "      <td>None</td>\n",
       "      <td>{'id': 'fullDay', 'name': 'Полный день'}</td>\n",
       "      <td>{'responses': 1}</td>\n",
       "      <td>[]</td>\n",
       "      <td>[]</td>\n",
       "      <td>[]</td>\n",
       "      <td>False</td>\n",
       "      <td>noExperience</td>\n",
       "      <td>LPP</td>\n",
       "      <td>NaN</td>\n",
       "      <td>NaN</td>\n",
       "      <td>NaN</td>\n",
       "      <td>NaN</td>\n",
       "      <td>NaN</td>\n",
       "      <td>1</td>\n",
       "      <td>Москва</td>\n",
       "      <td>NaN</td>\n",
       "    </tr>\n",
       "    <tr>\n",
       "      <th>2</th>\n",
       "      <td>36705054</td>\n",
       "      <td>False</td>\n",
       "      <td>Бизнес-аналитик</td>\n",
       "      <td>None</td>\n",
       "      <td>False</td>\n",
       "      <td>False</td>\n",
       "      <td>{'id': '1', 'name': 'Москва', 'url': 'https://api.hh.ru/areas/1'}</td>\n",
       "      <td>None</td>\n",
       "      <td>{'id': 'open', 'name': 'Открытая'}</td>\n",
       "      <td>{'city': 'Москва', 'street': 'Замоскворецкая линия', 'building': 'метро Водный Стадион', 'description': None, 'lat': 55.840209, 'lng': 37.486616, 'raw': 'Москва, Замоскворецкая линия, метро Водный Стадион', 'metro': {'station_name': 'Водный стадион', 'line_name': 'Замоскворецкая', 'station_id': '2.29', 'line_id': '2', 'lat': 55.838978, 'lng': 37.487515}, 'metro_stations': [{'station_name': 'Водный стадион', 'line_name': 'Замоскворецкая', 'station_id': '2.29', 'line_id': '2', 'lat': 55.838978, 'lng': 37.487515}], 'id': '178897'}</td>\n",
       "      <td>None</td>\n",
       "      <td>None</td>\n",
       "      <td>2022-08-24</td>\n",
       "      <td>2022-08-24T14:53:12+0300</td>\n",
       "      <td>False</td>\n",
       "      <td>https://hh.ru/applicant/vacancy_response?vacancyId=36705054</td>\n",
       "      <td>None</td>\n",
       "      <td>https://api.hh.ru/vacancies/36705054?host=hh.ru</td>\n",
       "      <td>https://api.hh.ru/vacancies/36705054/adv_response?host=hh.ru</td>\n",
       "      <td>https://hh.ru/vacancy/36705054</td>\n",
       "      <td>[]</td>\n",
       "      <td>{'id': '78638', 'name': 'Тинькофф', 'url': 'https://api.hh.ru/employers/78638', 'alternate_url': 'https://hh.ru/employer/78638', 'logo_urls': {'240': 'https://hhcdn.ru/employer-logo/3452962.png', '90': 'https://hhcdn.ru/employer-logo/3452961.png', 'original': 'https://hhcdn.ru/employer-logo-original/753000.png'}, 'vacancies_url': 'https://api.hh.ru/vacancies?employer_id=78638', 'trusted': True}</td>\n",
       "      <td>{'requirement': 'МГУ (мехмат, ВМК, физфак), МФТИ, ВШЭ (ФКН, Математика, Бизнес-информатика) – предпочтительно. Знание &lt;highlighttext&gt;SQL&lt;/highlighttext&gt;, Python будет плюсом. Приветствуются знания основ машинного...', 'responsibility': 'Много и эффективно работать головой, думать, креативить, созидать, творить. Штурмовать проблемы, выдвигать идеи. Воплощать идеи в жизнь, ставить ТЗ для...'}</td>\n",
       "      <td>None</td>\n",
       "      <td>{'id': 'fullDay', 'name': 'Полный день'}</td>\n",
       "      <td>{'responses': 8}</td>\n",
       "      <td>[]</td>\n",
       "      <td>[]</td>\n",
       "      <td>[]</td>\n",
       "      <td>False</td>\n",
       "      <td>noExperience</td>\n",
       "      <td>Тинькофф</td>\n",
       "      <td>NaN</td>\n",
       "      <td>NaN</td>\n",
       "      <td>NaN</td>\n",
       "      <td>NaN</td>\n",
       "      <td>NaN</td>\n",
       "      <td>8</td>\n",
       "      <td>Москва</td>\n",
       "      <td>Водный стадион</td>\n",
       "    </tr>\n",
       "    <tr>\n",
       "      <th>3</th>\n",
       "      <td>69128258</td>\n",
       "      <td>False</td>\n",
       "      <td>Младший антифрод аналитик</td>\n",
       "      <td>None</td>\n",
       "      <td>False</td>\n",
       "      <td>False</td>\n",
       "      <td>{'id': '1', 'name': 'Москва', 'url': 'https://api.hh.ru/areas/1'}</td>\n",
       "      <td>None</td>\n",
       "      <td>{'id': 'open', 'name': 'Открытая'}</td>\n",
       "      <td>{'city': 'Москва', 'street': 'Замоскворецкая линия', 'building': 'метро Технопарк', 'description': None, 'lat': 55.694482443, 'lng': 37.663312201, 'raw': 'Москва, Замоскворецкая линия, метро Технопарк', 'metro': None, 'metro_stations': [], 'id': '7589118'}</td>\n",
       "      <td>None</td>\n",
       "      <td>None</td>\n",
       "      <td>2022-08-24</td>\n",
       "      <td>2022-08-24T12:28:15+0300</td>\n",
       "      <td>False</td>\n",
       "      <td>https://hh.ru/applicant/vacancy_response?vacancyId=69128258</td>\n",
       "      <td>None</td>\n",
       "      <td>https://api.hh.ru/vacancies/69128258?host=hh.ru</td>\n",
       "      <td>https://api.hh.ru/vacancies/69128258/adv_response?host=hh.ru</td>\n",
       "      <td>https://hh.ru/vacancy/69128258</td>\n",
       "      <td>[]</td>\n",
       "      <td>{'id': '4482374', 'name': 'Медиапоинт', 'url': 'https://api.hh.ru/employers/4482374', 'alternate_url': 'https://hh.ru/employer/4482374', 'logo_urls': {'90': 'https://hhcdn.ru/employer-logo/3310392.png', '240': 'https://hhcdn.ru/employer-logo/3310393.png', 'original': 'https://hhcdn.ru/employer-logo-original/717319.png'}, 'vacancies_url': 'https://api.hh.ru/vacancies?employer_id=4482374', 'trusted': True}</td>\n",
       "      <td>{'requirement': 'Коммуникабельность, стрессоустойчивость, пунктуальность, обучаемость. Желание учить новое и развиваться. Является преимуществом: Навыки работы с базами данных. Знание &lt;highlighttext&gt;SQL&lt;/highlighttext&gt;. ', 'responsibility': 'Обработка предупреждений правил антифрода. Идентификация клиентов. Анализ игровой активности клиентов на выявление несоответствия правилам компании.'}</td>\n",
       "      <td>None</td>\n",
       "      <td>{'id': 'shift', 'name': 'Сменный график'}</td>\n",
       "      <td>{'responses': 34}</td>\n",
       "      <td>[]</td>\n",
       "      <td>[]</td>\n",
       "      <td>[]</td>\n",
       "      <td>False</td>\n",
       "      <td>noExperience</td>\n",
       "      <td>Медиапоинт</td>\n",
       "      <td>NaN</td>\n",
       "      <td>NaN</td>\n",
       "      <td>NaN</td>\n",
       "      <td>NaN</td>\n",
       "      <td>NaN</td>\n",
       "      <td>34</td>\n",
       "      <td>Москва</td>\n",
       "      <td>NaN</td>\n",
       "    </tr>\n",
       "    <tr>\n",
       "      <th>4</th>\n",
       "      <td>68609068</td>\n",
       "      <td>False</td>\n",
       "      <td>Стажер/Аналитик 1С</td>\n",
       "      <td>None</td>\n",
       "      <td>False</td>\n",
       "      <td>False</td>\n",
       "      <td>{'id': '1', 'name': 'Москва', 'url': 'https://api.hh.ru/areas/1'}</td>\n",
       "      <td>{'from': 40000, 'to': 70000, 'currency': 'RUR', 'gross': False}</td>\n",
       "      <td>{'id': 'open', 'name': 'Открытая'}</td>\n",
       "      <td>{'city': 'Новомосковский административный округ', 'street': 'Киевское шоссе, 22-й километр', 'building': 'дв4с4кЕ', 'description': None, 'lat': 55.637017, 'lng': 37.434954, 'raw': 'Новомосковский административный округ, Киевское шоссе, 22-й километр, дв4с4кЕ', 'metro': {'station_name': 'Румянцево', 'line_name': 'Сокольническая', 'station_id': '1.513', 'line_id': '1', 'lat': 55.633, 'lng': 37.4419}, 'metro_stations': [{'station_name': 'Румянцево', 'line_name': 'Сокольническая', 'station_id': '1.513', 'line_id': '1', 'lat': 55.633, 'lng': 37.4419}], 'id': '2663913'}</td>\n",
       "      <td>None</td>\n",
       "      <td>None</td>\n",
       "      <td>2022-08-24</td>\n",
       "      <td>2022-08-24T13:32:05+0300</td>\n",
       "      <td>False</td>\n",
       "      <td>https://hh.ru/applicant/vacancy_response?vacancyId=68609068</td>\n",
       "      <td>None</td>\n",
       "      <td>https://api.hh.ru/vacancies/68609068?host=hh.ru</td>\n",
       "      <td>https://api.hh.ru/vacancies/68609068/adv_response?host=hh.ru</td>\n",
       "      <td>https://hh.ru/vacancy/68609068</td>\n",
       "      <td>[]</td>\n",
       "      <td>{'id': '2208439', 'name': 'Гензис', 'url': 'https://api.hh.ru/employers/2208439', 'alternate_url': 'https://hh.ru/employer/2208439', 'logo_urls': {'original': 'https://hhcdn.ru/employer-logo-original/699088.jpg', '90': 'https://hhcdn.ru/employer-logo/3237468.jpeg', '240': 'https://hhcdn.ru/employer-logo/3237469.jpeg'}, 'vacancies_url': 'https://api.hh.ru/vacancies?employer_id=2208439', 'trusted': True}</td>\n",
       "      <td>{'requirement': 'Высшее техническое или экономическое образование. Готовность работать по 40 часов в неделю. Желание учиться и развиваться. Этичность, терпеливость, умение спокойно...', 'responsibility': 'Получить задачу от клиента, поставить на ее основе задачу &lt;highlighttext&gt;программисту&lt;/highlighttext&gt;, проверить качество, сдать клиенту.'}</td>\n",
       "      <td>None</td>\n",
       "      <td>{'id': 'fullDay', 'name': 'Полный день'}</td>\n",
       "      <td>{'responses': 214}</td>\n",
       "      <td>[]</td>\n",
       "      <td>[]</td>\n",
       "      <td>[]</td>\n",
       "      <td>False</td>\n",
       "      <td>noExperience</td>\n",
       "      <td>Гензис</td>\n",
       "      <td>NaN</td>\n",
       "      <td>40000.0</td>\n",
       "      <td>70000.0</td>\n",
       "      <td>False</td>\n",
       "      <td>RUR</td>\n",
       "      <td>214</td>\n",
       "      <td>Москва</td>\n",
       "      <td>Румянцево</td>\n",
       "    </tr>\n",
       "    <tr>\n",
       "      <th>...</th>\n",
       "      <td>...</td>\n",
       "      <td>...</td>\n",
       "      <td>...</td>\n",
       "      <td>...</td>\n",
       "      <td>...</td>\n",
       "      <td>...</td>\n",
       "      <td>...</td>\n",
       "      <td>...</td>\n",
       "      <td>...</td>\n",
       "      <td>...</td>\n",
       "      <td>...</td>\n",
       "      <td>...</td>\n",
       "      <td>...</td>\n",
       "      <td>...</td>\n",
       "      <td>...</td>\n",
       "      <td>...</td>\n",
       "      <td>...</td>\n",
       "      <td>...</td>\n",
       "      <td>...</td>\n",
       "      <td>...</td>\n",
       "      <td>...</td>\n",
       "      <td>...</td>\n",
       "      <td>...</td>\n",
       "      <td>...</td>\n",
       "      <td>...</td>\n",
       "      <td>...</td>\n",
       "      <td>...</td>\n",
       "      <td>...</td>\n",
       "      <td>...</td>\n",
       "      <td>...</td>\n",
       "      <td>...</td>\n",
       "      <td>...</td>\n",
       "      <td>...</td>\n",
       "      <td>...</td>\n",
       "      <td>...</td>\n",
       "      <td>...</td>\n",
       "      <td>...</td>\n",
       "      <td>...</td>\n",
       "      <td>...</td>\n",
       "      <td>...</td>\n",
       "    </tr>\n",
       "    <tr>\n",
       "      <th>766</th>\n",
       "      <td>52472520</td>\n",
       "      <td>False</td>\n",
       "      <td>Руководитель отдела (SAP BW/BI)</td>\n",
       "      <td>None</td>\n",
       "      <td>False</td>\n",
       "      <td>False</td>\n",
       "      <td>{'id': '1', 'name': 'Москва', 'url': 'https://api.hh.ru/areas/1'}</td>\n",
       "      <td>None</td>\n",
       "      <td>{'id': 'open', 'name': 'Открытая'}</td>\n",
       "      <td>{'city': 'Москва', 'street': 'Ленинградский проспект', 'building': '80к16', 'description': None, 'lat': 55.808088, 'lng': 37.507583, 'raw': 'Москва, Ленинградский проспект, 80к16', 'metro': {'station_name': 'Сокол', 'line_name': 'Замоскворецкая', 'station_id': '2.133', 'line_id': '2', 'lat': 55.805564, 'lng': 37.515245}, 'metro_stations': [{'station_name': 'Сокол', 'line_name': 'Замоскворецкая', 'station_id': '2.133', 'line_id': '2', 'lat': 55.805564, 'lng': 37.515245}], 'id': '1228775'}</td>\n",
       "      <td>None</td>\n",
       "      <td>None</td>\n",
       "      <td>2022-08-24</td>\n",
       "      <td>2022-08-24T10:53:21+0300</td>\n",
       "      <td>False</td>\n",
       "      <td>https://hh.ru/applicant/vacancy_response?vacancyId=52472520</td>\n",
       "      <td>None</td>\n",
       "      <td>https://api.hh.ru/vacancies/52472520?host=hh.ru</td>\n",
       "      <td>https://api.hh.ru/vacancies/52472520/adv_response?host=hh.ru</td>\n",
       "      <td>https://hh.ru/vacancy/52472520</td>\n",
       "      <td>[]</td>\n",
       "      <td>{'id': '2638551', 'name': 'Комита Цифровые Технологии', 'url': 'https://api.hh.ru/employers/2638551', 'alternate_url': 'https://hh.ru/employer/2638551', 'logo_urls': {'240': 'https://hhcdn.ru/employer-logo/5567877.png', '90': 'https://hhcdn.ru/employer-logo/5567876.png', 'original': 'https://hhcdn.ru/employer-logo-original/986766.png'}, 'vacancies_url': 'https://api.hh.ru/vacancies?employer_id=2638551', 'trusted': True}</td>\n",
       "      <td>{'requirement': 'Написание технической документации (ПР, СП, ТЗ и т.д.). SAP HANA (CV, AV, &lt;highlighttext&gt;SQL&lt;/highlighttext&gt;, Analytic Privilege). Работа с экстракторами (2...', 'responsibility': 'Участие в проектах по разработке отчетности в роли архитектора/РФГ. Руководство функциональной группой. Разработка решений на базе SAP BW и...'}</td>\n",
       "      <td>None</td>\n",
       "      <td>{'id': 'fullDay', 'name': 'Полный день'}</td>\n",
       "      <td>{'responses': 0}</td>\n",
       "      <td>[]</td>\n",
       "      <td>[]</td>\n",
       "      <td>[]</td>\n",
       "      <td>True</td>\n",
       "      <td>moreThan6</td>\n",
       "      <td>Комита Цифровые Технологии</td>\n",
       "      <td>NaN</td>\n",
       "      <td>NaN</td>\n",
       "      <td>NaN</td>\n",
       "      <td>NaN</td>\n",
       "      <td>NaN</td>\n",
       "      <td>0</td>\n",
       "      <td>Москва</td>\n",
       "      <td>Сокол</td>\n",
       "    </tr>\n",
       "    <tr>\n",
       "      <th>767</th>\n",
       "      <td>68498429</td>\n",
       "      <td>False</td>\n",
       "      <td>Аналитик Senior (отчётность)</td>\n",
       "      <td>{'id': 'mts-3776-main', 'name': '«МТС» '}</td>\n",
       "      <td>False</td>\n",
       "      <td>False</td>\n",
       "      <td>{'id': '1', 'name': 'Москва', 'url': 'https://api.hh.ru/areas/1'}</td>\n",
       "      <td>None</td>\n",
       "      <td>{'id': 'open', 'name': 'Открытая'}</td>\n",
       "      <td>None</td>\n",
       "      <td>None</td>\n",
       "      <td>None</td>\n",
       "      <td>2022-08-23</td>\n",
       "      <td>2022-08-23T09:55:16+0300</td>\n",
       "      <td>False</td>\n",
       "      <td>https://hh.ru/applicant/vacancy_response?vacancyId=68498429</td>\n",
       "      <td>None</td>\n",
       "      <td>https://api.hh.ru/vacancies/68498429?host=hh.ru</td>\n",
       "      <td>https://api.hh.ru/vacancies/68498429/adv_response?host=hh.ru</td>\n",
       "      <td>https://hh.ru/vacancy/68498429</td>\n",
       "      <td>[]</td>\n",
       "      <td>{'id': '3776', 'name': 'МТС', 'url': 'https://api.hh.ru/employers/3776', 'alternate_url': 'https://hh.ru/employer/3776', 'logo_urls': {'240': 'https://hhcdn.ru/employer-logo/3096661.jpeg', '90': 'https://hhcdn.ru/employer-logo/3096660.jpeg', 'original': 'https://hhcdn.ru/employer-logo-original/663882.jpg'}, 'vacancies_url': 'https://api.hh.ru/vacancies?employer_id=3776', 'trusted': True}</td>\n",
       "      <td>{'requirement': 'Опыт в должности &lt;highlighttext&gt;аналитика&lt;/highlighttext&gt; от 2 лет, желательно в сфере интеграции, BI/Reporting. Опыт проектирования информационных систем, приложений для BI...', 'responsibility': 'Разрабатывать спецификации на разработку новых инструментов &lt;highlighttext&gt;аналитики&lt;/highlighttext&gt;. Проектировать макеты дашбордов. Прорабатывать архитектурные решения совместно с архитекторами и &lt;highlighttext&gt;разработчиками&lt;/highlighttext&gt;.'}</td>\n",
       "      <td>None</td>\n",
       "      <td>{'id': 'remote', 'name': 'Удаленная работа'}</td>\n",
       "      <td>{'responses': 2}</td>\n",
       "      <td>[]</td>\n",
       "      <td>[]</td>\n",
       "      <td>[]</td>\n",
       "      <td>False</td>\n",
       "      <td>moreThan6</td>\n",
       "      <td>МТС</td>\n",
       "      <td>«МТС»</td>\n",
       "      <td>NaN</td>\n",
       "      <td>NaN</td>\n",
       "      <td>NaN</td>\n",
       "      <td>NaN</td>\n",
       "      <td>2</td>\n",
       "      <td>Москва</td>\n",
       "      <td>NaN</td>\n",
       "    </tr>\n",
       "    <tr>\n",
       "      <th>768</th>\n",
       "      <td>68028070</td>\n",
       "      <td>False</td>\n",
       "      <td>Team lead по аналитике</td>\n",
       "      <td>{'id': 'bil-4934-beel', 'name': 'билайн'}</td>\n",
       "      <td>False</td>\n",
       "      <td>False</td>\n",
       "      <td>{'id': '1', 'name': 'Москва', 'url': 'https://api.hh.ru/areas/1'}</td>\n",
       "      <td>None</td>\n",
       "      <td>{'id': 'open', 'name': 'Открытая'}</td>\n",
       "      <td>None</td>\n",
       "      <td>None</td>\n",
       "      <td>None</td>\n",
       "      <td>2022-08-23</td>\n",
       "      <td>2022-08-23T14:08:27+0300</td>\n",
       "      <td>False</td>\n",
       "      <td>https://hh.ru/applicant/vacancy_response?vacancyId=68028070</td>\n",
       "      <td>None</td>\n",
       "      <td>https://api.hh.ru/vacancies/68028070?host=hh.ru</td>\n",
       "      <td>https://api.hh.ru/vacancies/68028070/adv_response?host=hh.ru</td>\n",
       "      <td>https://hh.ru/vacancy/68028070</td>\n",
       "      <td>[]</td>\n",
       "      <td>{'id': '4934', 'name': 'билайн', 'url': 'https://api.hh.ru/employers/4934', 'alternate_url': 'https://hh.ru/employer/4934', 'logo_urls': {'original': 'https://hhcdn.ru/employer-logo-original/902351.png', '90': 'https://hhcdn.ru/employer-logo/4050091.png', '240': 'https://hhcdn.ru/employer-logo/4050092.png'}, 'vacancies_url': 'https://api.hh.ru/vacancies?employer_id=4934', 'trusted': True}</td>\n",
       "      <td>{'requirement': 'Умение работать с большим объемом статистических данных из различных источников. Знание &lt;highlighttext&gt;SQL&lt;/highlighttext&gt; на продвинутом уровне, опыт работы с Python, Hadoop. ', 'responsibility': 'Анализировать клиентскую базу b2b с целью выявления наиболее склонных к приобретению продукта клиентов. Проводить анализ результатов маркетинговых кампаний...'}</td>\n",
       "      <td>None</td>\n",
       "      <td>{'id': 'fullDay', 'name': 'Полный день'}</td>\n",
       "      <td>{'responses': 4}</td>\n",
       "      <td>[]</td>\n",
       "      <td>[]</td>\n",
       "      <td>[]</td>\n",
       "      <td>False</td>\n",
       "      <td>moreThan6</td>\n",
       "      <td>билайн</td>\n",
       "      <td>билайн</td>\n",
       "      <td>NaN</td>\n",
       "      <td>NaN</td>\n",
       "      <td>NaN</td>\n",
       "      <td>NaN</td>\n",
       "      <td>4</td>\n",
       "      <td>Москва</td>\n",
       "      <td>NaN</td>\n",
       "    </tr>\n",
       "    <tr>\n",
       "      <th>769</th>\n",
       "      <td>67560361</td>\n",
       "      <td>False</td>\n",
       "      <td>Руководитель центра аналитики данных</td>\n",
       "      <td>None</td>\n",
       "      <td>False</td>\n",
       "      <td>False</td>\n",
       "      <td>{'id': '1', 'name': 'Москва', 'url': 'https://api.hh.ru/areas/1'}</td>\n",
       "      <td>None</td>\n",
       "      <td>{'id': 'open', 'name': 'Открытая'}</td>\n",
       "      <td>{'city': 'Москва', 'street': 'Кожевническая улица', 'building': '14с2', 'description': None, 'lat': 55.728981, 'lng': 37.646256, 'raw': 'Москва, Кожевническая улица, 14с2', 'metro': {'station_name': 'Павелецкая', 'line_name': 'Замоскворецкая', 'station_id': '2.101', 'line_id': '2', 'lat': 55.729741, 'lng': 37.638693}, 'metro_stations': [{'station_name': 'Павелецкая', 'line_name': 'Замоскворецкая', 'station_id': '2.101', 'line_id': '2', 'lat': 55.729741, 'lng': 37.638693}, {'station_name': 'Павелецкая', 'line_name': 'Кольцевая', 'station_id': '5.102', 'line_id': '5', 'lat': 55.731414, 'lng': 37.636294}], 'id': '7264074'}</td>\n",
       "      <td>None</td>\n",
       "      <td>None</td>\n",
       "      <td>2022-08-22</td>\n",
       "      <td>2022-08-22T11:03:24+0300</td>\n",
       "      <td>False</td>\n",
       "      <td>https://hh.ru/applicant/vacancy_response?vacancyId=67560361</td>\n",
       "      <td>None</td>\n",
       "      <td>https://api.hh.ru/vacancies/67560361?host=hh.ru</td>\n",
       "      <td>https://api.hh.ru/vacancies/67560361/adv_response?host=hh.ru</td>\n",
       "      <td>https://hh.ru/vacancy/67560361</td>\n",
       "      <td>[]</td>\n",
       "      <td>{'id': '5498987', 'name': 'Страховая компания Пульс', 'url': 'https://api.hh.ru/employers/5498987', 'alternate_url': 'https://hh.ru/employer/5498987', 'logo_urls': {'original': 'https://hhcdn.ru/employer-logo-original/941284.jpg', '240': 'https://hhcdn.ru/employer-logo/4205677.jpeg', '90': 'https://hhcdn.ru/employer-logo/4205676.jpeg'}, 'vacancies_url': 'https://api.hh.ru/vacancies?employer_id=5498987', 'trusted': True}</td>\n",
       "      <td>{'requirement': 'Знания в направлениях NLP, OCR, Image Recognition, Auto-encoders, Recommender &lt;highlighttext&gt;Systems&lt;/highlighttext&gt;. Владение &lt;highlighttext&gt;SQL&lt;/highlighttext&gt;, Python и библиотеками анализа данных: Pandas, NumPy...', 'responsibility': 'Создание команды полного цикла работы с данными. Задачами команды являются построение инфраструктуры сбора, нормализации, обогащения и анализа данных, поиск инсайтов...'}</td>\n",
       "      <td>None</td>\n",
       "      <td>{'id': 'fullDay', 'name': 'Полный день'}</td>\n",
       "      <td>{'responses': 5}</td>\n",
       "      <td>[]</td>\n",
       "      <td>[]</td>\n",
       "      <td>[]</td>\n",
       "      <td>False</td>\n",
       "      <td>moreThan6</td>\n",
       "      <td>Страховая компания Пульс</td>\n",
       "      <td>NaN</td>\n",
       "      <td>NaN</td>\n",
       "      <td>NaN</td>\n",
       "      <td>NaN</td>\n",
       "      <td>NaN</td>\n",
       "      <td>5</td>\n",
       "      <td>Москва</td>\n",
       "      <td>Павелецкая</td>\n",
       "    </tr>\n",
       "    <tr>\n",
       "      <th>770</th>\n",
       "      <td>68993870</td>\n",
       "      <td>False</td>\n",
       "      <td>Project Manager/ Бизнес-аналитик</td>\n",
       "      <td>None</td>\n",
       "      <td>False</td>\n",
       "      <td>False</td>\n",
       "      <td>{'id': '1', 'name': 'Москва', 'url': 'https://api.hh.ru/areas/1'}</td>\n",
       "      <td>None</td>\n",
       "      <td>{'id': 'open', 'name': 'Открытая'}</td>\n",
       "      <td>None</td>\n",
       "      <td>None</td>\n",
       "      <td>None</td>\n",
       "      <td>2022-08-21</td>\n",
       "      <td>2022-08-21T13:26:31+0300</td>\n",
       "      <td>False</td>\n",
       "      <td>https://hh.ru/applicant/vacancy_response?vacancyId=68993870</td>\n",
       "      <td>None</td>\n",
       "      <td>https://api.hh.ru/vacancies/68993870?host=hh.ru</td>\n",
       "      <td>https://api.hh.ru/vacancies/68993870/adv_response?host=hh.ru</td>\n",
       "      <td>https://hh.ru/vacancy/68993870</td>\n",
       "      <td>[]</td>\n",
       "      <td>{'id': '87021', 'name': 'WILDBERRIES', 'url': 'https://api.hh.ru/employers/87021', 'alternate_url': 'https://hh.ru/employer/87021', 'logo_urls': {'original': 'https://hhcdn.ru/employer-logo-original/678792.jpeg', '240': 'https://hhcdn.ru/employer-logo/3156301.jpeg', '90': 'https://hhcdn.ru/employer-logo/3156300.jpeg'}, 'vacancies_url': 'https://api.hh.ru/vacancies?employer_id=87021', 'trusted': True}</td>\n",
       "      <td>{'requirement': 'Умеете читать программный код. Имеете опыт разработки решений в области складской логистики учета. Знаете современные методики организации и управления деятельностью...', 'responsibility': 'Консультирование бизнеса (конечных пользователей) по вопросам работы с ПО. Умение составлять &lt;highlighttext&gt;SQL&lt;/highlighttext&gt;-запросы и работать с БД. Иметь представление о...'}</td>\n",
       "      <td>None</td>\n",
       "      <td>{'id': 'flexible', 'name': 'Гибкий график'}</td>\n",
       "      <td>{'responses': 137}</td>\n",
       "      <td>[]</td>\n",
       "      <td>[]</td>\n",
       "      <td>[]</td>\n",
       "      <td>False</td>\n",
       "      <td>moreThan6</td>\n",
       "      <td>WILDBERRIES</td>\n",
       "      <td>NaN</td>\n",
       "      <td>NaN</td>\n",
       "      <td>NaN</td>\n",
       "      <td>NaN</td>\n",
       "      <td>NaN</td>\n",
       "      <td>137</td>\n",
       "      <td>Москва</td>\n",
       "      <td>NaN</td>\n",
       "    </tr>\n",
       "  </tbody>\n",
       "</table>\n",
       "<p>771 rows × 40 columns</p>\n",
       "</div>"
      ],
      "text/plain": [
       "           id  premium                                  name  \\\n",
       "0    39904397  False    Продуктовый аналитик                   \n",
       "1    69135650  False    Контролер-аналитик                     \n",
       "2    36705054  False    Бизнес-аналитик                        \n",
       "3    69128258  False    Младший антифрод аналитик              \n",
       "4    68609068  False    Стажер/Аналитик 1С                     \n",
       "..        ...    ...                   ...                     \n",
       "766  52472520  False    Руководитель отдела (SAP BW/BI)        \n",
       "767  68498429  False    Аналитик Senior (отчётность)           \n",
       "768  68028070  False    Team lead по аналитике                 \n",
       "769  67560361  False    Руководитель центра аналитики данных   \n",
       "770  68993870  False    Project Manager/ Бизнес-аналитик       \n",
       "\n",
       "                                    department  has_test  \\\n",
       "0    None                                       False      \n",
       "1    None                                       False      \n",
       "2    None                                       False      \n",
       "3    None                                       False      \n",
       "4    None                                       False      \n",
       "..    ...                                         ...      \n",
       "766  None                                       False      \n",
       "767  {'id': 'mts-3776-main', 'name': '«МТС» '}  False      \n",
       "768  {'id': 'bil-4934-beel', 'name': 'билайн'}  False      \n",
       "769  None                                       False      \n",
       "770  None                                       False      \n",
       "\n",
       "     response_letter_required  \\\n",
       "0    False                      \n",
       "1    False                      \n",
       "2    False                      \n",
       "3    False                      \n",
       "4    False                      \n",
       "..     ...                      \n",
       "766  False                      \n",
       "767  False                      \n",
       "768  False                      \n",
       "769  False                      \n",
       "770  False                      \n",
       "\n",
       "                                                                  area  \\\n",
       "0    {'id': '1', 'name': 'Москва', 'url': 'https://api.hh.ru/areas/1'}   \n",
       "1    {'id': '1', 'name': 'Москва', 'url': 'https://api.hh.ru/areas/1'}   \n",
       "2    {'id': '1', 'name': 'Москва', 'url': 'https://api.hh.ru/areas/1'}   \n",
       "3    {'id': '1', 'name': 'Москва', 'url': 'https://api.hh.ru/areas/1'}   \n",
       "4    {'id': '1', 'name': 'Москва', 'url': 'https://api.hh.ru/areas/1'}   \n",
       "..                                                                 ...   \n",
       "766  {'id': '1', 'name': 'Москва', 'url': 'https://api.hh.ru/areas/1'}   \n",
       "767  {'id': '1', 'name': 'Москва', 'url': 'https://api.hh.ru/areas/1'}   \n",
       "768  {'id': '1', 'name': 'Москва', 'url': 'https://api.hh.ru/areas/1'}   \n",
       "769  {'id': '1', 'name': 'Москва', 'url': 'https://api.hh.ru/areas/1'}   \n",
       "770  {'id': '1', 'name': 'Москва', 'url': 'https://api.hh.ru/areas/1'}   \n",
       "\n",
       "                                                              salary  \\\n",
       "0    None                                                              \n",
       "1    None                                                              \n",
       "2    None                                                              \n",
       "3    None                                                              \n",
       "4    {'from': 40000, 'to': 70000, 'currency': 'RUR', 'gross': False}   \n",
       "..                                                               ...   \n",
       "766  None                                                              \n",
       "767  None                                                              \n",
       "768  None                                                              \n",
       "769  None                                                              \n",
       "770  None                                                              \n",
       "\n",
       "                                   type  \\\n",
       "0    {'id': 'open', 'name': 'Открытая'}   \n",
       "1    {'id': 'open', 'name': 'Открытая'}   \n",
       "2    {'id': 'open', 'name': 'Открытая'}   \n",
       "3    {'id': 'open', 'name': 'Открытая'}   \n",
       "4    {'id': 'open', 'name': 'Открытая'}   \n",
       "..                                  ...   \n",
       "766  {'id': 'open', 'name': 'Открытая'}   \n",
       "767  {'id': 'open', 'name': 'Открытая'}   \n",
       "768  {'id': 'open', 'name': 'Открытая'}   \n",
       "769  {'id': 'open', 'name': 'Открытая'}   \n",
       "770  {'id': 'open', 'name': 'Открытая'}   \n",
       "\n",
       "                                                                                                                                                                                                                                                                                                                                                                                                                                                                                                                                                                                                                                                 address  \\\n",
       "0    {'city': 'Москва', 'street': 'Головинское шоссе', 'building': '5', 'description': None, 'lat': 55.84024, 'lng': 37.492024, 'raw': 'Москва, Головинское шоссе, 5', 'metro': {'station_name': 'Водный стадион', 'line_name': 'Замоскворецкая', 'station_id': '2.29', 'line_id': '2', 'lat': 55.838978, 'lng': 37.487515}, 'metro_stations': [{'station_name': 'Водный стадион', 'line_name': 'Замоскворецкая', 'station_id': '2.29', 'line_id': '2', 'lat': 55.838978, 'lng': 37.487515}], 'id': '643441'}                                                                                                                                              \n",
       "1    None                                                                                                                                                                                                                                                                                                                                                                                                                                                                                                                                                                                                                                                  \n",
       "2    {'city': 'Москва', 'street': 'Замоскворецкая линия', 'building': 'метро Водный Стадион', 'description': None, 'lat': 55.840209, 'lng': 37.486616, 'raw': 'Москва, Замоскворецкая линия, метро Водный Стадион', 'metro': {'station_name': 'Водный стадион', 'line_name': 'Замоскворецкая', 'station_id': '2.29', 'line_id': '2', 'lat': 55.838978, 'lng': 37.487515}, 'metro_stations': [{'station_name': 'Водный стадион', 'line_name': 'Замоскворецкая', 'station_id': '2.29', 'line_id': '2', 'lat': 55.838978, 'lng': 37.487515}], 'id': '178897'}                                                                                                 \n",
       "3    {'city': 'Москва', 'street': 'Замоскворецкая линия', 'building': 'метро Технопарк', 'description': None, 'lat': 55.694482443, 'lng': 37.663312201, 'raw': 'Москва, Замоскворецкая линия, метро Технопарк', 'metro': None, 'metro_stations': [], 'id': '7589118'}                                                                                                                                                                                                                                                                                                                                                                                      \n",
       "4    {'city': 'Новомосковский административный округ', 'street': 'Киевское шоссе, 22-й километр', 'building': 'дв4с4кЕ', 'description': None, 'lat': 55.637017, 'lng': 37.434954, 'raw': 'Новомосковский административный округ, Киевское шоссе, 22-й километр, дв4с4кЕ', 'metro': {'station_name': 'Румянцево', 'line_name': 'Сокольническая', 'station_id': '1.513', 'line_id': '1', 'lat': 55.633, 'lng': 37.4419}, 'metro_stations': [{'station_name': 'Румянцево', 'line_name': 'Сокольническая', 'station_id': '1.513', 'line_id': '1', 'lat': 55.633, 'lng': 37.4419}], 'id': '2663913'}                                                            \n",
       "..                                                                                                                                                                                                                                                                                                                                                                                                                                                                                                                                                                                          ...                                                            \n",
       "766  {'city': 'Москва', 'street': 'Ленинградский проспект', 'building': '80к16', 'description': None, 'lat': 55.808088, 'lng': 37.507583, 'raw': 'Москва, Ленинградский проспект, 80к16', 'metro': {'station_name': 'Сокол', 'line_name': 'Замоскворецкая', 'station_id': '2.133', 'line_id': '2', 'lat': 55.805564, 'lng': 37.515245}, 'metro_stations': [{'station_name': 'Сокол', 'line_name': 'Замоскворецкая', 'station_id': '2.133', 'line_id': '2', 'lat': 55.805564, 'lng': 37.515245}], 'id': '1228775'}                                                                                                                                          \n",
       "767  None                                                                                                                                                                                                                                                                                                                                                                                                                                                                                                                                                                                                                                                  \n",
       "768  None                                                                                                                                                                                                                                                                                                                                                                                                                                                                                                                                                                                                                                                  \n",
       "769  {'city': 'Москва', 'street': 'Кожевническая улица', 'building': '14с2', 'description': None, 'lat': 55.728981, 'lng': 37.646256, 'raw': 'Москва, Кожевническая улица, 14с2', 'metro': {'station_name': 'Павелецкая', 'line_name': 'Замоскворецкая', 'station_id': '2.101', 'line_id': '2', 'lat': 55.729741, 'lng': 37.638693}, 'metro_stations': [{'station_name': 'Павелецкая', 'line_name': 'Замоскворецкая', 'station_id': '2.101', 'line_id': '2', 'lat': 55.729741, 'lng': 37.638693}, {'station_name': 'Павелецкая', 'line_name': 'Кольцевая', 'station_id': '5.102', 'line_id': '5', 'lat': 55.731414, 'lng': 37.636294}], 'id': '7264074'}   \n",
       "770  None                                                                                                                                                                                                                                                                                                                                                                                                                                                                                                                                                                                                                                                  \n",
       "\n",
       "    response_url sort_point_distance published_at                created_at  \\\n",
       "0    None         None               2022-08-24    2022-08-24T14:52:54+0300   \n",
       "1    None         None               2022-08-24    2022-08-24T14:38:42+0300   \n",
       "2    None         None               2022-08-24    2022-08-24T14:53:12+0300   \n",
       "3    None         None               2022-08-24    2022-08-24T12:28:15+0300   \n",
       "4    None         None               2022-08-24    2022-08-24T13:32:05+0300   \n",
       "..    ...          ...                      ...                         ...   \n",
       "766  None         None               2022-08-24    2022-08-24T10:53:21+0300   \n",
       "767  None         None               2022-08-23    2022-08-23T09:55:16+0300   \n",
       "768  None         None               2022-08-23    2022-08-23T14:08:27+0300   \n",
       "769  None         None               2022-08-22    2022-08-22T11:03:24+0300   \n",
       "770  None         None               2022-08-21    2022-08-21T13:26:31+0300   \n",
       "\n",
       "     archived                                          apply_alternate_url  \\\n",
       "0    False     https://hh.ru/applicant/vacancy_response?vacancyId=39904397   \n",
       "1    False     https://hh.ru/applicant/vacancy_response?vacancyId=69135650   \n",
       "2    False     https://hh.ru/applicant/vacancy_response?vacancyId=36705054   \n",
       "3    False     https://hh.ru/applicant/vacancy_response?vacancyId=69128258   \n",
       "4    False     https://hh.ru/applicant/vacancy_response?vacancyId=68609068   \n",
       "..     ...                                                             ...   \n",
       "766  False     https://hh.ru/applicant/vacancy_response?vacancyId=52472520   \n",
       "767  False     https://hh.ru/applicant/vacancy_response?vacancyId=68498429   \n",
       "768  False     https://hh.ru/applicant/vacancy_response?vacancyId=68028070   \n",
       "769  False     https://hh.ru/applicant/vacancy_response?vacancyId=67560361   \n",
       "770  False     https://hh.ru/applicant/vacancy_response?vacancyId=68993870   \n",
       "\n",
       "    insider_interview                                              url  \\\n",
       "0    None              https://api.hh.ru/vacancies/39904397?host=hh.ru   \n",
       "1    None              https://api.hh.ru/vacancies/69135650?host=hh.ru   \n",
       "2    None              https://api.hh.ru/vacancies/36705054?host=hh.ru   \n",
       "3    None              https://api.hh.ru/vacancies/69128258?host=hh.ru   \n",
       "4    None              https://api.hh.ru/vacancies/68609068?host=hh.ru   \n",
       "..    ...                                                          ...   \n",
       "766  None              https://api.hh.ru/vacancies/52472520?host=hh.ru   \n",
       "767  None              https://api.hh.ru/vacancies/68498429?host=hh.ru   \n",
       "768  None              https://api.hh.ru/vacancies/68028070?host=hh.ru   \n",
       "769  None              https://api.hh.ru/vacancies/67560361?host=hh.ru   \n",
       "770  None              https://api.hh.ru/vacancies/68993870?host=hh.ru   \n",
       "\n",
       "                                                 adv_response_url  \\\n",
       "0    https://api.hh.ru/vacancies/39904397/adv_response?host=hh.ru   \n",
       "1    https://api.hh.ru/vacancies/69135650/adv_response?host=hh.ru   \n",
       "2    https://api.hh.ru/vacancies/36705054/adv_response?host=hh.ru   \n",
       "3    https://api.hh.ru/vacancies/69128258/adv_response?host=hh.ru   \n",
       "4    https://api.hh.ru/vacancies/68609068/adv_response?host=hh.ru   \n",
       "..                                                            ...   \n",
       "766  https://api.hh.ru/vacancies/52472520/adv_response?host=hh.ru   \n",
       "767  https://api.hh.ru/vacancies/68498429/adv_response?host=hh.ru   \n",
       "768  https://api.hh.ru/vacancies/68028070/adv_response?host=hh.ru   \n",
       "769  https://api.hh.ru/vacancies/67560361/adv_response?host=hh.ru   \n",
       "770  https://api.hh.ru/vacancies/68993870/adv_response?host=hh.ru   \n",
       "\n",
       "                      alternate_url relations  \\\n",
       "0    https://hh.ru/vacancy/39904397  []         \n",
       "1    https://hh.ru/vacancy/69135650  []         \n",
       "2    https://hh.ru/vacancy/36705054  []         \n",
       "3    https://hh.ru/vacancy/69128258  []         \n",
       "4    https://hh.ru/vacancy/68609068  []         \n",
       "..                              ...  ..         \n",
       "766  https://hh.ru/vacancy/52472520  []         \n",
       "767  https://hh.ru/vacancy/68498429  []         \n",
       "768  https://hh.ru/vacancy/68028070  []         \n",
       "769  https://hh.ru/vacancy/67560361  []         \n",
       "770  https://hh.ru/vacancy/68993870  []         \n",
       "\n",
       "                                                                                                                                                                                                                                                                                                                                                                                                                                    employer  \\\n",
       "0    {'id': '78638', 'name': 'Тинькофф', 'url': 'https://api.hh.ru/employers/78638', 'alternate_url': 'https://hh.ru/employer/78638', 'logo_urls': {'240': 'https://hhcdn.ru/employer-logo/3452962.png', '90': 'https://hhcdn.ru/employer-logo/3452961.png', 'original': 'https://hhcdn.ru/employer-logo-original/753000.png'}, 'vacancies_url': 'https://api.hh.ru/vacancies?employer_id=78638', 'trusted': True}                             \n",
       "1    {'id': '73886', 'name': 'LPP', 'url': 'https://api.hh.ru/employers/73886', 'alternate_url': 'https://hh.ru/employer/73886', 'logo_urls': None, 'vacancies_url': 'https://api.hh.ru/vacancies?employer_id=73886', 'trusted': True}                                                                                                                                                                                                         \n",
       "2    {'id': '78638', 'name': 'Тинькофф', 'url': 'https://api.hh.ru/employers/78638', 'alternate_url': 'https://hh.ru/employer/78638', 'logo_urls': {'240': 'https://hhcdn.ru/employer-logo/3452962.png', '90': 'https://hhcdn.ru/employer-logo/3452961.png', 'original': 'https://hhcdn.ru/employer-logo-original/753000.png'}, 'vacancies_url': 'https://api.hh.ru/vacancies?employer_id=78638', 'trusted': True}                             \n",
       "3    {'id': '4482374', 'name': 'Медиапоинт', 'url': 'https://api.hh.ru/employers/4482374', 'alternate_url': 'https://hh.ru/employer/4482374', 'logo_urls': {'90': 'https://hhcdn.ru/employer-logo/3310392.png', '240': 'https://hhcdn.ru/employer-logo/3310393.png', 'original': 'https://hhcdn.ru/employer-logo-original/717319.png'}, 'vacancies_url': 'https://api.hh.ru/vacancies?employer_id=4482374', 'trusted': True}                   \n",
       "4    {'id': '2208439', 'name': 'Гензис', 'url': 'https://api.hh.ru/employers/2208439', 'alternate_url': 'https://hh.ru/employer/2208439', 'logo_urls': {'original': 'https://hhcdn.ru/employer-logo-original/699088.jpg', '90': 'https://hhcdn.ru/employer-logo/3237468.jpeg', '240': 'https://hhcdn.ru/employer-logo/3237469.jpeg'}, 'vacancies_url': 'https://api.hh.ru/vacancies?employer_id=2208439', 'trusted': True}                     \n",
       "..                                                                                                                                                                                                                                                                                                                                                                                                                     ...                     \n",
       "766  {'id': '2638551', 'name': 'Комита Цифровые Технологии', 'url': 'https://api.hh.ru/employers/2638551', 'alternate_url': 'https://hh.ru/employer/2638551', 'logo_urls': {'240': 'https://hhcdn.ru/employer-logo/5567877.png', '90': 'https://hhcdn.ru/employer-logo/5567876.png', 'original': 'https://hhcdn.ru/employer-logo-original/986766.png'}, 'vacancies_url': 'https://api.hh.ru/vacancies?employer_id=2638551', 'trusted': True}   \n",
       "767  {'id': '3776', 'name': 'МТС', 'url': 'https://api.hh.ru/employers/3776', 'alternate_url': 'https://hh.ru/employer/3776', 'logo_urls': {'240': 'https://hhcdn.ru/employer-logo/3096661.jpeg', '90': 'https://hhcdn.ru/employer-logo/3096660.jpeg', 'original': 'https://hhcdn.ru/employer-logo-original/663882.jpg'}, 'vacancies_url': 'https://api.hh.ru/vacancies?employer_id=3776', 'trusted': True}                                    \n",
       "768  {'id': '4934', 'name': 'билайн', 'url': 'https://api.hh.ru/employers/4934', 'alternate_url': 'https://hh.ru/employer/4934', 'logo_urls': {'original': 'https://hhcdn.ru/employer-logo-original/902351.png', '90': 'https://hhcdn.ru/employer-logo/4050091.png', '240': 'https://hhcdn.ru/employer-logo/4050092.png'}, 'vacancies_url': 'https://api.hh.ru/vacancies?employer_id=4934', 'trusted': True}                                   \n",
       "769  {'id': '5498987', 'name': 'Страховая компания Пульс', 'url': 'https://api.hh.ru/employers/5498987', 'alternate_url': 'https://hh.ru/employer/5498987', 'logo_urls': {'original': 'https://hhcdn.ru/employer-logo-original/941284.jpg', '240': 'https://hhcdn.ru/employer-logo/4205677.jpeg', '90': 'https://hhcdn.ru/employer-logo/4205676.jpeg'}, 'vacancies_url': 'https://api.hh.ru/vacancies?employer_id=5498987', 'trusted': True}   \n",
       "770  {'id': '87021', 'name': 'WILDBERRIES', 'url': 'https://api.hh.ru/employers/87021', 'alternate_url': 'https://hh.ru/employer/87021', 'logo_urls': {'original': 'https://hhcdn.ru/employer-logo-original/678792.jpeg', '240': 'https://hhcdn.ru/employer-logo/3156301.jpeg', '90': 'https://hhcdn.ru/employer-logo/3156300.jpeg'}, 'vacancies_url': 'https://api.hh.ru/vacancies?employer_id=87021', 'trusted': True}                       \n",
       "\n",
       "                                                                                                                                                                                                                                                                                                                                                                                                                                                                           snippet  \\\n",
       "0    {'requirement': 'Умение аргументированно отстаивать свою точку зрения. Опыт работы хотя бы с одним из языков программирования (базовые алгоритмы) или знание <highlighttext>SQL</highlighttext>.', 'responsibility': '...гипотез по развитию проектов. Проектировать модель данных и ключевую отчетность на направлении. Самостоятельно выявлять и закрывать потребность команды в <highlighttext>аналитике</highlighttext>.'}                                                  \n",
       "1    {'requirement': 'Знание основ Power BI (Power Query, Power Pivot, язык DAX). Базовые знания <highlighttext>SQL</highlighttext>. Понимание принципов работы с базами данных, OLAP...', 'responsibility': 'Предоставление данных по запросу от различных департаментов. Доработка существующих отчетов, автоматизация средствами MS Excel (VBA), Power BI (DAX) и <highlighttext>SQL</highlighttext>...'}                                                                         \n",
       "2    {'requirement': 'МГУ (мехмат, ВМК, физфак), МФТИ, ВШЭ (ФКН, Математика, Бизнес-информатика) – предпочтительно. Знание <highlighttext>SQL</highlighttext>, Python будет плюсом. Приветствуются знания основ машинного...', 'responsibility': 'Много и эффективно работать головой, думать, креативить, созидать, творить. Штурмовать проблемы, выдвигать идеи. Воплощать идеи в жизнь, ставить ТЗ для...'}                                                                       \n",
       "3    {'requirement': 'Коммуникабельность, стрессоустойчивость, пунктуальность, обучаемость. Желание учить новое и развиваться. Является преимуществом: Навыки работы с базами данных. Знание <highlighttext>SQL</highlighttext>. ', 'responsibility': 'Обработка предупреждений правил антифрода. Идентификация клиентов. Анализ игровой активности клиентов на выявление несоответствия правилам компании.'}                                                                        \n",
       "4    {'requirement': 'Высшее техническое или экономическое образование. Готовность работать по 40 часов в неделю. Желание учиться и развиваться. Этичность, терпеливость, умение спокойно...', 'responsibility': 'Получить задачу от клиента, поставить на ее основе задачу <highlighttext>программисту</highlighttext>, проверить качество, сдать клиенту.'}                                                                                                                        \n",
       "..                                                                                                                                                                                                                                                                                                                                                        ...                                                                                                                        \n",
       "766  {'requirement': 'Написание технической документации (ПР, СП, ТЗ и т.д.). SAP HANA (CV, AV, <highlighttext>SQL</highlighttext>, Analytic Privilege). Работа с экстракторами (2...', 'responsibility': 'Участие в проектах по разработке отчетности в роли архитектора/РФГ. Руководство функциональной группой. Разработка решений на базе SAP BW и...'}                                                                                                                          \n",
       "767  {'requirement': 'Опыт в должности <highlighttext>аналитика</highlighttext> от 2 лет, желательно в сфере интеграции, BI/Reporting. Опыт проектирования информационных систем, приложений для BI...', 'responsibility': 'Разрабатывать спецификации на разработку новых инструментов <highlighttext>аналитики</highlighttext>. Проектировать макеты дашбордов. Прорабатывать архитектурные решения совместно с архитекторами и <highlighttext>разработчиками</highlighttext>.'}   \n",
       "768  {'requirement': 'Умение работать с большим объемом статистических данных из различных источников. Знание <highlighttext>SQL</highlighttext> на продвинутом уровне, опыт работы с Python, Hadoop. ', 'responsibility': 'Анализировать клиентскую базу b2b с целью выявления наиболее склонных к приобретению продукта клиентов. Проводить анализ результатов маркетинговых кампаний...'}                                                                                         \n",
       "769  {'requirement': 'Знания в направлениях NLP, OCR, Image Recognition, Auto-encoders, Recommender <highlighttext>Systems</highlighttext>. Владение <highlighttext>SQL</highlighttext>, Python и библиотеками анализа данных: Pandas, NumPy...', 'responsibility': 'Создание команды полного цикла работы с данными. Задачами команды являются построение инфраструктуры сбора, нормализации, обогащения и анализа данных, поиск инсайтов...'}                                      \n",
       "770  {'requirement': 'Умеете читать программный код. Имеете опыт разработки решений в области складской логистики учета. Знаете современные методики организации и управления деятельностью...', 'responsibility': 'Консультирование бизнеса (конечных пользователей) по вопросам работы с ПО. Умение составлять <highlighttext>SQL</highlighttext>-запросы и работать с БД. Иметь представление о...'}                                                                              \n",
       "\n",
       "    contacts                                      schedule  \\\n",
       "0    None     {'id': 'fullDay', 'name': 'Полный день'}       \n",
       "1    None     {'id': 'fullDay', 'name': 'Полный день'}       \n",
       "2    None     {'id': 'fullDay', 'name': 'Полный день'}       \n",
       "3    None     {'id': 'shift', 'name': 'Сменный график'}      \n",
       "4    None     {'id': 'fullDay', 'name': 'Полный день'}       \n",
       "..    ...                                          ...       \n",
       "766  None     {'id': 'fullDay', 'name': 'Полный день'}       \n",
       "767  None     {'id': 'remote', 'name': 'Удаленная работа'}   \n",
       "768  None     {'id': 'fullDay', 'name': 'Полный день'}       \n",
       "769  None     {'id': 'fullDay', 'name': 'Полный день'}       \n",
       "770  None     {'id': 'flexible', 'name': 'Гибкий график'}    \n",
       "\n",
       "               counters working_days working_time_intervals  \\\n",
       "0    {'responses': 4}    []           []                      \n",
       "1    {'responses': 1}    []           []                      \n",
       "2    {'responses': 8}    []           []                      \n",
       "3    {'responses': 34}   []           []                      \n",
       "4    {'responses': 214}  []           []                      \n",
       "..                  ...  ..           ..                      \n",
       "766  {'responses': 0}    []           []                      \n",
       "767  {'responses': 2}    []           []                      \n",
       "768  {'responses': 4}    []           []                      \n",
       "769  {'responses': 5}    []           []                      \n",
       "770  {'responses': 137}  []           []                      \n",
       "\n",
       "    working_time_modes  accept_temporary    experience  \\\n",
       "0    []                 False             noExperience   \n",
       "1    []                 False             noExperience   \n",
       "2    []                 False             noExperience   \n",
       "3    []                 False             noExperience   \n",
       "4    []                 False             noExperience   \n",
       "..   ..                   ...                      ...   \n",
       "766  []                 True              moreThan6      \n",
       "767  []                 False             moreThan6      \n",
       "768  []                 False             moreThan6      \n",
       "769  []                 False             moreThan6      \n",
       "770  []                 False             moreThan6      \n",
       "\n",
       "                  employer_name department_name  salary_from  salary_to  \\\n",
       "0    Тинькофф                    NaN            NaN          NaN          \n",
       "1    LPP                         NaN            NaN          NaN          \n",
       "2    Тинькофф                    NaN            NaN          NaN          \n",
       "3    Медиапоинт                  NaN            NaN          NaN          \n",
       "4    Гензис                      NaN             40000.0      70000.0     \n",
       "..      ...                      ...                 ...          ...     \n",
       "766  Комита Цифровые Технологии  NaN            NaN          NaN          \n",
       "767  МТС                         «МТС»          NaN          NaN          \n",
       "768  билайн                      билайн         NaN          NaN          \n",
       "769  Страховая компания Пульс    NaN            NaN          NaN          \n",
       "770  WILDBERRIES                 NaN            NaN          NaN          \n",
       "\n",
       "    salary_gross salary_currency  responses    city           metro  \n",
       "0    NaN          NaN             4          Москва  Водный стадион  \n",
       "1    NaN          NaN             1          Москва  NaN             \n",
       "2    NaN          NaN             8          Москва  Водный стадион  \n",
       "3    NaN          NaN             34         Москва  NaN             \n",
       "4    False        RUR             214        Москва  Румянцево       \n",
       "..     ...        ...             ...           ...        ...       \n",
       "766  NaN          NaN             0          Москва  Сокол           \n",
       "767  NaN          NaN             2          Москва  NaN             \n",
       "768  NaN          NaN             4          Москва  NaN             \n",
       "769  NaN          NaN             5          Москва  Павелецкая      \n",
       "770  NaN          NaN             137        Москва  NaN             \n",
       "\n",
       "[771 rows x 40 columns]"
      ]
     },
     "execution_count": 18,
     "metadata": {},
     "output_type": "execute_result"
    }
   ],
   "source": [
    "vacancy_df"
   ]
  },
  {
   "cell_type": "markdown",
   "metadata": {},
   "source": [
    "### Про дубликаты"
   ]
  },
  {
   "cell_type": "code",
   "execution_count": 19,
   "metadata": {},
   "outputs": [
    {
     "data": {
      "text/html": [
       "<div>\n",
       "<style scoped>\n",
       "    .dataframe tbody tr th:only-of-type {\n",
       "        vertical-align: middle;\n",
       "    }\n",
       "\n",
       "    .dataframe tbody tr th {\n",
       "        vertical-align: top;\n",
       "    }\n",
       "\n",
       "    .dataframe thead th {\n",
       "        text-align: right;\n",
       "    }\n",
       "</style>\n",
       "<table border=\"1\" class=\"dataframe\">\n",
       "  <thead>\n",
       "    <tr style=\"text-align: right;\">\n",
       "      <th></th>\n",
       "      <th>employer_name</th>\n",
       "      <th>name</th>\n",
       "      <th>city</th>\n",
       "      <th>experience</th>\n",
       "    </tr>\n",
       "  </thead>\n",
       "  <tbody>\n",
       "    <tr>\n",
       "      <th>70</th>\n",
       "      <td>Тинькофф</td>\n",
       "      <td>Аналитик данных</td>\n",
       "      <td>Москва</td>\n",
       "      <td>between1And3</td>\n",
       "    </tr>\n",
       "    <tr>\n",
       "      <th>286</th>\n",
       "      <td>Тинькофф</td>\n",
       "      <td>Аналитик данных</td>\n",
       "      <td>Москва</td>\n",
       "      <td>between1And3</td>\n",
       "    </tr>\n",
       "    <tr>\n",
       "      <th>324</th>\n",
       "      <td>Газпромбанк</td>\n",
       "      <td>Бизнес-аналитик</td>\n",
       "      <td>Москва</td>\n",
       "      <td>between1And3</td>\n",
       "    </tr>\n",
       "    <tr>\n",
       "      <th>584</th>\n",
       "      <td>Газпромбанк</td>\n",
       "      <td>Бизнес-аналитик</td>\n",
       "      <td>Москва</td>\n",
       "      <td>between3And6</td>\n",
       "    </tr>\n",
       "    <tr>\n",
       "      <th>73</th>\n",
       "      <td>Займ-Экспресс</td>\n",
       "      <td>Портфельный аналитик</td>\n",
       "      <td>Москва</td>\n",
       "      <td>between1And3</td>\n",
       "    </tr>\n",
       "    <tr>\n",
       "      <th>74</th>\n",
       "      <td>Займ-Экспресс</td>\n",
       "      <td>Портфельный аналитик</td>\n",
       "      <td>Москва</td>\n",
       "      <td>between1And3</td>\n",
       "    </tr>\n",
       "  </tbody>\n",
       "</table>\n",
       "</div>"
      ],
      "text/plain": [
       "     employer_name                  name    city    experience\n",
       "70   Тинькофф       Аналитик данных       Москва  between1And3\n",
       "286  Тинькофф       Аналитик данных       Москва  between1And3\n",
       "324  Газпромбанк    Бизнес-аналитик       Москва  between1And3\n",
       "584  Газпромбанк    Бизнес-аналитик       Москва  between3And6\n",
       "73   Займ-Экспресс  Портфельный аналитик  Москва  between1And3\n",
       "74   Займ-Экспресс  Портфельный аналитик  Москва  between1And3"
      ]
     },
     "execution_count": 19,
     "metadata": {},
     "output_type": "execute_result"
    }
   ],
   "source": [
    "vacancy_df[vacancy_df.duplicated (['employer_name', 'name', 'city'], keep = False)][\n",
    "    ['employer_name', 'name', 'city', 'experience']].sort_values(by=['name'])"
   ]
  },
  {
   "cell_type": "code",
   "execution_count": 20,
   "metadata": {},
   "outputs": [
    {
     "data": {
      "text/html": [
       "<div>\n",
       "<style scoped>\n",
       "    .dataframe tbody tr th:only-of-type {\n",
       "        vertical-align: middle;\n",
       "    }\n",
       "\n",
       "    .dataframe tbody tr th {\n",
       "        vertical-align: top;\n",
       "    }\n",
       "\n",
       "    .dataframe thead th {\n",
       "        text-align: right;\n",
       "    }\n",
       "</style>\n",
       "<table border=\"1\" class=\"dataframe\">\n",
       "  <thead>\n",
       "    <tr style=\"text-align: right;\">\n",
       "      <th></th>\n",
       "      <th>id</th>\n",
       "      <th>premium</th>\n",
       "      <th>name</th>\n",
       "      <th>department</th>\n",
       "      <th>has_test</th>\n",
       "      <th>response_letter_required</th>\n",
       "      <th>area</th>\n",
       "      <th>salary</th>\n",
       "      <th>type</th>\n",
       "      <th>address</th>\n",
       "      <th>response_url</th>\n",
       "      <th>sort_point_distance</th>\n",
       "      <th>published_at</th>\n",
       "      <th>created_at</th>\n",
       "      <th>archived</th>\n",
       "      <th>apply_alternate_url</th>\n",
       "      <th>insider_interview</th>\n",
       "      <th>url</th>\n",
       "      <th>adv_response_url</th>\n",
       "      <th>alternate_url</th>\n",
       "      <th>relations</th>\n",
       "      <th>employer</th>\n",
       "      <th>snippet</th>\n",
       "      <th>contacts</th>\n",
       "      <th>schedule</th>\n",
       "      <th>counters</th>\n",
       "      <th>working_days</th>\n",
       "      <th>working_time_intervals</th>\n",
       "      <th>working_time_modes</th>\n",
       "      <th>accept_temporary</th>\n",
       "      <th>experience</th>\n",
       "      <th>employer_name</th>\n",
       "      <th>department_name</th>\n",
       "      <th>salary_from</th>\n",
       "      <th>salary_to</th>\n",
       "      <th>salary_gross</th>\n",
       "      <th>salary_currency</th>\n",
       "      <th>responses</th>\n",
       "      <th>city</th>\n",
       "      <th>metro</th>\n",
       "    </tr>\n",
       "  </thead>\n",
       "  <tbody>\n",
       "    <tr>\n",
       "      <th>591</th>\n",
       "      <td>69022783</td>\n",
       "      <td>False</td>\n",
       "      <td>Аналитик</td>\n",
       "      <td>None</td>\n",
       "      <td>False</td>\n",
       "      <td>False</td>\n",
       "      <td>{'id': '1', 'name': 'Москва', 'url': 'https://api.hh.ru/areas/1'}</td>\n",
       "      <td>None</td>\n",
       "      <td>{'id': 'open', 'name': 'Открытая'}</td>\n",
       "      <td>None</td>\n",
       "      <td>None</td>\n",
       "      <td>None</td>\n",
       "      <td>2022-08-22</td>\n",
       "      <td>2022-08-22T10:44:59+0300</td>\n",
       "      <td>False</td>\n",
       "      <td>https://hh.ru/applicant/vacancy_response?vacancyId=69022783</td>\n",
       "      <td>None</td>\n",
       "      <td>https://api.hh.ru/vacancies/69022783?host=hh.ru</td>\n",
       "      <td>https://api.hh.ru/vacancies/69022783/adv_response?host=hh.ru</td>\n",
       "      <td>https://hh.ru/vacancy/69022783</td>\n",
       "      <td>[]</td>\n",
       "      <td>{'id': '1758776', 'name': 'Торговый дом Премиум Табакко', 'url': 'https://api.hh.ru/employers/1758776', 'alternate_url': 'https://hh.ru/employer/1758776', 'logo_urls': {'90': 'https://hhcdn.ru/employer-logo/3758043.png', '240': 'https://hhcdn.ru/employer-logo/3758044.png', 'original': 'https://hhcdn.ru/employer-logo-original/829290.png'}, 'vacancies_url': 'https://api.hh.ru/vacancies?employer_id=1758776', 'trusted': True}</td>\n",
       "      <td>{'requirement': 'Релевантный опыт работы от 3х лет (FMCG, алкоголь, табак). Знание &lt;highlighttext&gt;SQL&lt;/highlighttext&gt;/DAX, Power BI, MS Excel (сводные таблицы, ВПР...', 'responsibility': 'Разработать отчетность для блоков: Производство, Логистика, Sell in/Sell out. Участвовать в подключении дистрибьюторов в базе вторичных продаж. '}</td>\n",
       "      <td>None</td>\n",
       "      <td>{'id': 'fullDay', 'name': 'Полный день'}</td>\n",
       "      <td>{'responses': 10}</td>\n",
       "      <td>[]</td>\n",
       "      <td>[]</td>\n",
       "      <td>[]</td>\n",
       "      <td>False</td>\n",
       "      <td>between3And6</td>\n",
       "      <td>Торговый дом Премиум Табакко</td>\n",
       "      <td>NaN</td>\n",
       "      <td>NaN</td>\n",
       "      <td>NaN</td>\n",
       "      <td>NaN</td>\n",
       "      <td>NaN</td>\n",
       "      <td>10</td>\n",
       "      <td>Москва</td>\n",
       "      <td>NaN</td>\n",
       "    </tr>\n",
       "    <tr>\n",
       "      <th>593</th>\n",
       "      <td>67850638</td>\n",
       "      <td>False</td>\n",
       "      <td>Бизнес-аналитик</td>\n",
       "      <td>None</td>\n",
       "      <td>False</td>\n",
       "      <td>False</td>\n",
       "      <td>{'id': '1', 'name': 'Москва', 'url': 'https://api.hh.ru/areas/1'}</td>\n",
       "      <td>None</td>\n",
       "      <td>{'id': 'open', 'name': 'Открытая'}</td>\n",
       "      <td>{'city': 'Москва', 'street': 'Бауманская улица', 'building': '6', 'description': None, 'lat': 55.776234, 'lng': 37.675505, 'raw': 'Москва, Бауманская улица, 6', 'metro': {'station_name': 'Бауманская', 'line_name': 'Арбатско-Покровская', 'station_id': '3.17', 'line_id': '3', 'lat': 55.772405, 'lng': 37.67904}, 'metro_stations': [{'station_name': 'Бауманская', 'line_name': 'Арбатско-Покровская', 'station_id': '3.17', 'line_id': '3', 'lat': 55.772405, 'lng': 37.67904}, {'station_name': 'Красносельская', 'line_name': 'Сокольническая', 'station_id': '1.60', 'line_id': '1', 'lat': 55.780014, 'lng': 37.666097}], 'id': '476497'}</td>\n",
       "      <td>None</td>\n",
       "      <td>None</td>\n",
       "      <td>2022-08-23</td>\n",
       "      <td>2022-08-23T10:16:52+0300</td>\n",
       "      <td>False</td>\n",
       "      <td>https://hh.ru/applicant/vacancy_response?vacancyId=67850638</td>\n",
       "      <td>None</td>\n",
       "      <td>https://api.hh.ru/vacancies/67850638?host=hh.ru</td>\n",
       "      <td>https://api.hh.ru/vacancies/67850638/adv_response?host=hh.ru</td>\n",
       "      <td>https://hh.ru/vacancy/67850638</td>\n",
       "      <td>[]</td>\n",
       "      <td>{'id': '191061', 'name': 'Megaputer Intelligence, Компания', 'url': 'https://api.hh.ru/employers/191061', 'alternate_url': 'https://hh.ru/employer/191061', 'logo_urls': {'90': 'https://hhcdn.ru/employer-logo/4269520.png', '240': 'https://hhcdn.ru/employer-logo/4269521.png', 'original': 'https://hhcdn.ru/employer-logo-original/957248.png'}, 'vacancies_url': 'https://api.hh.ru/vacancies?employer_id=191061', 'trusted': True}</td>\n",
       "      <td>{'requirement': 'Если сможете рассказать даже тому, кто не очень хорошо разбирается в данных, как ваша &lt;highlighttext&gt;аналитика&lt;/highlighttext&gt; реально помогла бизнесу. ', 'responsibility': 'Написания запросов &lt;highlighttext&gt;SQL&lt;/highlighttext&gt; на базовом уровне. Машинного обучения или знакомы с этой технологией. Работы с регулярными выражениями. Самостоятельной работы. '}</td>\n",
       "      <td>None</td>\n",
       "      <td>{'id': 'fullDay', 'name': 'Полный день'}</td>\n",
       "      <td>{'responses': 16}</td>\n",
       "      <td>[]</td>\n",
       "      <td>[]</td>\n",
       "      <td>[]</td>\n",
       "      <td>False</td>\n",
       "      <td>between3And6</td>\n",
       "      <td>Megaputer Intelligence, Компания</td>\n",
       "      <td>NaN</td>\n",
       "      <td>NaN</td>\n",
       "      <td>NaN</td>\n",
       "      <td>NaN</td>\n",
       "      <td>NaN</td>\n",
       "      <td>16</td>\n",
       "      <td>Москва</td>\n",
       "      <td>Бауманская</td>\n",
       "    </tr>\n",
       "  </tbody>\n",
       "</table>\n",
       "</div>"
      ],
      "text/plain": [
       "           id  premium             name department  has_test  \\\n",
       "591  69022783  False    Аналитик         None       False      \n",
       "593  67850638  False    Бизнес-аналитик  None       False      \n",
       "\n",
       "     response_letter_required  \\\n",
       "591  False                      \n",
       "593  False                      \n",
       "\n",
       "                                                                  area salary  \\\n",
       "591  {'id': '1', 'name': 'Москва', 'url': 'https://api.hh.ru/areas/1'}  None    \n",
       "593  {'id': '1', 'name': 'Москва', 'url': 'https://api.hh.ru/areas/1'}  None    \n",
       "\n",
       "                                   type  \\\n",
       "591  {'id': 'open', 'name': 'Открытая'}   \n",
       "593  {'id': 'open', 'name': 'Открытая'}   \n",
       "\n",
       "                                                                                                                                                                                                                                                                                                                                                                                                                                                                                                                                                                                                                                                  address  \\\n",
       "591  None                                                                                                                                                                                                                                                                                                                                                                                                                                                                                                                                                                                                                                                   \n",
       "593  {'city': 'Москва', 'street': 'Бауманская улица', 'building': '6', 'description': None, 'lat': 55.776234, 'lng': 37.675505, 'raw': 'Москва, Бауманская улица, 6', 'metro': {'station_name': 'Бауманская', 'line_name': 'Арбатско-Покровская', 'station_id': '3.17', 'line_id': '3', 'lat': 55.772405, 'lng': 37.67904}, 'metro_stations': [{'station_name': 'Бауманская', 'line_name': 'Арбатско-Покровская', 'station_id': '3.17', 'line_id': '3', 'lat': 55.772405, 'lng': 37.67904}, {'station_name': 'Красносельская', 'line_name': 'Сокольническая', 'station_id': '1.60', 'line_id': '1', 'lat': 55.780014, 'lng': 37.666097}], 'id': '476497'}   \n",
       "\n",
       "    response_url sort_point_distance published_at                created_at  \\\n",
       "591  None         None               2022-08-22    2022-08-22T10:44:59+0300   \n",
       "593  None         None               2022-08-23    2022-08-23T10:16:52+0300   \n",
       "\n",
       "     archived                                          apply_alternate_url  \\\n",
       "591  False     https://hh.ru/applicant/vacancy_response?vacancyId=69022783   \n",
       "593  False     https://hh.ru/applicant/vacancy_response?vacancyId=67850638   \n",
       "\n",
       "    insider_interview                                              url  \\\n",
       "591  None              https://api.hh.ru/vacancies/69022783?host=hh.ru   \n",
       "593  None              https://api.hh.ru/vacancies/67850638?host=hh.ru   \n",
       "\n",
       "                                                 adv_response_url  \\\n",
       "591  https://api.hh.ru/vacancies/69022783/adv_response?host=hh.ru   \n",
       "593  https://api.hh.ru/vacancies/67850638/adv_response?host=hh.ru   \n",
       "\n",
       "                      alternate_url relations  \\\n",
       "591  https://hh.ru/vacancy/69022783  []         \n",
       "593  https://hh.ru/vacancy/67850638  []         \n",
       "\n",
       "                                                                                                                                                                                                                                                                                                                                                                                                                                      employer  \\\n",
       "591  {'id': '1758776', 'name': 'Торговый дом Премиум Табакко', 'url': 'https://api.hh.ru/employers/1758776', 'alternate_url': 'https://hh.ru/employer/1758776', 'logo_urls': {'90': 'https://hhcdn.ru/employer-logo/3758043.png', '240': 'https://hhcdn.ru/employer-logo/3758044.png', 'original': 'https://hhcdn.ru/employer-logo-original/829290.png'}, 'vacancies_url': 'https://api.hh.ru/vacancies?employer_id=1758776', 'trusted': True}   \n",
       "593  {'id': '191061', 'name': 'Megaputer Intelligence, Компания', 'url': 'https://api.hh.ru/employers/191061', 'alternate_url': 'https://hh.ru/employer/191061', 'logo_urls': {'90': 'https://hhcdn.ru/employer-logo/4269520.png', '240': 'https://hhcdn.ru/employer-logo/4269521.png', 'original': 'https://hhcdn.ru/employer-logo-original/957248.png'}, 'vacancies_url': 'https://api.hh.ru/vacancies?employer_id=191061', 'trusted': True}   \n",
       "\n",
       "                                                                                                                                                                                                                                                                                                                                                                                     snippet  \\\n",
       "591  {'requirement': 'Релевантный опыт работы от 3х лет (FMCG, алкоголь, табак). Знание <highlighttext>SQL</highlighttext>/DAX, Power BI, MS Excel (сводные таблицы, ВПР...', 'responsibility': 'Разработать отчетность для блоков: Производство, Логистика, Sell in/Sell out. Участвовать в подключении дистрибьюторов в базе вторичных продаж. '}                                            \n",
       "593  {'requirement': 'Если сможете рассказать даже тому, кто не очень хорошо разбирается в данных, как ваша <highlighttext>аналитика</highlighttext> реально помогла бизнесу. ', 'responsibility': 'Написания запросов <highlighttext>SQL</highlighttext> на базовом уровне. Машинного обучения или знакомы с этой технологией. Работы с регулярными выражениями. Самостоятельной работы. '}   \n",
       "\n",
       "    contacts                                  schedule           counters  \\\n",
       "591  None     {'id': 'fullDay', 'name': 'Полный день'}  {'responses': 10}   \n",
       "593  None     {'id': 'fullDay', 'name': 'Полный день'}  {'responses': 16}   \n",
       "\n",
       "    working_days working_time_intervals working_time_modes  accept_temporary  \\\n",
       "591  []           []                     []                 False              \n",
       "593  []           []                     []                 False              \n",
       "\n",
       "       experience                     employer_name department_name  \\\n",
       "591  between3And6  Торговый дом Премиум Табакко      NaN              \n",
       "593  between3And6  Megaputer Intelligence, Компания  NaN              \n",
       "\n",
       "     salary_from  salary_to salary_gross salary_currency  responses    city  \\\n",
       "591 NaN          NaN         NaN          NaN             10         Москва   \n",
       "593 NaN          NaN         NaN          NaN             16         Москва   \n",
       "\n",
       "          metro  \n",
       "591  NaN         \n",
       "593  Бауманская  "
      ]
     },
     "execution_count": 20,
     "metadata": {},
     "output_type": "execute_result"
    }
   ],
   "source": [
    "vacancy_df.loc[[591,593]]"
   ]
  },
  {
   "cell_type": "markdown",
   "metadata": {},
   "source": [
    "### Посмотрим компании, предлагающие вакансии, а также города"
   ]
  },
  {
   "cell_type": "code",
   "execution_count": 22,
   "metadata": {},
   "outputs": [
    {
     "data": {
      "image/png": "[encoded data removed]",
      "text/plain": [
       "<Figure size 720x504 with 1 Axes>"
      ]
     },
     "metadata": {
      "needs_background": "light"
     },
     "output_type": "display_data"
    }
   ],
   "source": [
    "vacancy_df['employer_name'].value_counts().head(10).plot(kind='bar',figsize=(10,7));"
   ]
  },
  {
   "cell_type": "code",
   "execution_count": 25,
   "metadata": {},
   "outputs": [
    {
     "data": {
      "image/png": "[encoded data removed]",
      "text/plain": [
       "<Figure size 720x504 with 1 Axes>"
      ]
     },
     "metadata": {
      "needs_background": "light"
     },
     "output_type": "display_data"
    }
   ],
   "source": [
    "vacancy_df['department_name'].value_counts().head(20).plot(kind='bar', figsize=(10,7));"
   ]
  },
  {
   "cell_type": "code",
   "execution_count": 27,
   "metadata": {},
   "outputs": [
    {
     "data": {
      "image/png": "[encoded data removed]",
      "text/plain": [
       "<Figure size 720x504 with 1 Axes>"
      ]
     },
     "metadata": {
      "needs_background": "light"
     },
     "output_type": "display_data"
    }
   ],
   "source": [
    "vacancy_df['city'].value_counts().head(10).plot(kind='bar', figsize=(10,7));"
   ]
  },
  {
   "cell_type": "markdown",
   "metadata": {},
   "source": [
    "### Что с зарплатой?"
   ]
  },
  {
   "cell_type": "code",
   "execution_count": 28,
   "metadata": {},
   "outputs": [
    {
     "data": {
      "text/plain": [
       "True     0.817121\n",
       "False    0.182879\n",
       "Name: salary_from, dtype: float64"
      ]
     },
     "execution_count": 28,
     "metadata": {},
     "output_type": "execute_result"
    }
   ],
   "source": [
    "vacancy_df['salary_from'].isna().value_counts(normalize=True)"
   ]
  },
  {
   "cell_type": "code",
   "execution_count": 29,
   "metadata": {},
   "outputs": [
    {
     "data": {
      "text/plain": [
       "True     0.86511\n",
       "False    0.13489\n",
       "Name: salary_to, dtype: float64"
      ]
     },
     "execution_count": 29,
     "metadata": {},
     "output_type": "execute_result"
    }
   ],
   "source": [
    "vacancy_df['salary_to'].isna().value_counts(normalize=True)"
   ]
  },
  {
   "cell_type": "code",
   "execution_count": 30,
   "metadata": {},
   "outputs": [
    {
     "data": {
      "text/plain": [
       "RUR    0.946746\n",
       "USD    0.029586\n",
       "KZT    0.011834\n",
       "EUR    0.011834\n",
       "Name: salary_currency, dtype: float64"
      ]
     },
     "execution_count": 30,
     "metadata": {},
     "output_type": "execute_result"
    }
   ],
   "source": [
    "vacancy_df['salary_currency'].value_counts(normalize=True)"
   ]
  },
  {
   "cell_type": "code",
   "execution_count": 31,
   "metadata": {},
   "outputs": [],
   "source": [
    "salaries = vacancy_df.query(\"salary_currency == 'RUR' and experience in ['noExperience', 'between1And3']\").groupby(\n",
    "    ['employer_name', 'department_name']).mean().reset_index()"
   ]
  },
  {
   "cell_type": "code",
   "execution_count": 32,
   "metadata": {},
   "outputs": [
    {
     "data": {
      "text/html": [
       "<div>\n",
       "<style scoped>\n",
       "    .dataframe tbody tr th:only-of-type {\n",
       "        vertical-align: middle;\n",
       "    }\n",
       "\n",
       "    .dataframe tbody tr th {\n",
       "        vertical-align: top;\n",
       "    }\n",
       "\n",
       "    .dataframe thead th {\n",
       "        text-align: right;\n",
       "    }\n",
       "</style>\n",
       "<table border=\"1\" class=\"dataframe\">\n",
       "  <thead>\n",
       "    <tr style=\"text-align: right;\">\n",
       "      <th></th>\n",
       "      <th>employer_name</th>\n",
       "      <th>department_name</th>\n",
       "      <th>premium</th>\n",
       "      <th>has_test</th>\n",
       "      <th>response_letter_required</th>\n",
       "      <th>archived</th>\n",
       "      <th>accept_temporary</th>\n",
       "      <th>salary_from</th>\n",
       "      <th>salary_to</th>\n",
       "      <th>responses</th>\n",
       "    </tr>\n",
       "  </thead>\n",
       "  <tbody>\n",
       "    <tr>\n",
       "      <th>0</th>\n",
       "      <td>МегаФон</td>\n",
       "      <td>МегаФон, Офис</td>\n",
       "      <td>0.0</td>\n",
       "      <td>0.0</td>\n",
       "      <td>0.0</td>\n",
       "      <td>0.0</td>\n",
       "      <td>0.0</td>\n",
       "      <td>NaN</td>\n",
       "      <td>60000.0</td>\n",
       "      <td>9.0</td>\n",
       "    </tr>\n",
       "    <tr>\n",
       "      <th>1</th>\n",
       "      <td>СБЕР</td>\n",
       "      <td>Сбер для экспертов</td>\n",
       "      <td>0.0</td>\n",
       "      <td>0.0</td>\n",
       "      <td>0.0</td>\n",
       "      <td>0.0</td>\n",
       "      <td>0.0</td>\n",
       "      <td>NaN</td>\n",
       "      <td>250000.0</td>\n",
       "      <td>7.0</td>\n",
       "    </tr>\n",
       "    <tr>\n",
       "      <th>2</th>\n",
       "      <td>СБЕР</td>\n",
       "      <td>Сбер. IT</td>\n",
       "      <td>0.0</td>\n",
       "      <td>0.0</td>\n",
       "      <td>0.0</td>\n",
       "      <td>0.0</td>\n",
       "      <td>0.0</td>\n",
       "      <td>100000.0</td>\n",
       "      <td>150000.0</td>\n",
       "      <td>17.0</td>\n",
       "    </tr>\n",
       "    <tr>\n",
       "      <th>3</th>\n",
       "      <td>билайн</td>\n",
       "      <td>билайн: B2C</td>\n",
       "      <td>0.0</td>\n",
       "      <td>0.0</td>\n",
       "      <td>0.0</td>\n",
       "      <td>0.0</td>\n",
       "      <td>0.0</td>\n",
       "      <td>45000.0</td>\n",
       "      <td>NaN</td>\n",
       "      <td>249.0</td>\n",
       "    </tr>\n",
       "  </tbody>\n",
       "</table>\n",
       "</div>"
      ],
      "text/plain": [
       "  employer_name     department_name  premium  has_test  \\\n",
       "0  МегаФон       МегаФон, Офис       0.0      0.0        \n",
       "1  СБЕР          Сбер для экспертов  0.0      0.0        \n",
       "2  СБЕР          Сбер. IT            0.0      0.0        \n",
       "3  билайн        билайн: B2C         0.0      0.0        \n",
       "\n",
       "   response_letter_required  archived  accept_temporary  salary_from  \\\n",
       "0  0.0                       0.0       0.0              NaN            \n",
       "1  0.0                       0.0       0.0              NaN            \n",
       "2  0.0                       0.0       0.0               100000.0      \n",
       "3  0.0                       0.0       0.0               45000.0       \n",
       "\n",
       "   salary_to  responses  \n",
       "0  60000.0    9.0        \n",
       "1  250000.0   7.0        \n",
       "2  150000.0   17.0       \n",
       "3 NaN         249.0      "
      ]
     },
     "execution_count": 32,
     "metadata": {},
     "output_type": "execute_result"
    }
   ],
   "source": [
    "salaries"
   ]
  },
  {
   "cell_type": "markdown",
   "metadata": {},
   "source": [
    "Визуализируем с помощью seaborn"
   ]
  },
  {
   "cell_type": "code",
   "execution_count": 33,
   "metadata": {},
   "outputs": [
    {
     "data": {
      "image/png": "[encoded data removed]",
      "text/plain": [
       "<Figure size 720x504 with 1 Axes>"
      ]
     },
     "metadata": {},
     "output_type": "display_data"
    }
   ],
   "source": [
    "sns.set(style='whitegrid')\n",
    "fig, ax = plt.subplots(sharex=True, sharey=True, figsize=(10,7))                \n",
    "title = 'График зарплат (от)'\n",
    "fig.suptitle(title)\n",
    "plt.xticks(rotation=90)  \n",
    "sns.barplot(data=salaries.sort_values(by='salary_from', ascending=False), x='employer_name', y='salary_from', color='lightblue', ax=ax);"
   ]
  },
  {
   "cell_type": "markdown",
   "metadata": {},
   "source": [
    "Удалим пропуски в 'employer_name', 'salary_from' и сделаем небольшой срез для одной компании. Можем привести к нижнему регистру и поискать по имени"
   ]
  },
  {
   "cell_type": "code",
   "execution_count": 34,
   "metadata": {
    "scrolled": true
   },
   "outputs": [
    {
     "name": "stderr",
     "output_type": "stream",
     "text": [
      "/var/folders/0d/8yvtj3z95_n7sdykg4c63njc1n3vg_/T/ipykernel_32026/3496425526.py:1: UserWarning: Boolean Series key will be reindexed to match DataFrame index.\n",
      "  vacancy_df.dropna(subset=['employer_name', 'salary_from'])[vacancy_df['employer_name'].str.lower().str.contains('мтс')]\n"
     ]
    },
    {
     "data": {
      "text/html": [
       "<div>\n",
       "<style scoped>\n",
       "    .dataframe tbody tr th:only-of-type {\n",
       "        vertical-align: middle;\n",
       "    }\n",
       "\n",
       "    .dataframe tbody tr th {\n",
       "        vertical-align: top;\n",
       "    }\n",
       "\n",
       "    .dataframe thead th {\n",
       "        text-align: right;\n",
       "    }\n",
       "</style>\n",
       "<table border=\"1\" class=\"dataframe\">\n",
       "  <thead>\n",
       "    <tr style=\"text-align: right;\">\n",
       "      <th></th>\n",
       "      <th>id</th>\n",
       "      <th>premium</th>\n",
       "      <th>name</th>\n",
       "      <th>department</th>\n",
       "      <th>has_test</th>\n",
       "      <th>response_letter_required</th>\n",
       "      <th>area</th>\n",
       "      <th>salary</th>\n",
       "      <th>type</th>\n",
       "      <th>address</th>\n",
       "      <th>response_url</th>\n",
       "      <th>sort_point_distance</th>\n",
       "      <th>published_at</th>\n",
       "      <th>created_at</th>\n",
       "      <th>archived</th>\n",
       "      <th>apply_alternate_url</th>\n",
       "      <th>insider_interview</th>\n",
       "      <th>url</th>\n",
       "      <th>adv_response_url</th>\n",
       "      <th>alternate_url</th>\n",
       "      <th>relations</th>\n",
       "      <th>employer</th>\n",
       "      <th>snippet</th>\n",
       "      <th>contacts</th>\n",
       "      <th>schedule</th>\n",
       "      <th>counters</th>\n",
       "      <th>working_days</th>\n",
       "      <th>working_time_intervals</th>\n",
       "      <th>working_time_modes</th>\n",
       "      <th>accept_temporary</th>\n",
       "      <th>experience</th>\n",
       "      <th>employer_name</th>\n",
       "      <th>department_name</th>\n",
       "      <th>salary_from</th>\n",
       "      <th>salary_to</th>\n",
       "      <th>salary_gross</th>\n",
       "      <th>salary_currency</th>\n",
       "      <th>responses</th>\n",
       "      <th>city</th>\n",
       "      <th>metro</th>\n",
       "    </tr>\n",
       "  </thead>\n",
       "  <tbody>\n",
       "  </tbody>\n",
       "</table>\n",
       "</div>"
      ],
      "text/plain": [
       "Empty DataFrame\n",
       "Columns: [id, premium, name, department, has_test, response_letter_required, area, salary, type, address, response_url, sort_point_distance, published_at, created_at, archived, apply_alternate_url, insider_interview, url, adv_response_url, alternate_url, relations, employer, snippet, contacts, schedule, counters, working_days, working_time_intervals, working_time_modes, accept_temporary, experience, employer_name, department_name, salary_from, salary_to, salary_gross, salary_currency, responses, city, metro]\n",
       "Index: []"
      ]
     },
     "execution_count": 34,
     "metadata": {},
     "output_type": "execute_result"
    }
   ],
   "source": [
    "vacancy_df.dropna(subset=['employer_name', 'salary_from'])[vacancy_df['employer_name'].str.lower().str.contains('мтс')]"
   ]
  },
  {
   "cell_type": "code",
   "execution_count": 35,
   "metadata": {},
   "outputs": [
    {
     "data": {
      "image/png": "[encoded data removed]",
      "text/plain": [
       "<Figure size 720x504 with 1 Axes>"
      ]
     },
     "metadata": {},
     "output_type": "display_data"
    }
   ],
   "source": [
    "sns.set(style='whitegrid')\n",
    "fig, ax = plt.subplots(sharex=True, sharey=True, figsize=(10,7))                \n",
    "title = 'График зарплат (от)'\n",
    "fig.suptitle(title)\n",
    "plt.xticks(rotation=90)  \n",
    "sns.barplot(data=salaries.sort_values(by='salary_from', ascending=False), x='department_name', y='salary_from', color='lightblue', ax=ax);"
   ]
  },
  {
   "cell_type": "markdown",
   "metadata": {},
   "source": [
    "### Давайте поищем вакансии"
   ]
  },
  {
   "cell_type": "markdown",
   "metadata": {},
   "source": [
    "Сделаем срез по городу **Москва**"
   ]
  },
  {
   "cell_type": "code",
   "execution_count": 36,
   "metadata": {
    "scrolled": true
   },
   "outputs": [
    {
     "name": "stdout",
     "output_type": "stream",
     "text": [
      "<class 'pandas.core.frame.DataFrame'>\n",
      "RangeIndex: 771 entries, 0 to 770\n",
      "Data columns (total 40 columns):\n",
      " #   Column                    Non-Null Count  Dtype         \n",
      "---  ------                    --------------  -----         \n",
      " 0   id                        771 non-null    object        \n",
      " 1   premium                   771 non-null    bool          \n",
      " 2   name                      771 non-null    object        \n",
      " 3   department                98 non-null     object        \n",
      " 4   has_test                  771 non-null    bool          \n",
      " 5   response_letter_required  771 non-null    bool          \n",
      " 6   area                      771 non-null    object        \n",
      " 7   salary                    169 non-null    object        \n",
      " 8   type                      771 non-null    object        \n",
      " 9   address                   446 non-null    object        \n",
      " 10  response_url              0 non-null      object        \n",
      " 11  sort_point_distance       0 non-null      object        \n",
      " 12  published_at              771 non-null    datetime64[ns]\n",
      " 13  created_at                771 non-null    object        \n",
      " 14  archived                  771 non-null    bool          \n",
      " 15  apply_alternate_url       771 non-null    object        \n",
      " 16  insider_interview         9 non-null      object        \n",
      " 17  url                       771 non-null    object        \n",
      " 18  adv_response_url          771 non-null    object        \n",
      " 19  alternate_url             771 non-null    object        \n",
      " 20  relations                 771 non-null    object        \n",
      " 21  employer                  771 non-null    object        \n",
      " 22  snippet                   771 non-null    object        \n",
      " 23  contacts                  0 non-null      object        \n",
      " 24  schedule                  771 non-null    object        \n",
      " 25  counters                  771 non-null    object        \n",
      " 26  working_days              771 non-null    object        \n",
      " 27  working_time_intervals    771 non-null    object        \n",
      " 28  working_time_modes        771 non-null    object        \n",
      " 29  accept_temporary          771 non-null    bool          \n",
      " 30  experience                771 non-null    object        \n",
      " 31  employer_name             771 non-null    object        \n",
      " 32  department_name           98 non-null     object        \n",
      " 33  salary_from               141 non-null    float64       \n",
      " 34  salary_to                 104 non-null    float64       \n",
      " 35  salary_gross              169 non-null    object        \n",
      " 36  salary_currency           169 non-null    object        \n",
      " 37  responses                 771 non-null    int64         \n",
      " 38  city                      771 non-null    object        \n",
      " 39  metro                     258 non-null    object        \n",
      "dtypes: bool(5), datetime64[ns](1), float64(2), int64(1), object(31)\n",
      "memory usage: 214.7+ KB\n"
     ]
    }
   ],
   "source": [
    "vacancy_df.info()"
   ]
  },
  {
   "cell_type": "code",
   "execution_count": 37,
   "metadata": {},
   "outputs": [],
   "source": [
    "city_vacs = vacancy_df[vacancy_df['city'] == \"Москва\"]"
   ]
  },
  {
   "cell_type": "code",
   "execution_count": 38,
   "metadata": {},
   "outputs": [
    {
     "name": "stdout",
     "output_type": "stream",
     "text": [
      "<class 'pandas.core.frame.DataFrame'>\n",
      "Int64Index: 483 entries, 0 to 770\n",
      "Data columns (total 40 columns):\n",
      " #   Column                    Non-Null Count  Dtype         \n",
      "---  ------                    --------------  -----         \n",
      " 0   id                        483 non-null    object        \n",
      " 1   premium                   483 non-null    bool          \n",
      " 2   name                      483 non-null    object        \n",
      " 3   department                70 non-null     object        \n",
      " 4   has_test                  483 non-null    bool          \n",
      " 5   response_letter_required  483 non-null    bool          \n",
      " 6   area                      483 non-null    object        \n",
      " 7   salary                    87 non-null     object        \n",
      " 8   type                      483 non-null    object        \n",
      " 9   address                   296 non-null    object        \n",
      " 10  response_url              0 non-null      object        \n",
      " 11  sort_point_distance       0 non-null      object        \n",
      " 12  published_at              483 non-null    datetime64[ns]\n",
      " 13  created_at                483 non-null    object        \n",
      " 14  archived                  483 non-null    bool          \n",
      " 15  apply_alternate_url       483 non-null    object        \n",
      " 16  insider_interview         4 non-null      object        \n",
      " 17  url                       483 non-null    object        \n",
      " 18  adv_response_url          483 non-null    object        \n",
      " 19  alternate_url             483 non-null    object        \n",
      " 20  relations                 483 non-null    object        \n",
      " 21  employer                  483 non-null    object        \n",
      " 22  snippet                   483 non-null    object        \n",
      " 23  contacts                  0 non-null      object        \n",
      " 24  schedule                  483 non-null    object        \n",
      " 25  counters                  483 non-null    object        \n",
      " 26  working_days              483 non-null    object        \n",
      " 27  working_time_intervals    483 non-null    object        \n",
      " 28  working_time_modes        483 non-null    object        \n",
      " 29  accept_temporary          483 non-null    bool          \n",
      " 30  experience                483 non-null    object        \n",
      " 31  employer_name             483 non-null    object        \n",
      " 32  department_name           70 non-null     object        \n",
      " 33  salary_from               70 non-null     float64       \n",
      " 34  salary_to                 61 non-null     float64       \n",
      " 35  salary_gross              87 non-null     object        \n",
      " 36  salary_currency           87 non-null     object        \n",
      " 37  responses                 483 non-null    int64         \n",
      " 38  city                      483 non-null    object        \n",
      " 39  metro                     203 non-null    object        \n",
      "dtypes: bool(5), datetime64[ns](1), float64(2), int64(1), object(31)\n",
      "memory usage: 138.2+ KB\n"
     ]
    }
   ],
   "source": [
    "city_vacs.info()"
   ]
  },
  {
   "cell_type": "code",
   "execution_count": 39,
   "metadata": {},
   "outputs": [
    {
     "data": {
      "text/html": [
       "<div>\n",
       "<style scoped>\n",
       "    .dataframe tbody tr th:only-of-type {\n",
       "        vertical-align: middle;\n",
       "    }\n",
       "\n",
       "    .dataframe tbody tr th {\n",
       "        vertical-align: top;\n",
       "    }\n",
       "\n",
       "    .dataframe thead th {\n",
       "        text-align: right;\n",
       "    }\n",
       "</style>\n",
       "<table border=\"1\" class=\"dataframe\">\n",
       "  <thead>\n",
       "    <tr style=\"text-align: right;\">\n",
       "      <th></th>\n",
       "      <th>id</th>\n",
       "      <th>premium</th>\n",
       "      <th>name</th>\n",
       "      <th>department</th>\n",
       "      <th>has_test</th>\n",
       "      <th>response_letter_required</th>\n",
       "      <th>area</th>\n",
       "      <th>salary</th>\n",
       "      <th>type</th>\n",
       "      <th>address</th>\n",
       "      <th>response_url</th>\n",
       "      <th>sort_point_distance</th>\n",
       "      <th>published_at</th>\n",
       "      <th>created_at</th>\n",
       "      <th>archived</th>\n",
       "      <th>apply_alternate_url</th>\n",
       "      <th>insider_interview</th>\n",
       "      <th>url</th>\n",
       "      <th>adv_response_url</th>\n",
       "      <th>alternate_url</th>\n",
       "      <th>relations</th>\n",
       "      <th>employer</th>\n",
       "      <th>snippet</th>\n",
       "      <th>contacts</th>\n",
       "      <th>schedule</th>\n",
       "      <th>counters</th>\n",
       "      <th>working_days</th>\n",
       "      <th>working_time_intervals</th>\n",
       "      <th>working_time_modes</th>\n",
       "      <th>accept_temporary</th>\n",
       "      <th>experience</th>\n",
       "      <th>employer_name</th>\n",
       "      <th>department_name</th>\n",
       "      <th>salary_from</th>\n",
       "      <th>salary_to</th>\n",
       "      <th>salary_gross</th>\n",
       "      <th>salary_currency</th>\n",
       "      <th>responses</th>\n",
       "      <th>city</th>\n",
       "      <th>metro</th>\n",
       "    </tr>\n",
       "  </thead>\n",
       "  <tbody>\n",
       "    <tr>\n",
       "      <th>0</th>\n",
       "      <td>39904397</td>\n",
       "      <td>False</td>\n",
       "      <td>Продуктовый аналитик</td>\n",
       "      <td>None</td>\n",
       "      <td>False</td>\n",
       "      <td>False</td>\n",
       "      <td>{'id': '1', 'name': 'Москва', 'url': 'https://api.hh.ru/areas/1'}</td>\n",
       "      <td>None</td>\n",
       "      <td>{'id': 'open', 'name': 'Открытая'}</td>\n",
       "      <td>{'city': 'Москва', 'street': 'Головинское шоссе', 'building': '5', 'description': None, 'lat': 55.84024, 'lng': 37.492024, 'raw': 'Москва, Головинское шоссе, 5', 'metro': {'station_name': 'Водный стадион', 'line_name': 'Замоскворецкая', 'station_id': '2.29', 'line_id': '2', 'lat': 55.838978, 'lng': 37.487515}, 'metro_stations': [{'station_name': 'Водный стадион', 'line_name': 'Замоскворецкая', 'station_id': '2.29', 'line_id': '2', 'lat': 55.838978, 'lng': 37.487515}], 'id': '643441'}</td>\n",
       "      <td>None</td>\n",
       "      <td>None</td>\n",
       "      <td>2022-08-24</td>\n",
       "      <td>2022-08-24T14:52:54+0300</td>\n",
       "      <td>False</td>\n",
       "      <td>https://hh.ru/applicant/vacancy_response?vacancyId=39904397</td>\n",
       "      <td>None</td>\n",
       "      <td>https://api.hh.ru/vacancies/39904397?host=hh.ru</td>\n",
       "      <td>https://api.hh.ru/vacancies/39904397/adv_response?host=hh.ru</td>\n",
       "      <td>https://hh.ru/vacancy/39904397</td>\n",
       "      <td>[]</td>\n",
       "      <td>{'id': '78638', 'name': 'Тинькофф', 'url': 'https://api.hh.ru/employers/78638', 'alternate_url': 'https://hh.ru/employer/78638', 'logo_urls': {'240': 'https://hhcdn.ru/employer-logo/3452962.png', '90': 'https://hhcdn.ru/employer-logo/3452961.png', 'original': 'https://hhcdn.ru/employer-logo-original/753000.png'}, 'vacancies_url': 'https://api.hh.ru/vacancies?employer_id=78638', 'trusted': True}</td>\n",
       "      <td>{'requirement': 'Умение аргументированно отстаивать свою точку зрения. Опыт работы хотя бы с одним из языков программирования (базовые алгоритмы) или знание &lt;highlighttext&gt;SQL&lt;/highlighttext&gt;.', 'responsibility': '...гипотез по развитию проектов. Проектировать модель данных и ключевую отчетность на направлении. Самостоятельно выявлять и закрывать потребность команды в &lt;highlighttext&gt;аналитике&lt;/highlighttext&gt;.'}</td>\n",
       "      <td>None</td>\n",
       "      <td>{'id': 'fullDay', 'name': 'Полный день'}</td>\n",
       "      <td>{'responses': 4}</td>\n",
       "      <td>[]</td>\n",
       "      <td>[]</td>\n",
       "      <td>[]</td>\n",
       "      <td>False</td>\n",
       "      <td>noExperience</td>\n",
       "      <td>Тинькофф</td>\n",
       "      <td>NaN</td>\n",
       "      <td>NaN</td>\n",
       "      <td>NaN</td>\n",
       "      <td>NaN</td>\n",
       "      <td>NaN</td>\n",
       "      <td>4</td>\n",
       "      <td>Москва</td>\n",
       "      <td>Водный стадион</td>\n",
       "    </tr>\n",
       "    <tr>\n",
       "      <th>1</th>\n",
       "      <td>69135650</td>\n",
       "      <td>False</td>\n",
       "      <td>Контролер-аналитик</td>\n",
       "      <td>None</td>\n",
       "      <td>False</td>\n",
       "      <td>False</td>\n",
       "      <td>{'id': '1', 'name': 'Москва', 'url': 'https://api.hh.ru/areas/1'}</td>\n",
       "      <td>None</td>\n",
       "      <td>{'id': 'open', 'name': 'Открытая'}</td>\n",
       "      <td>None</td>\n",
       "      <td>None</td>\n",
       "      <td>None</td>\n",
       "      <td>2022-08-24</td>\n",
       "      <td>2022-08-24T14:38:42+0300</td>\n",
       "      <td>False</td>\n",
       "      <td>https://hh.ru/applicant/vacancy_response?vacancyId=69135650</td>\n",
       "      <td>None</td>\n",
       "      <td>https://api.hh.ru/vacancies/69135650?host=hh.ru</td>\n",
       "      <td>https://api.hh.ru/vacancies/69135650/adv_response?host=hh.ru</td>\n",
       "      <td>https://hh.ru/vacancy/69135650</td>\n",
       "      <td>[]</td>\n",
       "      <td>{'id': '73886', 'name': 'LPP', 'url': 'https://api.hh.ru/employers/73886', 'alternate_url': 'https://hh.ru/employer/73886', 'logo_urls': None, 'vacancies_url': 'https://api.hh.ru/vacancies?employer_id=73886', 'trusted': True}</td>\n",
       "      <td>{'requirement': 'Знание основ Power BI (Power Query, Power Pivot, язык DAX). Базовые знания &lt;highlighttext&gt;SQL&lt;/highlighttext&gt;. Понимание принципов работы с базами данных, OLAP...', 'responsibility': 'Предоставление данных по запросу от различных департаментов. Доработка существующих отчетов, автоматизация средствами MS Excel (VBA), Power BI (DAX) и &lt;highlighttext&gt;SQL&lt;/highlighttext&gt;...'}</td>\n",
       "      <td>None</td>\n",
       "      <td>{'id': 'fullDay', 'name': 'Полный день'}</td>\n",
       "      <td>{'responses': 1}</td>\n",
       "      <td>[]</td>\n",
       "      <td>[]</td>\n",
       "      <td>[]</td>\n",
       "      <td>False</td>\n",
       "      <td>noExperience</td>\n",
       "      <td>LPP</td>\n",
       "      <td>NaN</td>\n",
       "      <td>NaN</td>\n",
       "      <td>NaN</td>\n",
       "      <td>NaN</td>\n",
       "      <td>NaN</td>\n",
       "      <td>1</td>\n",
       "      <td>Москва</td>\n",
       "      <td>NaN</td>\n",
       "    </tr>\n",
       "    <tr>\n",
       "      <th>2</th>\n",
       "      <td>36705054</td>\n",
       "      <td>False</td>\n",
       "      <td>Бизнес-аналитик</td>\n",
       "      <td>None</td>\n",
       "      <td>False</td>\n",
       "      <td>False</td>\n",
       "      <td>{'id': '1', 'name': 'Москва', 'url': 'https://api.hh.ru/areas/1'}</td>\n",
       "      <td>None</td>\n",
       "      <td>{'id': 'open', 'name': 'Открытая'}</td>\n",
       "      <td>{'city': 'Москва', 'street': 'Замоскворецкая линия', 'building': 'метро Водный Стадион', 'description': None, 'lat': 55.840209, 'lng': 37.486616, 'raw': 'Москва, Замоскворецкая линия, метро Водный Стадион', 'metro': {'station_name': 'Водный стадион', 'line_name': 'Замоскворецкая', 'station_id': '2.29', 'line_id': '2', 'lat': 55.838978, 'lng': 37.487515}, 'metro_stations': [{'station_name': 'Водный стадион', 'line_name': 'Замоскворецкая', 'station_id': '2.29', 'line_id': '2', 'lat': 55.838978, 'lng': 37.487515}], 'id': '178897'}</td>\n",
       "      <td>None</td>\n",
       "      <td>None</td>\n",
       "      <td>2022-08-24</td>\n",
       "      <td>2022-08-24T14:53:12+0300</td>\n",
       "      <td>False</td>\n",
       "      <td>https://hh.ru/applicant/vacancy_response?vacancyId=36705054</td>\n",
       "      <td>None</td>\n",
       "      <td>https://api.hh.ru/vacancies/36705054?host=hh.ru</td>\n",
       "      <td>https://api.hh.ru/vacancies/36705054/adv_response?host=hh.ru</td>\n",
       "      <td>https://hh.ru/vacancy/36705054</td>\n",
       "      <td>[]</td>\n",
       "      <td>{'id': '78638', 'name': 'Тинькофф', 'url': 'https://api.hh.ru/employers/78638', 'alternate_url': 'https://hh.ru/employer/78638', 'logo_urls': {'240': 'https://hhcdn.ru/employer-logo/3452962.png', '90': 'https://hhcdn.ru/employer-logo/3452961.png', 'original': 'https://hhcdn.ru/employer-logo-original/753000.png'}, 'vacancies_url': 'https://api.hh.ru/vacancies?employer_id=78638', 'trusted': True}</td>\n",
       "      <td>{'requirement': 'МГУ (мехмат, ВМК, физфак), МФТИ, ВШЭ (ФКН, Математика, Бизнес-информатика) – предпочтительно. Знание &lt;highlighttext&gt;SQL&lt;/highlighttext&gt;, Python будет плюсом. Приветствуются знания основ машинного...', 'responsibility': 'Много и эффективно работать головой, думать, креативить, созидать, творить. Штурмовать проблемы, выдвигать идеи. Воплощать идеи в жизнь, ставить ТЗ для...'}</td>\n",
       "      <td>None</td>\n",
       "      <td>{'id': 'fullDay', 'name': 'Полный день'}</td>\n",
       "      <td>{'responses': 8}</td>\n",
       "      <td>[]</td>\n",
       "      <td>[]</td>\n",
       "      <td>[]</td>\n",
       "      <td>False</td>\n",
       "      <td>noExperience</td>\n",
       "      <td>Тинькофф</td>\n",
       "      <td>NaN</td>\n",
       "      <td>NaN</td>\n",
       "      <td>NaN</td>\n",
       "      <td>NaN</td>\n",
       "      <td>NaN</td>\n",
       "      <td>8</td>\n",
       "      <td>Москва</td>\n",
       "      <td>Водный стадион</td>\n",
       "    </tr>\n",
       "    <tr>\n",
       "      <th>3</th>\n",
       "      <td>69128258</td>\n",
       "      <td>False</td>\n",
       "      <td>Младший антифрод аналитик</td>\n",
       "      <td>None</td>\n",
       "      <td>False</td>\n",
       "      <td>False</td>\n",
       "      <td>{'id': '1', 'name': 'Москва', 'url': 'https://api.hh.ru/areas/1'}</td>\n",
       "      <td>None</td>\n",
       "      <td>{'id': 'open', 'name': 'Открытая'}</td>\n",
       "      <td>{'city': 'Москва', 'street': 'Замоскворецкая линия', 'building': 'метро Технопарк', 'description': None, 'lat': 55.694482443, 'lng': 37.663312201, 'raw': 'Москва, Замоскворецкая линия, метро Технопарк', 'metro': None, 'metro_stations': [], 'id': '7589118'}</td>\n",
       "      <td>None</td>\n",
       "      <td>None</td>\n",
       "      <td>2022-08-24</td>\n",
       "      <td>2022-08-24T12:28:15+0300</td>\n",
       "      <td>False</td>\n",
       "      <td>https://hh.ru/applicant/vacancy_response?vacancyId=69128258</td>\n",
       "      <td>None</td>\n",
       "      <td>https://api.hh.ru/vacancies/69128258?host=hh.ru</td>\n",
       "      <td>https://api.hh.ru/vacancies/69128258/adv_response?host=hh.ru</td>\n",
       "      <td>https://hh.ru/vacancy/69128258</td>\n",
       "      <td>[]</td>\n",
       "      <td>{'id': '4482374', 'name': 'Медиапоинт', 'url': 'https://api.hh.ru/employers/4482374', 'alternate_url': 'https://hh.ru/employer/4482374', 'logo_urls': {'90': 'https://hhcdn.ru/employer-logo/3310392.png', '240': 'https://hhcdn.ru/employer-logo/3310393.png', 'original': 'https://hhcdn.ru/employer-logo-original/717319.png'}, 'vacancies_url': 'https://api.hh.ru/vacancies?employer_id=4482374', 'trusted': True}</td>\n",
       "      <td>{'requirement': 'Коммуникабельность, стрессоустойчивость, пунктуальность, обучаемость. Желание учить новое и развиваться. Является преимуществом: Навыки работы с базами данных. Знание &lt;highlighttext&gt;SQL&lt;/highlighttext&gt;. ', 'responsibility': 'Обработка предупреждений правил антифрода. Идентификация клиентов. Анализ игровой активности клиентов на выявление несоответствия правилам компании.'}</td>\n",
       "      <td>None</td>\n",
       "      <td>{'id': 'shift', 'name': 'Сменный график'}</td>\n",
       "      <td>{'responses': 34}</td>\n",
       "      <td>[]</td>\n",
       "      <td>[]</td>\n",
       "      <td>[]</td>\n",
       "      <td>False</td>\n",
       "      <td>noExperience</td>\n",
       "      <td>Медиапоинт</td>\n",
       "      <td>NaN</td>\n",
       "      <td>NaN</td>\n",
       "      <td>NaN</td>\n",
       "      <td>NaN</td>\n",
       "      <td>NaN</td>\n",
       "      <td>34</td>\n",
       "      <td>Москва</td>\n",
       "      <td>NaN</td>\n",
       "    </tr>\n",
       "    <tr>\n",
       "      <th>4</th>\n",
       "      <td>68609068</td>\n",
       "      <td>False</td>\n",
       "      <td>Стажер/Аналитик 1С</td>\n",
       "      <td>None</td>\n",
       "      <td>False</td>\n",
       "      <td>False</td>\n",
       "      <td>{'id': '1', 'name': 'Москва', 'url': 'https://api.hh.ru/areas/1'}</td>\n",
       "      <td>{'from': 40000, 'to': 70000, 'currency': 'RUR', 'gross': False}</td>\n",
       "      <td>{'id': 'open', 'name': 'Открытая'}</td>\n",
       "      <td>{'city': 'Новомосковский административный округ', 'street': 'Киевское шоссе, 22-й километр', 'building': 'дв4с4кЕ', 'description': None, 'lat': 55.637017, 'lng': 37.434954, 'raw': 'Новомосковский административный округ, Киевское шоссе, 22-й километр, дв4с4кЕ', 'metro': {'station_name': 'Румянцево', 'line_name': 'Сокольническая', 'station_id': '1.513', 'line_id': '1', 'lat': 55.633, 'lng': 37.4419}, 'metro_stations': [{'station_name': 'Румянцево', 'line_name': 'Сокольническая', 'station_id': '1.513', 'line_id': '1', 'lat': 55.633, 'lng': 37.4419}], 'id': '2663913'}</td>\n",
       "      <td>None</td>\n",
       "      <td>None</td>\n",
       "      <td>2022-08-24</td>\n",
       "      <td>2022-08-24T13:32:05+0300</td>\n",
       "      <td>False</td>\n",
       "      <td>https://hh.ru/applicant/vacancy_response?vacancyId=68609068</td>\n",
       "      <td>None</td>\n",
       "      <td>https://api.hh.ru/vacancies/68609068?host=hh.ru</td>\n",
       "      <td>https://api.hh.ru/vacancies/68609068/adv_response?host=hh.ru</td>\n",
       "      <td>https://hh.ru/vacancy/68609068</td>\n",
       "      <td>[]</td>\n",
       "      <td>{'id': '2208439', 'name': 'Гензис', 'url': 'https://api.hh.ru/employers/2208439', 'alternate_url': 'https://hh.ru/employer/2208439', 'logo_urls': {'original': 'https://hhcdn.ru/employer-logo-original/699088.jpg', '90': 'https://hhcdn.ru/employer-logo/3237468.jpeg', '240': 'https://hhcdn.ru/employer-logo/3237469.jpeg'}, 'vacancies_url': 'https://api.hh.ru/vacancies?employer_id=2208439', 'trusted': True}</td>\n",
       "      <td>{'requirement': 'Высшее техническое или экономическое образование. Готовность работать по 40 часов в неделю. Желание учиться и развиваться. Этичность, терпеливость, умение спокойно...', 'responsibility': 'Получить задачу от клиента, поставить на ее основе задачу &lt;highlighttext&gt;программисту&lt;/highlighttext&gt;, проверить качество, сдать клиенту.'}</td>\n",
       "      <td>None</td>\n",
       "      <td>{'id': 'fullDay', 'name': 'Полный день'}</td>\n",
       "      <td>{'responses': 214}</td>\n",
       "      <td>[]</td>\n",
       "      <td>[]</td>\n",
       "      <td>[]</td>\n",
       "      <td>False</td>\n",
       "      <td>noExperience</td>\n",
       "      <td>Гензис</td>\n",
       "      <td>NaN</td>\n",
       "      <td>40000.0</td>\n",
       "      <td>70000.0</td>\n",
       "      <td>False</td>\n",
       "      <td>RUR</td>\n",
       "      <td>214</td>\n",
       "      <td>Москва</td>\n",
       "      <td>Румянцево</td>\n",
       "    </tr>\n",
       "    <tr>\n",
       "      <th>5</th>\n",
       "      <td>67752555</td>\n",
       "      <td>False</td>\n",
       "      <td>Аналитик BI</td>\n",
       "      <td>{'id': '1449-1449-mbs', 'name': 'Медиа Бизнес Солюшенс'}</td>\n",
       "      <td>False</td>\n",
       "      <td>False</td>\n",
       "      <td>{'id': '1', 'name': 'Москва', 'url': 'https://api.hh.ru/areas/1'}</td>\n",
       "      <td>None</td>\n",
       "      <td>{'id': 'open', 'name': 'Открытая'}</td>\n",
       "      <td>{'city': 'Москва', 'street': 'Варшавское шоссе', 'building': '9с1', 'description': None, 'lat': 55.699467, 'lng': 37.625594, 'raw': 'Москва, Варшавское шоссе, 9с1', 'metro': {'station_name': 'Тульская', 'line_name': 'Серпуховско-Тимирязевская', 'station_id': '9.142', 'line_id': '9', 'lat': 55.70961, 'lng': 37.622569}, 'metro_stations': [{'station_name': 'Тульская', 'line_name': 'Серпуховско-Тимирязевская', 'station_id': '9.142', 'line_id': '9', 'lat': 55.70961, 'lng': 37.622569}], 'id': '3859255'}</td>\n",
       "      <td>None</td>\n",
       "      <td>None</td>\n",
       "      <td>2022-08-22</td>\n",
       "      <td>2022-08-22T12:13:22+0300</td>\n",
       "      <td>False</td>\n",
       "      <td>https://hh.ru/applicant/vacancy_response?vacancyId=67752555</td>\n",
       "      <td>None</td>\n",
       "      <td>https://api.hh.ru/vacancies/67752555?host=hh.ru</td>\n",
       "      <td>https://api.hh.ru/vacancies/67752555/adv_response?host=hh.ru</td>\n",
       "      <td>https://hh.ru/vacancy/67752555</td>\n",
       "      <td>[]</td>\n",
       "      <td>{'id': '1449', 'name': 'Медиа Бизнес Солюшенс', 'url': 'https://api.hh.ru/employers/1449', 'alternate_url': 'https://hh.ru/employer/1449', 'logo_urls': {'240': 'https://hhcdn.ru/employer-logo/3409110.png', '90': 'https://hhcdn.ru/employer-logo/3409109.png', 'original': 'https://hhcdn.ru/employer-logo-original/742037.png'}, 'vacancies_url': 'https://api.hh.ru/vacancies?employer_id=1449', 'trusted': True}</td>\n",
       "      <td>{'requirement': 'Опыт полного цикла разработки дашбордов: сбор требований, дизайн, разработка, оптимизация скорости работы, помощь с внедрением в рабочие процессы заказчика. ', 'responsibility': 'Оптимизация и улучшение имеющихся процессов, связанных с разработкой BI-&lt;highlighttext&gt;аналитики&lt;/highlighttext&gt;. Поддержка и оптимизация существующей системы отчетности. Помогать бизнесу начать работу...'}</td>\n",
       "      <td>None</td>\n",
       "      <td>{'id': 'fullDay', 'name': 'Полный день'}</td>\n",
       "      <td>{'responses': 14}</td>\n",
       "      <td>[]</td>\n",
       "      <td>[]</td>\n",
       "      <td>[]</td>\n",
       "      <td>False</td>\n",
       "      <td>noExperience</td>\n",
       "      <td>Медиа Бизнес Солюшенс</td>\n",
       "      <td>Медиа Бизнес Солюшенс</td>\n",
       "      <td>NaN</td>\n",
       "      <td>NaN</td>\n",
       "      <td>NaN</td>\n",
       "      <td>NaN</td>\n",
       "      <td>14</td>\n",
       "      <td>Москва</td>\n",
       "      <td>Тульская</td>\n",
       "    </tr>\n",
       "    <tr>\n",
       "      <th>6</th>\n",
       "      <td>68675219</td>\n",
       "      <td>False</td>\n",
       "      <td>Риск-аналитик</td>\n",
       "      <td>None</td>\n",
       "      <td>False</td>\n",
       "      <td>False</td>\n",
       "      <td>{'id': '1', 'name': 'Москва', 'url': 'https://api.hh.ru/areas/1'}</td>\n",
       "      <td>{'from': None, 'to': 100000, 'currency': 'RUR', 'gross': True}</td>\n",
       "      <td>{'id': 'open', 'name': 'Открытая'}</td>\n",
       "      <td>None</td>\n",
       "      <td>None</td>\n",
       "      <td>None</td>\n",
       "      <td>2022-08-23</td>\n",
       "      <td>2022-08-23T09:31:42+0300</td>\n",
       "      <td>False</td>\n",
       "      <td>https://hh.ru/applicant/vacancy_response?vacancyId=68675219</td>\n",
       "      <td>None</td>\n",
       "      <td>https://api.hh.ru/vacancies/68675219?host=hh.ru</td>\n",
       "      <td>https://api.hh.ru/vacancies/68675219/adv_response?host=hh.ru</td>\n",
       "      <td>https://hh.ru/vacancy/68675219</td>\n",
       "      <td>[]</td>\n",
       "      <td>{'id': '3785152', 'name': 'Eqvanta', 'url': 'https://api.hh.ru/employers/3785152', 'alternate_url': 'https://hh.ru/employer/3785152', 'logo_urls': {'90': 'https://hhcdn.ru/employer-logo/2837759.png', '240': 'https://hhcdn.ru/employer-logo/2837760.png', 'original': 'https://hhcdn.ru/employer-logo-original/599126.png'}, 'vacancies_url': 'https://api.hh.ru/vacancies?employer_id=3785152', 'trusted': True}</td>\n",
       "      <td>{'requirement': 'Знания языка &lt;highlighttext&gt;SQL&lt;/highlighttext&gt;. Уверенные знания MS Excel. Аналитический склад ума. Знание основ теории вероятности и комбинаторики. Знание английского языка на...', 'responsibility': 'Анализ риск показателей по текущему портфелю международного бизнеса и соответствующему изменению риск политик с целью обеспечение планового уровня риска. '}</td>\n",
       "      <td>None</td>\n",
       "      <td>{'id': 'remote', 'name': 'Удаленная работа'}</td>\n",
       "      <td>{'responses': 575}</td>\n",
       "      <td>[]</td>\n",
       "      <td>[]</td>\n",
       "      <td>[]</td>\n",
       "      <td>False</td>\n",
       "      <td>noExperience</td>\n",
       "      <td>Eqvanta</td>\n",
       "      <td>NaN</td>\n",
       "      <td>NaN</td>\n",
       "      <td>100000.0</td>\n",
       "      <td>True</td>\n",
       "      <td>RUR</td>\n",
       "      <td>575</td>\n",
       "      <td>Москва</td>\n",
       "      <td>NaN</td>\n",
       "    </tr>\n",
       "    <tr>\n",
       "      <th>7</th>\n",
       "      <td>69106572</td>\n",
       "      <td>False</td>\n",
       "      <td>Стажер Data Аналитик</td>\n",
       "      <td>{'id': '3529-3529-it', 'name': 'Сбер. IT'}</td>\n",
       "      <td>False</td>\n",
       "      <td>False</td>\n",
       "      <td>{'id': '1', 'name': 'Москва', 'url': 'https://api.hh.ru/areas/1'}</td>\n",
       "      <td>None</td>\n",
       "      <td>{'id': 'open', 'name': 'Открытая'}</td>\n",
       "      <td>{'city': 'Москва', 'street': 'Кутузовский проспект', 'building': '32к1', 'description': None, 'lat': 55.741338, 'lng': 37.531127, 'raw': 'Москва, Кутузовский проспект, 32к1', 'metro': {'station_name': 'Кутузовская', 'line_name': 'Филевская', 'station_id': '4.73', 'line_id': '4', 'lat': 55.740544, 'lng': 37.5341}, 'metro_stations': [{'station_name': 'Кутузовская', 'line_name': 'Филевская', 'station_id': '4.73', 'line_id': '4', 'lat': 55.740544, 'lng': 37.5341}, {'station_name': 'Кутузовская', 'line_name': 'МЦК', 'station_id': '95.536', 'line_id': '95', 'lat': 55.740833, 'lng': 37.533333}], 'id': '731097'}</td>\n",
       "      <td>None</td>\n",
       "      <td>None</td>\n",
       "      <td>2022-08-23</td>\n",
       "      <td>2022-08-23T18:55:26+0300</td>\n",
       "      <td>False</td>\n",
       "      <td>https://hh.ru/applicant/vacancy_response?vacancyId=69106572</td>\n",
       "      <td>None</td>\n",
       "      <td>https://api.hh.ru/vacancies/69106572?host=hh.ru</td>\n",
       "      <td>https://api.hh.ru/vacancies/69106572/adv_response?host=hh.ru</td>\n",
       "      <td>https://hh.ru/vacancy/69106572</td>\n",
       "      <td>[]</td>\n",
       "      <td>{'id': '3529', 'name': 'СБЕР', 'url': 'https://api.hh.ru/employers/3529', 'alternate_url': 'https://hh.ru/employer/3529', 'logo_urls': {'original': 'https://hhcdn.ru/employer-logo-original/868362.JPG', '90': 'https://hhcdn.ru/employer-logo/3914323.jpeg', '240': 'https://hhcdn.ru/employer-logo/3914324.jpeg'}, 'vacancies_url': 'https://api.hh.ru/vacancies?employer_id=3529', 'trusted': True}</td>\n",
       "      <td>{'requirement': 'Высшее/незаконченное высшее образование, специализация: ИТ, математика, техническое образование. Хорошее знание &lt;highlighttext&gt;SQL&lt;/highlighttext&gt;, написание сложных, длинных запросов\\процедур. Желателен опыт работы...', 'responsibility': '...&lt;highlighttext&gt;аналитик&lt;/highlighttext&gt; в команду управления моделированием и исследованием данных. Задачи: Участие в подготовке аналитических витрин данных. Формирование отчетности на основе &lt;highlighttext&gt;sql&lt;/highlighttext&gt;...'}</td>\n",
       "      <td>None</td>\n",
       "      <td>{'id': 'fullDay', 'name': 'Полный день'}</td>\n",
       "      <td>{'responses': 227}</td>\n",
       "      <td>[]</td>\n",
       "      <td>[]</td>\n",
       "      <td>[]</td>\n",
       "      <td>False</td>\n",
       "      <td>noExperience</td>\n",
       "      <td>СБЕР</td>\n",
       "      <td>Сбер. IT</td>\n",
       "      <td>NaN</td>\n",
       "      <td>NaN</td>\n",
       "      <td>NaN</td>\n",
       "      <td>NaN</td>\n",
       "      <td>227</td>\n",
       "      <td>Москва</td>\n",
       "      <td>Кутузовская</td>\n",
       "    </tr>\n",
       "    <tr>\n",
       "      <th>10</th>\n",
       "      <td>69105717</td>\n",
       "      <td>False</td>\n",
       "      <td>Стажер в направлении Аналитика</td>\n",
       "      <td>None</td>\n",
       "      <td>False</td>\n",
       "      <td>False</td>\n",
       "      <td>{'id': '1', 'name': 'Москва', 'url': 'https://api.hh.ru/areas/1'}</td>\n",
       "      <td>{'from': None, 'to': 30000, 'currency': 'RUR', 'gross': True}</td>\n",
       "      <td>{'id': 'open', 'name': 'Открытая'}</td>\n",
       "      <td>None</td>\n",
       "      <td>None</td>\n",
       "      <td>None</td>\n",
       "      <td>2022-08-23</td>\n",
       "      <td>2022-08-23T18:37:03+0300</td>\n",
       "      <td>False</td>\n",
       "      <td>https://hh.ru/applicant/vacancy_response?vacancyId=69105717</td>\n",
       "      <td>None</td>\n",
       "      <td>https://api.hh.ru/vacancies/69105717?host=hh.ru</td>\n",
       "      <td>https://api.hh.ru/vacancies/69105717/adv_response?host=hh.ru</td>\n",
       "      <td>https://hh.ru/vacancy/69105717</td>\n",
       "      <td>[]</td>\n",
       "      <td>{'id': '4309', 'name': 'Ингосстрах', 'url': 'https://api.hh.ru/employers/4309', 'alternate_url': 'https://hh.ru/employer/4309', 'logo_urls': {'original': 'https://hhcdn.ru/employer-logo-original/689727.png', '240': 'https://hhcdn.ru/employer-logo/3200041.png', '90': 'https://hhcdn.ru/employer-logo/3200040.png'}, 'vacancies_url': 'https://api.hh.ru/vacancies?employer_id=4309', 'trusted': True}</td>\n",
       "      <td>{'requirement': 'Нет опыта? Мы всему научим! Главное твои аналитические навыки и готовность получать новые знания! ТРЕБОВАНИЯ К КАНДИДАТАМ: - Студенты в том...', 'responsibility': 'КЛИЕНТСКАЯ &lt;highlighttext&gt;АНАЛИТИКА&lt;/highlighttext&gt; – &lt;highlighttext&gt;Аналитика&lt;/highlighttext&gt; онлайн-бизнеса: разработка отчетов по клиентам и продажам, построение &lt;highlighttext&gt;SQL&lt;/highlighttext&gt; запросов к базам данных, визуализация данных, подготовка...'}</td>\n",
       "      <td>None</td>\n",
       "      <td>{'id': 'fullDay', 'name': 'Полный день'}</td>\n",
       "      <td>{'responses': 195}</td>\n",
       "      <td>[]</td>\n",
       "      <td>[]</td>\n",
       "      <td>[]</td>\n",
       "      <td>False</td>\n",
       "      <td>noExperience</td>\n",
       "      <td>Ингосстрах</td>\n",
       "      <td>NaN</td>\n",
       "      <td>NaN</td>\n",
       "      <td>30000.0</td>\n",
       "      <td>True</td>\n",
       "      <td>RUR</td>\n",
       "      <td>195</td>\n",
       "      <td>Москва</td>\n",
       "      <td>NaN</td>\n",
       "    </tr>\n",
       "    <tr>\n",
       "      <th>11</th>\n",
       "      <td>68294400</td>\n",
       "      <td>False</td>\n",
       "      <td>Младший аналитик</td>\n",
       "      <td>None</td>\n",
       "      <td>False</td>\n",
       "      <td>False</td>\n",
       "      <td>{'id': '1', 'name': 'Москва', 'url': 'https://api.hh.ru/areas/1'}</td>\n",
       "      <td>{'from': None, 'to': 69000, 'currency': 'RUR', 'gross': True}</td>\n",
       "      <td>{'id': 'open', 'name': 'Открытая'}</td>\n",
       "      <td>{'city': None, 'street': None, 'building': None, 'description': None, 'lat': None, 'lng': None, 'raw': 'Москва, Ленинградский проспект, 80г, метро Сокол', 'metro': None, 'metro_stations': [], 'id': '351533'}</td>\n",
       "      <td>None</td>\n",
       "      <td>None</td>\n",
       "      <td>2022-08-22</td>\n",
       "      <td>2022-08-22T17:29:48+0300</td>\n",
       "      <td>False</td>\n",
       "      <td>https://hh.ru/applicant/vacancy_response?vacancyId=68294400</td>\n",
       "      <td>None</td>\n",
       "      <td>https://api.hh.ru/vacancies/68294400?host=hh.ru</td>\n",
       "      <td>https://api.hh.ru/vacancies/68294400/adv_response?host=hh.ru</td>\n",
       "      <td>https://hh.ru/vacancy/68294400</td>\n",
       "      <td>[]</td>\n",
       "      <td>{'id': '127256', 'name': 'СИНЕРГИЯ', 'url': 'https://api.hh.ru/employers/127256', 'alternate_url': 'https://hh.ru/employer/127256', 'logo_urls': {'90': 'https://hhcdn.ru/employer-logo/2964900.png', '240': 'https://hhcdn.ru/employer-logo/2964901.png', 'original': 'https://hhcdn.ru/employer-logo-original/630937.png'}, 'vacancies_url': 'https://api.hh.ru/vacancies?employer_id=127256', 'trusted': True}</td>\n",
       "      <td>{'requirement': 'Хорошее знание TSQL. Знание Power Query как преимущество. Продвинутый пользователь Excel. Опыт самостоятельного программирования. Грамотная устная и письменная речь. ', 'responsibility': 'Анализ и оптимизация форм отчетности. Написание &lt;highlighttext&gt;SQL&lt;/highlighttext&gt; запросов различной сложности (основная часть работы). Визуализация отчетности в Exсel. Формирование новых форм...'}</td>\n",
       "      <td>None</td>\n",
       "      <td>{'id': 'fullDay', 'name': 'Полный день'}</td>\n",
       "      <td>{'responses': 562}</td>\n",
       "      <td>[]</td>\n",
       "      <td>[]</td>\n",
       "      <td>[]</td>\n",
       "      <td>False</td>\n",
       "      <td>noExperience</td>\n",
       "      <td>СИНЕРГИЯ</td>\n",
       "      <td>NaN</td>\n",
       "      <td>NaN</td>\n",
       "      <td>69000.0</td>\n",
       "      <td>True</td>\n",
       "      <td>RUR</td>\n",
       "      <td>562</td>\n",
       "      <td>Москва</td>\n",
       "      <td>NaN</td>\n",
       "    </tr>\n",
       "  </tbody>\n",
       "</table>\n",
       "</div>"
      ],
      "text/plain": [
       "          id  premium                            name  \\\n",
       "0   39904397  False    Продуктовый аналитик             \n",
       "1   69135650  False    Контролер-аналитик               \n",
       "2   36705054  False    Бизнес-аналитик                  \n",
       "3   69128258  False    Младший антифрод аналитик        \n",
       "4   68609068  False    Стажер/Аналитик 1С               \n",
       "5   67752555  False    Аналитик BI                      \n",
       "6   68675219  False    Риск-аналитик                    \n",
       "7   69106572  False    Стажер Data Аналитик             \n",
       "10  69105717  False    Стажер в направлении Аналитика   \n",
       "11  68294400  False    Младший аналитик                 \n",
       "\n",
       "                                                  department  has_test  \\\n",
       "0   None                                                      False      \n",
       "1   None                                                      False      \n",
       "2   None                                                      False      \n",
       "3   None                                                      False      \n",
       "4   None                                                      False      \n",
       "5   {'id': '1449-1449-mbs', 'name': 'Медиа Бизнес Солюшенс'}  False      \n",
       "6   None                                                      False      \n",
       "7   {'id': '3529-3529-it', 'name': 'Сбер. IT'}                False      \n",
       "10  None                                                      False      \n",
       "11  None                                                      False      \n",
       "\n",
       "    response_letter_required  \\\n",
       "0   False                      \n",
       "1   False                      \n",
       "2   False                      \n",
       "3   False                      \n",
       "4   False                      \n",
       "5   False                      \n",
       "6   False                      \n",
       "7   False                      \n",
       "10  False                      \n",
       "11  False                      \n",
       "\n",
       "                                                                 area  \\\n",
       "0   {'id': '1', 'name': 'Москва', 'url': 'https://api.hh.ru/areas/1'}   \n",
       "1   {'id': '1', 'name': 'Москва', 'url': 'https://api.hh.ru/areas/1'}   \n",
       "2   {'id': '1', 'name': 'Москва', 'url': 'https://api.hh.ru/areas/1'}   \n",
       "3   {'id': '1', 'name': 'Москва', 'url': 'https://api.hh.ru/areas/1'}   \n",
       "4   {'id': '1', 'name': 'Москва', 'url': 'https://api.hh.ru/areas/1'}   \n",
       "5   {'id': '1', 'name': 'Москва', 'url': 'https://api.hh.ru/areas/1'}   \n",
       "6   {'id': '1', 'name': 'Москва', 'url': 'https://api.hh.ru/areas/1'}   \n",
       "7   {'id': '1', 'name': 'Москва', 'url': 'https://api.hh.ru/areas/1'}   \n",
       "10  {'id': '1', 'name': 'Москва', 'url': 'https://api.hh.ru/areas/1'}   \n",
       "11  {'id': '1', 'name': 'Москва', 'url': 'https://api.hh.ru/areas/1'}   \n",
       "\n",
       "                                                             salary  \\\n",
       "0   None                                                              \n",
       "1   None                                                              \n",
       "2   None                                                              \n",
       "3   None                                                              \n",
       "4   {'from': 40000, 'to': 70000, 'currency': 'RUR', 'gross': False}   \n",
       "5   None                                                              \n",
       "6   {'from': None, 'to': 100000, 'currency': 'RUR', 'gross': True}    \n",
       "7   None                                                              \n",
       "10  {'from': None, 'to': 30000, 'currency': 'RUR', 'gross': True}     \n",
       "11  {'from': None, 'to': 69000, 'currency': 'RUR', 'gross': True}     \n",
       "\n",
       "                                  type  \\\n",
       "0   {'id': 'open', 'name': 'Открытая'}   \n",
       "1   {'id': 'open', 'name': 'Открытая'}   \n",
       "2   {'id': 'open', 'name': 'Открытая'}   \n",
       "3   {'id': 'open', 'name': 'Открытая'}   \n",
       "4   {'id': 'open', 'name': 'Открытая'}   \n",
       "5   {'id': 'open', 'name': 'Открытая'}   \n",
       "6   {'id': 'open', 'name': 'Открытая'}   \n",
       "7   {'id': 'open', 'name': 'Открытая'}   \n",
       "10  {'id': 'open', 'name': 'Открытая'}   \n",
       "11  {'id': 'open', 'name': 'Открытая'}   \n",
       "\n",
       "                                                                                                                                                                                                                                                                                                                                                                                                                                                                                                                                                                                                                                address  \\\n",
       "0   {'city': 'Москва', 'street': 'Головинское шоссе', 'building': '5', 'description': None, 'lat': 55.84024, 'lng': 37.492024, 'raw': 'Москва, Головинское шоссе, 5', 'metro': {'station_name': 'Водный стадион', 'line_name': 'Замоскворецкая', 'station_id': '2.29', 'line_id': '2', 'lat': 55.838978, 'lng': 37.487515}, 'metro_stations': [{'station_name': 'Водный стадион', 'line_name': 'Замоскворецкая', 'station_id': '2.29', 'line_id': '2', 'lat': 55.838978, 'lng': 37.487515}], 'id': '643441'}                                                                                                                              \n",
       "1   None                                                                                                                                                                                                                                                                                                                                                                                                                                                                                                                                                                                                                                  \n",
       "2   {'city': 'Москва', 'street': 'Замоскворецкая линия', 'building': 'метро Водный Стадион', 'description': None, 'lat': 55.840209, 'lng': 37.486616, 'raw': 'Москва, Замоскворецкая линия, метро Водный Стадион', 'metro': {'station_name': 'Водный стадион', 'line_name': 'Замоскворецкая', 'station_id': '2.29', 'line_id': '2', 'lat': 55.838978, 'lng': 37.487515}, 'metro_stations': [{'station_name': 'Водный стадион', 'line_name': 'Замоскворецкая', 'station_id': '2.29', 'line_id': '2', 'lat': 55.838978, 'lng': 37.487515}], 'id': '178897'}                                                                                 \n",
       "3   {'city': 'Москва', 'street': 'Замоскворецкая линия', 'building': 'метро Технопарк', 'description': None, 'lat': 55.694482443, 'lng': 37.663312201, 'raw': 'Москва, Замоскворецкая линия, метро Технопарк', 'metro': None, 'metro_stations': [], 'id': '7589118'}                                                                                                                                                                                                                                                                                                                                                                      \n",
       "4   {'city': 'Новомосковский административный округ', 'street': 'Киевское шоссе, 22-й километр', 'building': 'дв4с4кЕ', 'description': None, 'lat': 55.637017, 'lng': 37.434954, 'raw': 'Новомосковский административный округ, Киевское шоссе, 22-й километр, дв4с4кЕ', 'metro': {'station_name': 'Румянцево', 'line_name': 'Сокольническая', 'station_id': '1.513', 'line_id': '1', 'lat': 55.633, 'lng': 37.4419}, 'metro_stations': [{'station_name': 'Румянцево', 'line_name': 'Сокольническая', 'station_id': '1.513', 'line_id': '1', 'lat': 55.633, 'lng': 37.4419}], 'id': '2663913'}                                            \n",
       "5   {'city': 'Москва', 'street': 'Варшавское шоссе', 'building': '9с1', 'description': None, 'lat': 55.699467, 'lng': 37.625594, 'raw': 'Москва, Варшавское шоссе, 9с1', 'metro': {'station_name': 'Тульская', 'line_name': 'Серпуховско-Тимирязевская', 'station_id': '9.142', 'line_id': '9', 'lat': 55.70961, 'lng': 37.622569}, 'metro_stations': [{'station_name': 'Тульская', 'line_name': 'Серпуховско-Тимирязевская', 'station_id': '9.142', 'line_id': '9', 'lat': 55.70961, 'lng': 37.622569}], 'id': '3859255'}                                                                                                                \n",
       "6   None                                                                                                                                                                                                                                                                                                                                                                                                                                                                                                                                                                                                                                  \n",
       "7   {'city': 'Москва', 'street': 'Кутузовский проспект', 'building': '32к1', 'description': None, 'lat': 55.741338, 'lng': 37.531127, 'raw': 'Москва, Кутузовский проспект, 32к1', 'metro': {'station_name': 'Кутузовская', 'line_name': 'Филевская', 'station_id': '4.73', 'line_id': '4', 'lat': 55.740544, 'lng': 37.5341}, 'metro_stations': [{'station_name': 'Кутузовская', 'line_name': 'Филевская', 'station_id': '4.73', 'line_id': '4', 'lat': 55.740544, 'lng': 37.5341}, {'station_name': 'Кутузовская', 'line_name': 'МЦК', 'station_id': '95.536', 'line_id': '95', 'lat': 55.740833, 'lng': 37.533333}], 'id': '731097'}   \n",
       "10  None                                                                                                                                                                                                                                                                                                                                                                                                                                                                                                                                                                                                                                  \n",
       "11  {'city': None, 'street': None, 'building': None, 'description': None, 'lat': None, 'lng': None, 'raw': 'Москва, Ленинградский проспект, 80г, метро Сокол', 'metro': None, 'metro_stations': [], 'id': '351533'}                                                                                                                                                                                                                                                                                                                                                                                                                       \n",
       "\n",
       "   response_url sort_point_distance published_at                created_at  \\\n",
       "0   None         None               2022-08-24    2022-08-24T14:52:54+0300   \n",
       "1   None         None               2022-08-24    2022-08-24T14:38:42+0300   \n",
       "2   None         None               2022-08-24    2022-08-24T14:53:12+0300   \n",
       "3   None         None               2022-08-24    2022-08-24T12:28:15+0300   \n",
       "4   None         None               2022-08-24    2022-08-24T13:32:05+0300   \n",
       "5   None         None               2022-08-22    2022-08-22T12:13:22+0300   \n",
       "6   None         None               2022-08-23    2022-08-23T09:31:42+0300   \n",
       "7   None         None               2022-08-23    2022-08-23T18:55:26+0300   \n",
       "10  None         None               2022-08-23    2022-08-23T18:37:03+0300   \n",
       "11  None         None               2022-08-22    2022-08-22T17:29:48+0300   \n",
       "\n",
       "    archived                                          apply_alternate_url  \\\n",
       "0   False     https://hh.ru/applicant/vacancy_response?vacancyId=39904397   \n",
       "1   False     https://hh.ru/applicant/vacancy_response?vacancyId=69135650   \n",
       "2   False     https://hh.ru/applicant/vacancy_response?vacancyId=36705054   \n",
       "3   False     https://hh.ru/applicant/vacancy_response?vacancyId=69128258   \n",
       "4   False     https://hh.ru/applicant/vacancy_response?vacancyId=68609068   \n",
       "5   False     https://hh.ru/applicant/vacancy_response?vacancyId=67752555   \n",
       "6   False     https://hh.ru/applicant/vacancy_response?vacancyId=68675219   \n",
       "7   False     https://hh.ru/applicant/vacancy_response?vacancyId=69106572   \n",
       "10  False     https://hh.ru/applicant/vacancy_response?vacancyId=69105717   \n",
       "11  False     https://hh.ru/applicant/vacancy_response?vacancyId=68294400   \n",
       "\n",
       "   insider_interview                                              url  \\\n",
       "0   None              https://api.hh.ru/vacancies/39904397?host=hh.ru   \n",
       "1   None              https://api.hh.ru/vacancies/69135650?host=hh.ru   \n",
       "2   None              https://api.hh.ru/vacancies/36705054?host=hh.ru   \n",
       "3   None              https://api.hh.ru/vacancies/69128258?host=hh.ru   \n",
       "4   None              https://api.hh.ru/vacancies/68609068?host=hh.ru   \n",
       "5   None              https://api.hh.ru/vacancies/67752555?host=hh.ru   \n",
       "6   None              https://api.hh.ru/vacancies/68675219?host=hh.ru   \n",
       "7   None              https://api.hh.ru/vacancies/69106572?host=hh.ru   \n",
       "10  None              https://api.hh.ru/vacancies/69105717?host=hh.ru   \n",
       "11  None              https://api.hh.ru/vacancies/68294400?host=hh.ru   \n",
       "\n",
       "                                                adv_response_url  \\\n",
       "0   https://api.hh.ru/vacancies/39904397/adv_response?host=hh.ru   \n",
       "1   https://api.hh.ru/vacancies/69135650/adv_response?host=hh.ru   \n",
       "2   https://api.hh.ru/vacancies/36705054/adv_response?host=hh.ru   \n",
       "3   https://api.hh.ru/vacancies/69128258/adv_response?host=hh.ru   \n",
       "4   https://api.hh.ru/vacancies/68609068/adv_response?host=hh.ru   \n",
       "5   https://api.hh.ru/vacancies/67752555/adv_response?host=hh.ru   \n",
       "6   https://api.hh.ru/vacancies/68675219/adv_response?host=hh.ru   \n",
       "7   https://api.hh.ru/vacancies/69106572/adv_response?host=hh.ru   \n",
       "10  https://api.hh.ru/vacancies/69105717/adv_response?host=hh.ru   \n",
       "11  https://api.hh.ru/vacancies/68294400/adv_response?host=hh.ru   \n",
       "\n",
       "                     alternate_url relations  \\\n",
       "0   https://hh.ru/vacancy/39904397  []         \n",
       "1   https://hh.ru/vacancy/69135650  []         \n",
       "2   https://hh.ru/vacancy/36705054  []         \n",
       "3   https://hh.ru/vacancy/69128258  []         \n",
       "4   https://hh.ru/vacancy/68609068  []         \n",
       "5   https://hh.ru/vacancy/67752555  []         \n",
       "6   https://hh.ru/vacancy/68675219  []         \n",
       "7   https://hh.ru/vacancy/69106572  []         \n",
       "10  https://hh.ru/vacancy/69105717  []         \n",
       "11  https://hh.ru/vacancy/68294400  []         \n",
       "\n",
       "                                                                                                                                                                                                                                                                                                                                                                                                                   employer  \\\n",
       "0   {'id': '78638', 'name': 'Тинькофф', 'url': 'https://api.hh.ru/employers/78638', 'alternate_url': 'https://hh.ru/employer/78638', 'logo_urls': {'240': 'https://hhcdn.ru/employer-logo/3452962.png', '90': 'https://hhcdn.ru/employer-logo/3452961.png', 'original': 'https://hhcdn.ru/employer-logo-original/753000.png'}, 'vacancies_url': 'https://api.hh.ru/vacancies?employer_id=78638', 'trusted': True}             \n",
       "1   {'id': '73886', 'name': 'LPP', 'url': 'https://api.hh.ru/employers/73886', 'alternate_url': 'https://hh.ru/employer/73886', 'logo_urls': None, 'vacancies_url': 'https://api.hh.ru/vacancies?employer_id=73886', 'trusted': True}                                                                                                                                                                                         \n",
       "2   {'id': '78638', 'name': 'Тинькофф', 'url': 'https://api.hh.ru/employers/78638', 'alternate_url': 'https://hh.ru/employer/78638', 'logo_urls': {'240': 'https://hhcdn.ru/employer-logo/3452962.png', '90': 'https://hhcdn.ru/employer-logo/3452961.png', 'original': 'https://hhcdn.ru/employer-logo-original/753000.png'}, 'vacancies_url': 'https://api.hh.ru/vacancies?employer_id=78638', 'trusted': True}             \n",
       "3   {'id': '4482374', 'name': 'Медиапоинт', 'url': 'https://api.hh.ru/employers/4482374', 'alternate_url': 'https://hh.ru/employer/4482374', 'logo_urls': {'90': 'https://hhcdn.ru/employer-logo/3310392.png', '240': 'https://hhcdn.ru/employer-logo/3310393.png', 'original': 'https://hhcdn.ru/employer-logo-original/717319.png'}, 'vacancies_url': 'https://api.hh.ru/vacancies?employer_id=4482374', 'trusted': True}   \n",
       "4   {'id': '2208439', 'name': 'Гензис', 'url': 'https://api.hh.ru/employers/2208439', 'alternate_url': 'https://hh.ru/employer/2208439', 'logo_urls': {'original': 'https://hhcdn.ru/employer-logo-original/699088.jpg', '90': 'https://hhcdn.ru/employer-logo/3237468.jpeg', '240': 'https://hhcdn.ru/employer-logo/3237469.jpeg'}, 'vacancies_url': 'https://api.hh.ru/vacancies?employer_id=2208439', 'trusted': True}     \n",
       "5   {'id': '1449', 'name': 'Медиа Бизнес Солюшенс', 'url': 'https://api.hh.ru/employers/1449', 'alternate_url': 'https://hh.ru/employer/1449', 'logo_urls': {'240': 'https://hhcdn.ru/employer-logo/3409110.png', '90': 'https://hhcdn.ru/employer-logo/3409109.png', 'original': 'https://hhcdn.ru/employer-logo-original/742037.png'}, 'vacancies_url': 'https://api.hh.ru/vacancies?employer_id=1449', 'trusted': True}    \n",
       "6   {'id': '3785152', 'name': 'Eqvanta', 'url': 'https://api.hh.ru/employers/3785152', 'alternate_url': 'https://hh.ru/employer/3785152', 'logo_urls': {'90': 'https://hhcdn.ru/employer-logo/2837759.png', '240': 'https://hhcdn.ru/employer-logo/2837760.png', 'original': 'https://hhcdn.ru/employer-logo-original/599126.png'}, 'vacancies_url': 'https://api.hh.ru/vacancies?employer_id=3785152', 'trusted': True}      \n",
       "7   {'id': '3529', 'name': 'СБЕР', 'url': 'https://api.hh.ru/employers/3529', 'alternate_url': 'https://hh.ru/employer/3529', 'logo_urls': {'original': 'https://hhcdn.ru/employer-logo-original/868362.JPG', '90': 'https://hhcdn.ru/employer-logo/3914323.jpeg', '240': 'https://hhcdn.ru/employer-logo/3914324.jpeg'}, 'vacancies_url': 'https://api.hh.ru/vacancies?employer_id=3529', 'trusted': True}                   \n",
       "10  {'id': '4309', 'name': 'Ингосстрах', 'url': 'https://api.hh.ru/employers/4309', 'alternate_url': 'https://hh.ru/employer/4309', 'logo_urls': {'original': 'https://hhcdn.ru/employer-logo-original/689727.png', '240': 'https://hhcdn.ru/employer-logo/3200041.png', '90': 'https://hhcdn.ru/employer-logo/3200040.png'}, 'vacancies_url': 'https://api.hh.ru/vacancies?employer_id=4309', 'trusted': True}               \n",
       "11  {'id': '127256', 'name': 'СИНЕРГИЯ', 'url': 'https://api.hh.ru/employers/127256', 'alternate_url': 'https://hh.ru/employer/127256', 'logo_urls': {'90': 'https://hhcdn.ru/employer-logo/2964900.png', '240': 'https://hhcdn.ru/employer-logo/2964901.png', 'original': 'https://hhcdn.ru/employer-logo-original/630937.png'}, 'vacancies_url': 'https://api.hh.ru/vacancies?employer_id=127256', 'trusted': True}         \n",
       "\n",
       "                                                                                                                                                                                                                                                                                                                                                                                                                                                                                                        snippet  \\\n",
       "0   {'requirement': 'Умение аргументированно отстаивать свою точку зрения. Опыт работы хотя бы с одним из языков программирования (базовые алгоритмы) или знание <highlighttext>SQL</highlighttext>.', 'responsibility': '...гипотез по развитию проектов. Проектировать модель данных и ключевую отчетность на направлении. Самостоятельно выявлять и закрывать потребность команды в <highlighttext>аналитике</highlighttext>.'}                                                                                \n",
       "1   {'requirement': 'Знание основ Power BI (Power Query, Power Pivot, язык DAX). Базовые знания <highlighttext>SQL</highlighttext>. Понимание принципов работы с базами данных, OLAP...', 'responsibility': 'Предоставление данных по запросу от различных департаментов. Доработка существующих отчетов, автоматизация средствами MS Excel (VBA), Power BI (DAX) и <highlighttext>SQL</highlighttext>...'}                                                                                                       \n",
       "2   {'requirement': 'МГУ (мехмат, ВМК, физфак), МФТИ, ВШЭ (ФКН, Математика, Бизнес-информатика) – предпочтительно. Знание <highlighttext>SQL</highlighttext>, Python будет плюсом. Приветствуются знания основ машинного...', 'responsibility': 'Много и эффективно работать головой, думать, креативить, созидать, творить. Штурмовать проблемы, выдвигать идеи. Воплощать идеи в жизнь, ставить ТЗ для...'}                                                                                                     \n",
       "3   {'requirement': 'Коммуникабельность, стрессоустойчивость, пунктуальность, обучаемость. Желание учить новое и развиваться. Является преимуществом: Навыки работы с базами данных. Знание <highlighttext>SQL</highlighttext>. ', 'responsibility': 'Обработка предупреждений правил антифрода. Идентификация клиентов. Анализ игровой активности клиентов на выявление несоответствия правилам компании.'}                                                                                                      \n",
       "4   {'requirement': 'Высшее техническое или экономическое образование. Готовность работать по 40 часов в неделю. Желание учиться и развиваться. Этичность, терпеливость, умение спокойно...', 'responsibility': 'Получить задачу от клиента, поставить на ее основе задачу <highlighttext>программисту</highlighttext>, проверить качество, сдать клиенту.'}                                                                                                                                                      \n",
       "5   {'requirement': 'Опыт полного цикла разработки дашбордов: сбор требований, дизайн, разработка, оптимизация скорости работы, помощь с внедрением в рабочие процессы заказчика. ', 'responsibility': 'Оптимизация и улучшение имеющихся процессов, связанных с разработкой BI-<highlighttext>аналитики</highlighttext>. Поддержка и оптимизация существующей системы отчетности. Помогать бизнесу начать работу...'}                                                                                            \n",
       "6   {'requirement': 'Знания языка <highlighttext>SQL</highlighttext>. Уверенные знания MS Excel. Аналитический склад ума. Знание основ теории вероятности и комбинаторики. Знание английского языка на...', 'responsibility': 'Анализ риск показателей по текущему портфелю международного бизнеса и соответствующему изменению риск политик с целью обеспечение планового уровня риска. '}                                                                                                                       \n",
       "7   {'requirement': 'Высшее/незаконченное высшее образование, специализация: ИТ, математика, техническое образование. Хорошее знание <highlighttext>SQL</highlighttext>, написание сложных, длинных запросов\\процедур. Желателен опыт работы...', 'responsibility': '...<highlighttext>аналитик</highlighttext> в команду управления моделированием и исследованием данных. Задачи: Участие в подготовке аналитических витрин данных. Формирование отчетности на основе <highlighttext>sql</highlighttext>...'}   \n",
       "10  {'requirement': 'Нет опыта? Мы всему научим! Главное твои аналитические навыки и готовность получать новые знания! ТРЕБОВАНИЯ К КАНДИДАТАМ: - Студенты в том...', 'responsibility': 'КЛИЕНТСКАЯ <highlighttext>АНАЛИТИКА</highlighttext> – <highlighttext>Аналитика</highlighttext> онлайн-бизнеса: разработка отчетов по клиентам и продажам, построение <highlighttext>SQL</highlighttext> запросов к базам данных, визуализация данных, подготовка...'}                                                    \n",
       "11  {'requirement': 'Хорошее знание TSQL. Знание Power Query как преимущество. Продвинутый пользователь Excel. Опыт самостоятельного программирования. Грамотная устная и письменная речь. ', 'responsibility': 'Анализ и оптимизация форм отчетности. Написание <highlighttext>SQL</highlighttext> запросов различной сложности (основная часть работы). Визуализация отчетности в Exсel. Формирование новых форм...'}                                                                                           \n",
       "\n",
       "   contacts                                      schedule            counters  \\\n",
       "0   None     {'id': 'fullDay', 'name': 'Полный день'}      {'responses': 4}     \n",
       "1   None     {'id': 'fullDay', 'name': 'Полный день'}      {'responses': 1}     \n",
       "2   None     {'id': 'fullDay', 'name': 'Полный день'}      {'responses': 8}     \n",
       "3   None     {'id': 'shift', 'name': 'Сменный график'}     {'responses': 34}    \n",
       "4   None     {'id': 'fullDay', 'name': 'Полный день'}      {'responses': 214}   \n",
       "5   None     {'id': 'fullDay', 'name': 'Полный день'}      {'responses': 14}    \n",
       "6   None     {'id': 'remote', 'name': 'Удаленная работа'}  {'responses': 575}   \n",
       "7   None     {'id': 'fullDay', 'name': 'Полный день'}      {'responses': 227}   \n",
       "10  None     {'id': 'fullDay', 'name': 'Полный день'}      {'responses': 195}   \n",
       "11  None     {'id': 'fullDay', 'name': 'Полный день'}      {'responses': 562}   \n",
       "\n",
       "   working_days working_time_intervals working_time_modes  accept_temporary  \\\n",
       "0   []           []                     []                 False              \n",
       "1   []           []                     []                 False              \n",
       "2   []           []                     []                 False              \n",
       "3   []           []                     []                 False              \n",
       "4   []           []                     []                 False              \n",
       "5   []           []                     []                 False              \n",
       "6   []           []                     []                 False              \n",
       "7   []           []                     []                 False              \n",
       "10  []           []                     []                 False              \n",
       "11  []           []                     []                 False              \n",
       "\n",
       "      experience          employer_name        department_name  salary_from  \\\n",
       "0   noExperience  Тинькофф               NaN                   NaN            \n",
       "1   noExperience  LPP                    NaN                   NaN            \n",
       "2   noExperience  Тинькофф               NaN                   NaN            \n",
       "3   noExperience  Медиапоинт             NaN                   NaN            \n",
       "4   noExperience  Гензис                 NaN                    40000.0       \n",
       "5   noExperience  Медиа Бизнес Солюшенс  Медиа Бизнес Солюшенс NaN            \n",
       "6   noExperience  Eqvanta                NaN                   NaN            \n",
       "7   noExperience  СБЕР                   Сбер. IT              NaN            \n",
       "10  noExperience  Ингосстрах             NaN                   NaN            \n",
       "11  noExperience  СИНЕРГИЯ               NaN                   NaN            \n",
       "\n",
       "    salary_to salary_gross salary_currency  responses    city           metro  \n",
       "0  NaN         NaN          NaN             4          Москва  Водный стадион  \n",
       "1  NaN         NaN          NaN             1          Москва  NaN             \n",
       "2  NaN         NaN          NaN             8          Москва  Водный стадион  \n",
       "3  NaN         NaN          NaN             34         Москва  NaN             \n",
       "4   70000.0    False        RUR             214        Москва  Румянцево       \n",
       "5  NaN         NaN          NaN             14         Москва  Тульская        \n",
       "6   100000.0   True         RUR             575        Москва  NaN             \n",
       "7  NaN         NaN          NaN             227        Москва  Кутузовская     \n",
       "10  30000.0    True         RUR             195        Москва  NaN             \n",
       "11  69000.0    True         RUR             562        Москва  NaN             "
      ]
     },
     "execution_count": 39,
     "metadata": {},
     "output_type": "execute_result"
    }
   ],
   "source": [
    "city_vacs.head(10)"
   ]
  },
  {
   "cell_type": "markdown",
   "metadata": {},
   "source": [
    "### Посмотрим содержание вакансий"
   ]
  },
  {
   "cell_type": "markdown",
   "metadata": {},
   "source": [
    "Сделаем срез вакансий по интересному нам опыту (до 3 лет)"
   ]
  },
  {
   "cell_type": "code",
   "execution_count": 40,
   "metadata": {},
   "outputs": [],
   "source": [
    "vacs_df = city_vacs.copy().reset_index(drop=True).query(\"experience in ['noExperience', 'between1And3']\")"
   ]
  },
  {
   "cell_type": "code",
   "execution_count": 41,
   "metadata": {},
   "outputs": [
    {
     "name": "stdout",
     "output_type": "stream",
     "text": [
      "<class 'pandas.core.frame.DataFrame'>\n",
      "Int64Index: 283 entries, 0 to 282\n",
      "Data columns (total 40 columns):\n",
      " #   Column                    Non-Null Count  Dtype         \n",
      "---  ------                    --------------  -----         \n",
      " 0   id                        283 non-null    object        \n",
      " 1   premium                   283 non-null    bool          \n",
      " 2   name                      283 non-null    object        \n",
      " 3   department                45 non-null     object        \n",
      " 4   has_test                  283 non-null    bool          \n",
      " 5   response_letter_required  283 non-null    bool          \n",
      " 6   area                      283 non-null    object        \n",
      " 7   salary                    50 non-null     object        \n",
      " 8   type                      283 non-null    object        \n",
      " 9   address                   179 non-null    object        \n",
      " 10  response_url              0 non-null      object        \n",
      " 11  sort_point_distance       0 non-null      object        \n",
      " 12  published_at              283 non-null    datetime64[ns]\n",
      " 13  created_at                283 non-null    object        \n",
      " 14  archived                  283 non-null    bool          \n",
      " 15  apply_alternate_url       283 non-null    object        \n",
      " 16  insider_interview         3 non-null      object        \n",
      " 17  url                       283 non-null    object        \n",
      " 18  adv_response_url          283 non-null    object        \n",
      " 19  alternate_url             283 non-null    object        \n",
      " 20  relations                 283 non-null    object        \n",
      " 21  employer                  283 non-null    object        \n",
      " 22  snippet                   283 non-null    object        \n",
      " 23  contacts                  0 non-null      object        \n",
      " 24  schedule                  283 non-null    object        \n",
      " 25  counters                  283 non-null    object        \n",
      " 26  working_days              283 non-null    object        \n",
      " 27  working_time_intervals    283 non-null    object        \n",
      " 28  working_time_modes        283 non-null    object        \n",
      " 29  accept_temporary          283 non-null    bool          \n",
      " 30  experience                283 non-null    object        \n",
      " 31  employer_name             283 non-null    object        \n",
      " 32  department_name           45 non-null     object        \n",
      " 33  salary_from               41 non-null     float64       \n",
      " 34  salary_to                 37 non-null     float64       \n",
      " 35  salary_gross              50 non-null     object        \n",
      " 36  salary_currency           50 non-null     object        \n",
      " 37  responses                 283 non-null    int64         \n",
      " 38  city                      283 non-null    object        \n",
      " 39  metro                     123 non-null    object        \n",
      "dtypes: bool(5), datetime64[ns](1), float64(2), int64(1), object(31)\n",
      "memory usage: 81.0+ KB\n"
     ]
    }
   ],
   "source": [
    "vacs_df.info()"
   ]
  },
  {
   "cell_type": "markdown",
   "metadata": {},
   "source": [
    "Выведем адреса"
   ]
  },
  {
   "cell_type": "code",
   "execution_count": 42,
   "metadata": {},
   "outputs": [
    {
     "data": {
      "text/plain": [
       "0    https://api.hh.ru/vacancies/39904397?host=hh.ru\n",
       "1    https://api.hh.ru/vacancies/69135650?host=hh.ru\n",
       "2    https://api.hh.ru/vacancies/36705054?host=hh.ru\n",
       "3    https://api.hh.ru/vacancies/69128258?host=hh.ru\n",
       "4    https://api.hh.ru/vacancies/68609068?host=hh.ru\n",
       "Name: url, dtype: object"
      ]
     },
     "execution_count": 42,
     "metadata": {},
     "output_type": "execute_result"
    }
   ],
   "source": [
    "vacs_df['url'].head()"
   ]
  },
  {
   "cell_type": "markdown",
   "metadata": {},
   "source": [
    "С помощью библиотек json и requests получим нужную информацию, добавим магии и обобразим HTML"
   ]
  },
  {
   "cell_type": "code",
   "execution_count": 43,
   "metadata": {},
   "outputs": [
    {
     "data": {
      "text/html": [
       "<p><strong>Департамент строительства г. Москвы ищет кандидатов на должность BI-аналитика.</strong></p><br /><strong>Обязанности:</strong> <ul> <li>Опыт работы в BI-платформах, включая разработку;</li> <li>Начальный, средний уровень SQL (select, join, group, order, partition, case, pivot);</li> <li>Хорошее знание Excel;</li> <li>Общие знания баз данных;</li> <li>Базовые знания MS Office</li> </ul> <strong>Требования:</strong> <ul> <li>Анализ потребностей пользователей по созданию и развитию автоматизированной отчетности ИС</li> <li>Разработка, корректировка, настройка и тестирование запросов (sql-запросы, Запросы по показателям) для создания автоматизированных отчетов</li> <li>Разработка, корректировка, настройка и тестирование автоматизированных отчетов в Stimulsoft и др. BI-платформах</li> <li>Участие в процессе сопровождения и техподдержки автоматизированных отчетных форм</li> <li>Консультационная поддержка логики работы автоматизированных отчетов</li> <li>Написание специальных разовых запросов (sql-запросы, Запросы по показателям) при работе с большими массивами данных</li> <li>Аналитика потребностей пользователей в оптимизации и модернизации ИС</li> <li>Участвовать в обсуждениях по реализации новых аналитических форм</li> <li>Участвовать в обсуждении развития ИС</li> <li>Высшее образование</li> </ul> <strong>Условия:</strong> <ul> <li>Официальное трудоустройство, полностью белая зп.</li> <li>Комфортный офис в центре Москвы на ст. м Охотный ряд/Площадь Революции/Театральная</li> <li>Нормированный график работы 5/2, с 8:00-17:00</li> <li>Квартальная премия</li> </ul>"
      ],
      "text/plain": [
       "<IPython.core.display.HTML object>"
      ]
     },
     "execution_count": 43,
     "metadata": {},
     "output_type": "execute_result"
    }
   ],
   "source": [
    "HTML(json.loads(requests.get('https://api.hh.ru/vacancies/54738037?host=hh.ru').text)['description'])"
   ]
  },
  {
   "cell_type": "markdown",
   "metadata": {},
   "source": [
    "Сохраним информацию в читаемом виде"
   ]
  },
  {
   "cell_type": "code",
   "execution_count": 44,
   "metadata": {},
   "outputs": [],
   "source": [
    "vacs = vacs_df['url'].apply(lambda x: HTML(json.loads(requests.get(x).text)['description']))"
   ]
  },
  {
   "cell_type": "code",
   "execution_count": 45,
   "metadata": {},
   "outputs": [
    {
     "data": {
      "text/html": [
       "<strong>Обязанности:</strong> <ul> <li>Анализ и оптимизация форм отчетности;</li> <li>Написание SQL запросов различной сложности (основная часть работы);</li> <li>Визуализация отчетности в Exсel;</li> <li>Формирование новых форм отчетности по запросу руководства;</li> <li>Взаимодействие с Руководителями подразделений по вопросам, связанным с отчетностью по их отделам;</li> </ul> <strong>Требования:</strong> <ul> <li>Хорошее знание TSQL;</li> <li>Знание Power Query как преимущество;</li> <li>Продвинутый пользователь Excel</li> <li>Опыт самостоятельного программирования;</li> <li>Грамотная устная и письменная речь;</li> <li>Деловой стиль одежды;</li> </ul> <strong>Условия:</strong> <ul> <li>Заработная плата 69 000 руб. до налогообложения;</li> <li>Оформление по ТК РФ с первого дня работы;</li> <li>График работы: 5/2, с 9:00 до 18:00 ч.;</li> <li>Работа в современном офисе в пешей доступности от м. Сокол;</li> <li>Гибкая система скидок для сотрудников и ближайших родственников на обучение по любому направлению до 100%;</li> <li>Бесплатный доступ к платформе Synergy Online, где проходят на постоянной основе трансляции форумов, конференций и мастер-классов.</li> <li>Возможность посещать форумы, тренинги и семинары ведущих спикеров России и мира за счет компании;</li> <li>Сотрудники Корпорации получают доступ к корпоративной электронной библиотеке, в которой собрано более 1000 бизнес-изданий</li> <li>Посещение спортклуба Synergy Gym, занятия Synergy Mix Training и Synergy MMA Gym (тренажерный зал, бокс, единоборства, функциональный тренинг, йога и др.);</li> </ul>"
      ],
      "text/plain": [
       "<IPython.core.display.HTML object>"
      ]
     },
     "execution_count": 45,
     "metadata": {},
     "output_type": "execute_result"
    }
   ],
   "source": [
    "vacs[9]"
   ]
  },
  {
   "cell_type": "markdown",
   "metadata": {},
   "source": [
    "### Добавим кнопки"
   ]
  },
  {
   "cell_type": "code",
   "execution_count": 46,
   "metadata": {
    "scrolled": false
   },
   "outputs": [
    {
     "data": {
      "application/vnd.jupyter.widget-view+json": {
       "model_id": "c2fe1abfdfaf4e3dbf2c83e8c38a632c",
       "version_major": 2,
       "version_minor": 0
      },
      "text/plain": [
       "Button(description='Вперед', style=ButtonStyle())"
      ]
     },
     "metadata": {},
     "output_type": "display_data"
    },
    {
     "data": {
      "application/vnd.jupyter.widget-view+json": {
       "model_id": "c9d2d76e17d34da695e2d48348013f4f",
       "version_major": 2,
       "version_minor": 0
      },
      "text/plain": [
       "Button(description='Назад', style=ButtonStyle())"
      ]
     },
     "metadata": {},
     "output_type": "display_data"
    },
    {
     "data": {
      "application/vnd.jupyter.widget-view+json": {
       "model_id": "f998d38bc7044daa9f43d6abd9a6ea23",
       "version_major": 2,
       "version_minor": 0
      },
      "text/plain": [
       "Output()"
      ]
     },
     "metadata": {},
     "output_type": "display_data"
    }
   ],
   "source": [
    "button1 = widgets.Button(description=\"Вперед\")\n",
    "button2 = widgets.Button(description=\"Назад\")\n",
    "output = widgets.Output()\n",
    "\n",
    "display(button1, button2, output);\n",
    "\n",
    "counter = -1\n",
    "\n",
    "def on_clicked1(b):\n",
    "    with output:\n",
    "        try:\n",
    "            global counter\n",
    "            clear_output()\n",
    "            counter += 1\n",
    "            print('№ Вакансии: ', counter)\n",
    "            metro = 'Не указано' if pd.isna(vacs_df['metro'][counter]) else str(vacs_df['metro'][counter]) \n",
    "            display(HTML(\"<h1>\" + str(vacs_df['name'][counter]) + ' в ' + str(vacs_df['employer_name'][counter])))\n",
    "            display(HTML('Город <b>' + str(vacs_df['city'][counter]) + '</b> Станция метро <b>' + metro + '</b>'))\n",
    "            display(HTML('Дата публикации <b>' + vacs_df['published_at'][counter].strftime(\"%d %b %Y\") + '</b>'))\n",
    "            display(HTML('<a href=\"' + str(vacs_df['alternate_url'][counter]) + '\" target=\"_blank\">Ссылка на вакансию</a>'))\n",
    "            display(vacs[counter])            \n",
    "        except Exception as e:\n",
    "            print('Вакансии закончились')    \n",
    "\n",
    "            \n",
    "def on_clicked2(b):\n",
    "    with output:\n",
    "        try:\n",
    "            global counter\n",
    "            clear_output()\n",
    "            counter -= 1\n",
    "            if counter < 0: counter = 0\n",
    "            print('№ Вакансии: ', counter)\n",
    "            metro = 'Не указано' if pd.isna(vacs_df['metro'][counter]) else str(vacs_df['metro'][counter])\n",
    "            display(HTML(\"<h1>\" + str(vacs_df['name'][counter]) + ' в ' + str(vacs_df['employer_name'][counter])))\n",
    "            display(HTML('Город <b>' + str(vacs_df['city'][counter]) + '</b> Станция метро <b>' + metro + '</b>'))\n",
    "            display(HTML('Дата публикации <b>' + vacs_df['published_at'][counter].strftime(\"%d %b %Y\") + '</b>'))\n",
    "            display(HTML('<a href=\"' + str(vacs_df['alternate_url'][counter]) + '\" target=\"_blank\">Ссылка на вакансию</a>'))\n",
    "            display(vacs[counter])            \n",
    "        except Exception as e:\n",
    "            print('Вакансии закончились')                \n",
    "            \n",
    "button1.on_click(on_clicked1)\n",
    "button2.on_click(on_clicked2)  "
   ]
  },
  {
   "cell_type": "markdown",
   "metadata": {},
   "source": [
    "С помощью библиотеки BeautifulSoup извлечем данные из HTML"
   ]
  },
  {
   "cell_type": "code",
   "execution_count": 47,
   "metadata": {},
   "outputs": [],
   "source": [
    "from bs4 import BeautifulSoup"
   ]
  },
  {
   "cell_type": "markdown",
   "metadata": {},
   "source": [
    "долго грузит данные, отключил"
   ]
  },
  {
   "cell_type": "code",
   "execution_count": 51,
   "metadata": {
    "scrolled": false
   },
   "outputs": [],
   "source": [
    "#vacs2 = vacs_df['url'].apply(lambda x: BeautifulSoup(json.loads(requests.get(x).text)['description']).get_text())"
   ]
  },
  {
   "cell_type": "code",
   "execution_count": 52,
   "metadata": {},
   "outputs": [],
   "source": [
    "#vacs2[3]"
   ]
  },
  {
   "cell_type": "code",
   "execution_count": null,
   "metadata": {},
   "outputs": [],
   "source": []
  }
 ],
 "metadata": {
  "ExecuteTimeLog": [
   {
    "duration": 1864,
    "start_time": "2021-06-10T15:00:38.070Z"
   },
   {
    "duration": 20,
    "start_time": "2021-06-10T15:00:39.937Z"
   },
   {
    "duration": 9,
    "start_time": "2021-06-10T15:00:39.960Z"
   },
   {
    "duration": 24,
    "start_time": "2021-06-10T15:00:39.972Z"
   },
   {
    "duration": 34,
    "start_time": "2021-06-10T15:00:39.998Z"
   },
   {
    "duration": 14,
    "start_time": "2021-06-10T15:00:40.035Z"
   },
   {
    "duration": 32,
    "start_time": "2021-06-10T15:00:40.052Z"
   },
   {
    "duration": 43,
    "start_time": "2021-06-10T15:00:40.089Z"
   },
   {
    "duration": 39,
    "start_time": "2021-06-10T15:00:40.135Z"
   },
   {
    "duration": 6,
    "start_time": "2021-06-10T15:00:40.177Z"
   },
   {
    "duration": 57,
    "start_time": "2021-06-10T15:00:40.186Z"
   },
   {
    "duration": 832,
    "start_time": "2021-06-10T15:00:40.245Z"
   },
   {
    "duration": 166,
    "start_time": "2021-06-10T15:00:41.080Z"
   },
   {
    "duration": 17,
    "start_time": "2021-06-10T15:00:41.249Z"
   },
   {
    "duration": 30,
    "start_time": "2021-06-10T15:00:41.269Z"
   },
   {
    "duration": 40,
    "start_time": "2021-06-10T15:00:41.301Z"
   },
   {
    "duration": 9,
    "start_time": "2021-06-10T15:00:41.344Z"
   },
   {
    "duration": 26,
    "start_time": "2021-06-10T15:00:41.356Z"
   },
   {
    "duration": 47,
    "start_time": "2021-06-10T15:00:41.385Z"
   },
   {
    "duration": 22,
    "start_time": "2021-06-10T15:00:41.435Z"
   },
   {
    "duration": 68,
    "start_time": "2021-06-10T15:00:41.460Z"
   },
   {
    "duration": 13,
    "start_time": "2021-06-10T15:00:41.532Z"
   },
   {
    "duration": 8,
    "start_time": "2021-06-10T15:00:41.554Z"
   },
   {
    "duration": 431,
    "start_time": "2021-06-10T15:00:41.565Z"
   },
   {
    "duration": 4,
    "start_time": "2021-06-10T15:00:41.999Z"
   },
   {
    "duration": 129,
    "start_time": "2021-06-10T15:00:42.006Z"
   },
   {
    "duration": 9,
    "start_time": "2021-06-10T15:00:42.138Z"
   },
   {
    "duration": 21,
    "start_time": "2021-06-10T15:00:42.149Z"
   },
   {
    "duration": 82,
    "start_time": "2021-06-10T15:00:42.173Z"
   },
   {
    "duration": 11,
    "start_time": "2021-06-10T15:00:42.257Z"
   },
   {
    "duration": 58,
    "start_time": "2021-06-10T15:00:42.270Z"
   },
   {
    "duration": 12,
    "start_time": "2021-06-10T15:00:42.330Z"
   },
   {
    "duration": 54,
    "start_time": "2021-06-10T15:00:42.345Z"
   },
   {
    "duration": 25,
    "start_time": "2021-06-10T15:00:42.402Z"
   },
   {
    "duration": 29,
    "start_time": "2021-06-10T15:00:42.430Z"
   },
   {
    "duration": 21,
    "start_time": "2021-06-10T15:00:42.463Z"
   },
   {
    "duration": 55,
    "start_time": "2021-06-10T15:00:42.486Z"
   },
   {
    "duration": 12,
    "start_time": "2021-06-10T15:00:42.544Z"
   },
   {
    "duration": 8,
    "start_time": "2021-06-10T15:00:42.558Z"
   },
   {
    "duration": 9,
    "start_time": "2021-06-10T15:00:42.570Z"
   },
   {
    "duration": 55,
    "start_time": "2021-06-10T15:00:42.581Z"
   },
   {
    "duration": 370,
    "start_time": "2021-06-10T15:00:42.638Z"
   },
   {
    "duration": 85,
    "start_time": "2021-06-10T15:00:43.011Z"
   },
   {
    "duration": 53,
    "start_time": "2021-06-10T15:00:43.099Z"
   },
   {
    "duration": 540,
    "start_time": "2021-06-10T15:00:43.155Z"
   },
   {
    "duration": 48,
    "start_time": "2021-06-10T15:00:43.698Z"
   },
   {
    "duration": 578,
    "start_time": "2021-06-10T15:00:43.749Z"
   },
   {
    "duration": 28,
    "start_time": "2021-06-10T15:00:44.331Z"
   },
   {
    "duration": 513,
    "start_time": "2021-06-10T15:00:44.362Z"
   },
   {
    "duration": 27,
    "start_time": "2021-06-10T15:00:44.878Z"
   },
   {
    "duration": 536,
    "start_time": "2021-06-10T15:00:44.907Z"
   },
   {
    "duration": 29,
    "start_time": "2021-06-10T15:00:45.446Z"
   },
   {
    "duration": 590,
    "start_time": "2021-06-10T15:00:45.478Z"
   },
   {
    "duration": 30,
    "start_time": "2021-06-10T15:00:46.070Z"
   },
   {
    "duration": 25,
    "start_time": "2021-06-10T15:00:46.102Z"
   },
   {
    "duration": 12,
    "start_time": "2021-06-10T15:00:46.131Z"
   },
   {
    "duration": 11,
    "start_time": "2021-06-10T15:00:46.145Z"
   },
   {
    "duration": 9,
    "start_time": "2021-06-10T15:00:46.158Z"
   },
   {
    "duration": 56,
    "start_time": "2021-06-10T15:00:46.169Z"
   },
   {
    "duration": 10,
    "start_time": "2021-06-10T15:00:46.228Z"
   },
   {
    "duration": 190,
    "start_time": "2021-06-10T15:00:46.241Z"
   },
   {
    "duration": 305,
    "start_time": "2021-06-10T15:00:46.433Z"
   },
   {
    "duration": 487,
    "start_time": "2021-06-10T15:10:19.089Z"
   },
   {
    "duration": 6,
    "start_time": "2021-06-10T15:10:23.105Z"
   },
   {
    "duration": 28,
    "start_time": "2021-06-10T15:11:21.759Z"
   },
   {
    "duration": 10,
    "start_time": "2021-06-10T15:11:47.582Z"
   },
   {
    "duration": 77,
    "start_time": "2021-06-10T15:13:01.319Z"
   },
   {
    "duration": 117,
    "start_time": "2021-07-02T15:21:10.959Z"
   },
   {
    "duration": 97,
    "start_time": "2021-07-02T15:28:14.754Z"
   },
   {
    "duration": 1332,
    "start_time": "2021-08-17T01:52:44.081Z"
   },
   {
    "duration": 316,
    "start_time": "2021-08-17T01:52:45.416Z"
   },
   {
    "duration": 10,
    "start_time": "2021-08-17T01:52:45.735Z"
   },
   {
    "duration": 19,
    "start_time": "2021-08-17T01:52:45.748Z"
   },
   {
    "duration": 17,
    "start_time": "2021-08-17T01:52:45.770Z"
   },
   {
    "duration": 15,
    "start_time": "2021-08-17T01:52:45.790Z"
   },
   {
    "duration": 20,
    "start_time": "2021-08-17T01:52:45.808Z"
   },
   {
    "duration": 19,
    "start_time": "2021-08-17T01:52:45.831Z"
   },
   {
    "duration": 17,
    "start_time": "2021-08-17T01:52:45.853Z"
   },
   {
    "duration": 8,
    "start_time": "2021-08-17T01:52:45.882Z"
   },
   {
    "duration": 22,
    "start_time": "2021-08-17T01:52:45.892Z"
   },
   {
    "duration": 295,
    "start_time": "2021-08-17T01:52:45.916Z"
   },
   {
    "duration": 10,
    "start_time": "2021-08-17T01:52:46.214Z"
   },
   {
    "duration": 264,
    "start_time": "2021-08-17T01:52:46.227Z"
   },
   {
    "duration": 9,
    "start_time": "2021-08-17T01:52:46.494Z"
   },
   {
    "duration": 15,
    "start_time": "2021-08-17T01:52:46.506Z"
   },
   {
    "duration": 770,
    "start_time": "2021-08-17T01:52:46.524Z"
   },
   {
    "duration": 627,
    "start_time": "2021-08-17T01:52:47.296Z"
   },
   {
    "duration": 17,
    "start_time": "2021-08-17T01:52:47.926Z"
   },
   {
    "duration": 697,
    "start_time": "2021-08-17T01:52:47.946Z"
   },
   {
    "duration": 641,
    "start_time": "2021-08-17T01:52:48.645Z"
   },
   {
    "duration": 16,
    "start_time": "2021-08-17T01:52:49.289Z"
   },
   {
    "duration": 716,
    "start_time": "2021-08-17T01:52:49.311Z"
   },
   {
    "duration": 16,
    "start_time": "2021-08-17T01:52:50.030Z"
   },
   {
    "duration": 490,
    "start_time": "2021-08-17T01:52:50.049Z"
   },
   {
    "duration": 8,
    "start_time": "2021-08-17T01:52:50.542Z"
   },
   {
    "duration": 324,
    "start_time": "2021-08-17T01:52:50.553Z"
   },
   {
    "duration": 490,
    "start_time": "2021-08-17T01:52:50.882Z"
   },
   {
    "duration": 6,
    "start_time": "2021-08-17T01:52:51.382Z"
   },
   {
    "duration": 8,
    "start_time": "2021-08-17T01:52:51.390Z"
   },
   {
    "duration": 15,
    "start_time": "2021-08-17T01:52:51.400Z"
   },
   {
    "duration": 10,
    "start_time": "2021-08-17T01:52:51.418Z"
   },
   {
    "duration": 10,
    "start_time": "2021-08-17T01:52:51.430Z"
   },
   {
    "duration": 7,
    "start_time": "2021-08-17T01:52:51.442Z"
   },
   {
    "duration": 5,
    "start_time": "2021-08-17T01:52:51.482Z"
   },
   {
    "duration": 12,
    "start_time": "2021-08-17T01:52:51.490Z"
   },
   {
    "duration": 11,
    "start_time": "2021-08-17T01:52:51.504Z"
   },
   {
    "duration": 10,
    "start_time": "2021-08-17T01:52:51.517Z"
   },
   {
    "duration": 58,
    "start_time": "2021-08-17T01:52:51.529Z"
   },
   {
    "duration": 12,
    "start_time": "2021-08-17T01:52:51.589Z"
   },
   {
    "duration": 10,
    "start_time": "2021-08-17T01:52:51.603Z"
   },
   {
    "duration": 10,
    "start_time": "2021-08-17T01:52:51.616Z"
   },
   {
    "duration": 6,
    "start_time": "2021-08-17T01:52:51.628Z"
   },
   {
    "duration": 59,
    "start_time": "2021-08-17T01:52:51.637Z"
   },
   {
    "duration": 18,
    "start_time": "2021-08-17T01:52:51.698Z"
   },
   {
    "duration": 12,
    "start_time": "2021-08-17T01:59:15.459Z"
   },
   {
    "duration": 440,
    "start_time": "2021-08-17T02:12:31.562Z"
   },
   {
    "duration": 4,
    "start_time": "2021-08-17T02:12:41.325Z"
   },
   {
    "duration": 5,
    "start_time": "2021-08-17T02:12:47.159Z"
   },
   {
    "duration": 1599,
    "start_time": "2021-08-28T20:17:28.705Z"
   },
   {
    "duration": 195,
    "start_time": "2021-08-28T20:17:30.306Z"
   },
   {
    "duration": 4,
    "start_time": "2021-08-28T20:17:30.504Z"
   },
   {
    "duration": 23,
    "start_time": "2021-08-28T20:17:30.510Z"
   },
   {
    "duration": 4,
    "start_time": "2021-08-28T20:17:30.535Z"
   },
   {
    "duration": 76,
    "start_time": "2021-08-28T20:17:30.541Z"
   },
   {
    "duration": 66,
    "start_time": "2021-08-28T20:17:30.619Z"
   },
   {
    "duration": 32,
    "start_time": "2021-08-28T20:17:30.689Z"
   },
   {
    "duration": 19,
    "start_time": "2021-08-28T20:17:30.723Z"
   },
   {
    "duration": 3,
    "start_time": "2021-08-28T20:17:30.744Z"
   },
   {
    "duration": 51,
    "start_time": "2021-08-28T20:17:30.749Z"
   },
   {
    "duration": 28,
    "start_time": "2021-08-28T20:17:30.802Z"
   },
   {
    "duration": 7,
    "start_time": "2021-08-28T20:17:30.832Z"
   },
   {
    "duration": 13,
    "start_time": "2021-08-28T20:17:30.840Z"
   },
   {
    "duration": 412,
    "start_time": "2021-08-28T20:17:30.855Z"
   },
   {
    "duration": 19,
    "start_time": "2021-08-28T20:17:31.269Z"
   },
   {
    "duration": 13,
    "start_time": "2021-08-28T20:17:31.289Z"
   },
   {
    "duration": 29,
    "start_time": "2021-08-28T20:17:31.303Z"
   },
   {
    "duration": 21,
    "start_time": "2021-08-28T20:17:31.333Z"
   },
   {
    "duration": 33,
    "start_time": "2021-08-28T20:17:31.355Z"
   },
   {
    "duration": 23,
    "start_time": "2021-08-28T20:17:31.389Z"
   },
   {
    "duration": 59,
    "start_time": "2021-08-28T20:17:31.413Z"
   },
   {
    "duration": 20,
    "start_time": "2021-08-28T20:17:31.476Z"
   },
   {
    "duration": 513,
    "start_time": "2021-08-28T20:17:31.497Z"
   },
   {
    "duration": 5,
    "start_time": "2021-08-28T20:17:32.012Z"
   },
   {
    "duration": 12,
    "start_time": "2021-08-28T20:17:32.019Z"
   },
   {
    "duration": 11,
    "start_time": "2021-08-28T20:17:32.032Z"
   },
   {
    "duration": 51,
    "start_time": "2021-08-28T20:17:32.044Z"
   },
   {
    "duration": 99,
    "start_time": "2021-08-28T20:17:32.097Z"
   },
   {
    "duration": 5,
    "start_time": "2021-08-28T20:17:32.198Z"
   },
   {
    "duration": 31,
    "start_time": "2021-08-28T20:17:32.205Z"
   },
   {
    "duration": 69,
    "start_time": "2021-08-28T20:17:32.238Z"
   },
   {
    "duration": 3,
    "start_time": "2021-08-28T20:17:32.308Z"
   },
   {
    "duration": 10,
    "start_time": "2021-08-28T20:17:32.313Z"
   },
   {
    "duration": 21,
    "start_time": "2021-08-28T20:17:32.325Z"
   },
   {
    "duration": 231,
    "start_time": "2021-08-28T20:17:32.348Z"
   },
   {
    "duration": 21,
    "start_time": "2021-08-28T20:17:32.584Z"
   },
   {
    "duration": 6,
    "start_time": "2021-08-28T20:17:32.606Z"
   },
   {
    "duration": 16,
    "start_time": "2021-08-28T20:17:32.614Z"
   },
   {
    "duration": 7,
    "start_time": "2021-08-28T20:17:32.631Z"
   },
   {
    "duration": 12,
    "start_time": "2021-08-28T20:17:32.640Z"
   },
   {
    "duration": 48,
    "start_time": "2021-08-28T20:17:32.654Z"
   },
   {
    "duration": 14,
    "start_time": "2021-08-28T20:17:32.704Z"
   },
   {
    "duration": 12,
    "start_time": "2021-08-28T20:17:32.719Z"
   },
   {
    "duration": 11,
    "start_time": "2021-08-28T20:17:32.732Z"
   },
   {
    "duration": 6,
    "start_time": "2021-08-28T20:25:30.785Z"
   },
   {
    "duration": 185,
    "start_time": "2021-08-28T20:25:30.793Z"
   },
   {
    "duration": 4,
    "start_time": "2021-08-28T20:25:30.986Z"
   },
   {
    "duration": 22,
    "start_time": "2021-08-28T20:25:30.992Z"
   },
   {
    "duration": 7,
    "start_time": "2021-08-28T20:25:31.015Z"
   },
   {
    "duration": 45,
    "start_time": "2021-08-28T20:25:31.023Z"
   },
   {
    "duration": 50,
    "start_time": "2021-08-28T20:25:31.084Z"
   },
   {
    "duration": 25,
    "start_time": "2021-08-28T20:25:31.137Z"
   },
   {
    "duration": 38,
    "start_time": "2021-08-28T20:25:31.164Z"
   },
   {
    "duration": 4,
    "start_time": "2021-08-28T20:25:31.204Z"
   },
   {
    "duration": 31,
    "start_time": "2021-08-28T20:25:31.210Z"
   },
   {
    "duration": 9,
    "start_time": "2021-08-28T20:25:31.243Z"
   },
   {
    "duration": 13,
    "start_time": "2021-08-28T20:25:31.254Z"
   },
   {
    "duration": 16,
    "start_time": "2021-08-28T20:25:31.269Z"
   },
   {
    "duration": 401,
    "start_time": "2021-08-28T20:25:31.287Z"
   },
   {
    "duration": 18,
    "start_time": "2021-08-28T20:25:31.690Z"
   },
   {
    "duration": 3,
    "start_time": "2021-08-28T20:25:31.710Z"
   },
   {
    "duration": 10,
    "start_time": "2021-08-28T20:25:31.714Z"
   },
   {
    "duration": 6,
    "start_time": "2021-08-28T20:25:31.725Z"
   },
   {
    "duration": 55,
    "start_time": "2021-08-28T20:25:31.732Z"
   },
   {
    "duration": 26,
    "start_time": "2021-08-28T20:25:31.789Z"
   },
   {
    "duration": 52,
    "start_time": "2021-08-28T20:25:31.817Z"
   },
   {
    "duration": 14,
    "start_time": "2021-08-28T20:25:31.885Z"
   },
   {
    "duration": 124,
    "start_time": "2021-08-28T20:25:31.902Z"
   },
   {
    "duration": 6,
    "start_time": "2021-08-28T20:25:32.028Z"
   },
   {
    "duration": 15,
    "start_time": "2021-08-28T20:25:32.035Z"
   },
   {
    "duration": 10,
    "start_time": "2021-08-28T20:25:32.052Z"
   },
   {
    "duration": 23,
    "start_time": "2021-08-28T20:25:32.063Z"
   },
   {
    "duration": 31,
    "start_time": "2021-08-28T20:25:32.088Z"
   },
   {
    "duration": 3,
    "start_time": "2021-08-28T20:25:32.121Z"
   },
   {
    "duration": 33,
    "start_time": "2021-08-28T20:25:32.126Z"
   },
   {
    "duration": 46,
    "start_time": "2021-08-28T20:25:32.161Z"
   },
   {
    "duration": 3,
    "start_time": "2021-08-28T20:25:32.208Z"
   },
   {
    "duration": 10,
    "start_time": "2021-08-28T20:25:32.212Z"
   },
   {
    "duration": 30,
    "start_time": "2021-08-28T20:25:32.223Z"
   },
   {
    "duration": 129,
    "start_time": "2021-08-28T20:25:32.255Z"
   },
   {
    "duration": 21,
    "start_time": "2021-08-28T20:25:32.386Z"
   },
   {
    "duration": 8,
    "start_time": "2021-08-28T20:25:32.409Z"
   },
   {
    "duration": 23,
    "start_time": "2021-08-28T20:25:32.419Z"
   },
   {
    "duration": 7,
    "start_time": "2021-08-28T20:25:32.444Z"
   },
   {
    "duration": 15,
    "start_time": "2021-08-28T20:25:32.452Z"
   },
   {
    "duration": 15,
    "start_time": "2021-08-28T20:25:32.486Z"
   },
   {
    "duration": 13,
    "start_time": "2021-08-28T20:25:32.504Z"
   },
   {
    "duration": 16,
    "start_time": "2021-08-28T20:25:32.518Z"
   },
   {
    "duration": 14,
    "start_time": "2021-08-28T20:25:32.535Z"
   },
   {
    "duration": 1542,
    "start_time": "2021-08-28T20:53:15.762Z"
   },
   {
    "duration": 174,
    "start_time": "2021-08-28T20:53:17.306Z"
   },
   {
    "duration": 4,
    "start_time": "2021-08-28T20:53:17.484Z"
   },
   {
    "duration": 18,
    "start_time": "2021-08-28T20:53:17.491Z"
   },
   {
    "duration": 4,
    "start_time": "2021-08-28T20:53:17.510Z"
   },
   {
    "duration": 50,
    "start_time": "2021-08-28T20:53:17.515Z"
   },
   {
    "duration": 58,
    "start_time": "2021-08-28T20:53:17.585Z"
   },
   {
    "duration": 44,
    "start_time": "2021-08-28T20:53:17.646Z"
   },
   {
    "duration": 25,
    "start_time": "2021-08-28T20:53:17.692Z"
   },
   {
    "duration": 4,
    "start_time": "2021-08-28T20:53:17.719Z"
   },
   {
    "duration": 22,
    "start_time": "2021-08-28T20:53:17.725Z"
   },
   {
    "duration": 4,
    "start_time": "2021-08-28T20:53:17.749Z"
   },
   {
    "duration": 31,
    "start_time": "2021-08-28T20:53:17.755Z"
   },
   {
    "duration": 6,
    "start_time": "2021-08-28T20:53:17.787Z"
   },
   {
    "duration": 407,
    "start_time": "2021-08-28T20:53:17.795Z"
   },
   {
    "duration": 15,
    "start_time": "2021-08-28T20:53:18.204Z"
   },
   {
    "duration": 3,
    "start_time": "2021-08-28T20:53:18.220Z"
   },
   {
    "duration": 14,
    "start_time": "2021-08-28T20:53:18.225Z"
   },
   {
    "duration": 13,
    "start_time": "2021-08-28T20:53:18.241Z"
   },
   {
    "duration": 56,
    "start_time": "2021-08-28T20:53:18.257Z"
   },
   {
    "duration": 38,
    "start_time": "2021-08-28T20:53:18.315Z"
   },
   {
    "duration": 76,
    "start_time": "2021-08-28T20:53:18.355Z"
   },
   {
    "duration": 13,
    "start_time": "2021-08-28T20:53:18.435Z"
   },
   {
    "duration": 558,
    "start_time": "2021-08-28T20:53:18.450Z"
   },
   {
    "duration": 6,
    "start_time": "2021-08-28T20:53:19.010Z"
   },
   {
    "duration": 20,
    "start_time": "2021-08-28T20:53:19.017Z"
   },
   {
    "duration": 7,
    "start_time": "2021-08-28T20:53:19.038Z"
   },
   {
    "duration": 13,
    "start_time": "2021-08-28T20:53:19.085Z"
   },
   {
    "duration": 31,
    "start_time": "2021-08-28T20:53:19.100Z"
   },
   {
    "duration": 52,
    "start_time": "2021-08-28T20:53:19.133Z"
   },
   {
    "duration": 32,
    "start_time": "2021-08-28T20:53:19.188Z"
   },
   {
    "duration": 23,
    "start_time": "2021-08-28T20:53:19.222Z"
   },
   {
    "duration": 40,
    "start_time": "2021-08-28T20:53:19.246Z"
   },
   {
    "duration": 15,
    "start_time": "2021-08-28T20:53:19.288Z"
   },
   {
    "duration": 25,
    "start_time": "2021-08-28T20:53:19.304Z"
   },
   {
    "duration": 235,
    "start_time": "2021-08-28T20:53:19.330Z"
   },
   {
    "duration": 19,
    "start_time": "2021-08-28T20:53:19.567Z"
   },
   {
    "duration": 6,
    "start_time": "2021-08-28T20:53:19.588Z"
   },
   {
    "duration": 19,
    "start_time": "2021-08-28T20:53:19.597Z"
   },
   {
    "duration": 7,
    "start_time": "2021-08-28T20:53:19.617Z"
   },
   {
    "duration": 12,
    "start_time": "2021-08-28T20:53:19.625Z"
   },
   {
    "duration": 13,
    "start_time": "2021-08-28T20:53:19.638Z"
   },
   {
    "duration": 44,
    "start_time": "2021-08-28T20:53:19.653Z"
   },
   {
    "duration": 22,
    "start_time": "2021-08-28T20:53:19.699Z"
   },
   {
    "duration": 11,
    "start_time": "2021-08-28T20:53:19.723Z"
   },
   {
    "duration": 5,
    "start_time": "2021-08-28T21:14:35.038Z"
   },
   {
    "duration": 14,
    "start_time": "2021-08-28T21:14:36.172Z"
   },
   {
    "duration": 5,
    "start_time": "2021-08-28T21:14:53.981Z"
   },
   {
    "duration": 15,
    "start_time": "2021-08-28T21:14:55.686Z"
   },
   {
    "duration": 4,
    "start_time": "2021-08-30T15:57:10.457Z"
   },
   {
    "duration": 4,
    "start_time": "2021-08-30T15:57:12.824Z"
   },
   {
    "duration": 74540,
    "start_time": "2021-08-30T15:59:17.842Z"
   },
   {
    "duration": 24948,
    "start_time": "2021-08-30T16:13:34.977Z"
   },
   {
    "duration": 11,
    "start_time": "2021-08-30T16:14:07.184Z"
   },
   {
    "duration": 22,
    "start_time": "2021-08-30T16:14:07.198Z"
   },
   {
    "duration": 335,
    "start_time": "2021-08-30T16:14:07.223Z"
   },
   {
    "duration": 31,
    "start_time": "2021-08-30T16:14:07.562Z"
   },
   {
    "duration": 7,
    "start_time": "2021-08-30T16:14:07.597Z"
   },
   {
    "duration": 107,
    "start_time": "2021-08-30T16:14:07.606Z"
   },
   {
    "duration": 104,
    "start_time": "2021-08-30T16:14:07.716Z"
   },
   {
    "duration": 38,
    "start_time": "2021-08-30T16:14:07.824Z"
   },
   {
    "duration": 28,
    "start_time": "2021-08-30T16:14:07.882Z"
   },
   {
    "duration": 6,
    "start_time": "2021-08-30T16:14:07.912Z"
   },
   {
    "duration": 35,
    "start_time": "2021-08-30T16:14:07.920Z"
   },
   {
    "duration": 42,
    "start_time": "2021-08-30T16:14:07.957Z"
   },
   {
    "duration": 7,
    "start_time": "2021-08-30T16:14:08.002Z"
   },
   {
    "duration": 8,
    "start_time": "2021-08-30T16:14:08.012Z"
   },
   {
    "duration": 804,
    "start_time": "2021-08-30T16:14:08.022Z"
   },
   {
    "duration": 23,
    "start_time": "2021-08-30T16:14:08.829Z"
   },
   {
    "duration": 5,
    "start_time": "2021-08-30T16:14:08.855Z"
   },
   {
    "duration": 43,
    "start_time": "2021-08-30T16:14:08.862Z"
   },
   {
    "duration": 10,
    "start_time": "2021-08-30T16:14:08.907Z"
   },
   {
    "duration": 81,
    "start_time": "2021-08-30T16:14:08.920Z"
   },
   {
    "duration": 28,
    "start_time": "2021-08-30T16:14:09.004Z"
   },
   {
    "duration": 101,
    "start_time": "2021-08-30T16:14:09.034Z"
   },
   {
    "duration": 11,
    "start_time": "2021-08-30T16:14:09.140Z"
   },
   {
    "duration": 8,
    "start_time": "2021-08-30T16:14:09.154Z"
   },
   {
    "duration": 866,
    "start_time": "2021-08-30T16:14:09.164Z"
   },
   {
    "duration": 8,
    "start_time": "2021-08-30T16:14:10.033Z"
   },
   {
    "duration": 39,
    "start_time": "2021-08-30T16:14:10.044Z"
   },
   {
    "duration": 8,
    "start_time": "2021-08-30T16:14:10.086Z"
   },
   {
    "duration": 11,
    "start_time": "2021-08-30T16:14:10.097Z"
   },
   {
    "duration": 108,
    "start_time": "2021-08-30T16:14:10.111Z"
   },
   {
    "duration": 5,
    "start_time": "2021-08-30T16:14:10.221Z"
   },
   {
    "duration": 96,
    "start_time": "2021-08-30T16:14:10.228Z"
   },
   {
    "duration": 88,
    "start_time": "2021-08-30T16:14:10.327Z"
   },
   {
    "duration": 3,
    "start_time": "2021-08-30T16:14:10.417Z"
   },
   {
    "duration": 7,
    "start_time": "2021-08-30T16:14:10.423Z"
   },
   {
    "duration": 12,
    "start_time": "2021-08-30T16:14:10.433Z"
   },
   {
    "duration": 67,
    "start_time": "2021-08-30T16:14:10.448Z"
   },
   {
    "duration": 210,
    "start_time": "2021-08-30T16:14:10.518Z"
   },
   {
    "duration": 26,
    "start_time": "2021-08-30T16:14:10.730Z"
   },
   {
    "duration": 27,
    "start_time": "2021-08-30T16:14:10.759Z"
   },
   {
    "duration": 31,
    "start_time": "2021-08-30T16:14:10.789Z"
   },
   {
    "duration": 9,
    "start_time": "2021-08-30T16:14:10.822Z"
   },
   {
    "duration": 58,
    "start_time": "2021-08-30T16:14:10.835Z"
   },
   {
    "duration": 18,
    "start_time": "2021-08-30T16:14:10.897Z"
   },
   {
    "duration": 21,
    "start_time": "2021-08-30T16:14:10.918Z"
   },
   {
    "duration": 64,
    "start_time": "2021-08-30T16:14:10.942Z"
   },
   {
    "duration": 33,
    "start_time": "2021-08-30T16:14:11.009Z"
   },
   {
    "duration": 1183,
    "start_time": "2021-08-30T16:14:11.045Z"
   },
   {
    "duration": -27,
    "start_time": "2021-08-30T16:14:12.258Z"
   },
   {
    "duration": 3,
    "start_time": "2021-11-29T08:21:40.609Z"
   },
   {
    "duration": 1718,
    "start_time": "2021-11-29T08:21:40.615Z"
   },
   {
    "duration": 3,
    "start_time": "2021-11-29T08:21:42.335Z"
   },
   {
    "duration": 91,
    "start_time": "2021-11-29T08:21:42.341Z"
   },
   {
    "duration": 8,
    "start_time": "2021-11-29T08:21:42.434Z"
   },
   {
    "duration": 45,
    "start_time": "2021-11-29T08:21:42.444Z"
   },
   {
    "duration": 15,
    "start_time": "2021-11-29T08:21:42.491Z"
   },
   {
    "duration": 3999,
    "start_time": "2021-11-29T08:21:42.508Z"
   },
   {
    "duration": 21,
    "start_time": "2021-11-29T08:21:46.510Z"
   },
   {
    "duration": 1272,
    "start_time": "2021-11-29T08:21:46.533Z"
   },
   {
    "duration": 9,
    "start_time": "2021-11-29T08:21:47.807Z"
   },
   {
    "duration": 5,
    "start_time": "2021-11-29T08:21:47.818Z"
   },
   {
    "duration": 201,
    "start_time": "2021-11-29T08:21:47.825Z"
   },
   {
    "duration": 6,
    "start_time": "2021-11-29T08:21:48.028Z"
   },
   {
    "duration": 561,
    "start_time": "2021-11-29T08:21:48.036Z"
   },
   {
    "duration": 87658,
    "start_time": "2021-11-29T08:21:48.599Z"
   },
   {
    "duration": 1941,
    "start_time": "2021-11-29T08:23:16.259Z"
   },
   {
    "duration": 19,
    "start_time": "2021-11-29T08:23:18.202Z"
   },
   {
    "duration": 6096,
    "start_time": "2021-11-29T08:23:18.222Z"
   },
   {
    "duration": 9,
    "start_time": "2021-11-29T08:23:24.320Z"
   },
   {
    "duration": 402,
    "start_time": "2021-12-01T06:39:32.546Z"
   },
   {
    "duration": 98,
    "start_time": "2021-12-17T17:29:00.739Z"
   },
   {
    "duration": 2941,
    "start_time": "2021-12-17T17:29:06.831Z"
   },
   {
    "duration": 6,
    "start_time": "2021-12-17T17:29:09.776Z"
   },
   {
    "duration": 160,
    "start_time": "2021-12-17T17:29:15.018Z"
   },
   {
    "duration": 12,
    "start_time": "2021-12-17T17:29:17.798Z"
   },
   {
    "duration": 144,
    "start_time": "2021-12-17T17:29:45.674Z"
   },
   {
    "duration": 97,
    "start_time": "2021-12-17T18:48:28.914Z"
   },
   {
    "duration": 129,
    "start_time": "2021-12-17T18:50:22.798Z"
   },
   {
    "duration": 93,
    "start_time": "2021-12-17T18:55:47.720Z"
   }
  ],
  "kernelspec": {
   "display_name": "Python 3 (ipykernel)",
   "language": "python",
   "name": "python3"
  },
  "language_info": {
   "codemirror_mode": {
    "name": "ipython",
    "version": 3
   },
   "file_extension": ".py",
   "mimetype": "text/x-python",
   "name": "python",
   "nbconvert_exporter": "python",
   "pygments_lexer": "ipython3",
   "version": "3.9.7"
  },
  "toc": {
   "base_numbering": 1,
   "nav_menu": {},
   "number_sections": true,
   "sideBar": true,
   "skip_h1_title": true,
   "title_cell": "Содержание",
   "title_sidebar": "Contents",
   "toc_cell": true,
   "toc_position": {
    "height": "886.969px",
    "left": "397px",
    "top": "182px",
    "width": "165px"
   },
   "toc_section_display": true,
   "toc_window_display": true
  },
  "varInspector": {
   "cols": {
    "lenName": 16,
    "lenType": 16,
    "lenVar": 40
   },
   "kernels_config": {
    "python": {
     "delete_cmd_postfix": "",
     "delete_cmd_prefix": "del ",
     "library": "var_list.py",
     "varRefreshCmd": "print(var_dic_list())"
    },
    "r": {
     "delete_cmd_postfix": ") ",
     "delete_cmd_prefix": "rm(",
     "library": "var_list.r",
     "varRefreshCmd": "cat(var_dic_list()) "
    }
   },
   "types_to_exclude": [
    "module",
    "function",
    "builtin_function_or_method",
    "instance",
    "_Feature"
   ],
   "window_display": false
  }
 },
 "nbformat": 4,
 "nbformat_minor": 4
}
